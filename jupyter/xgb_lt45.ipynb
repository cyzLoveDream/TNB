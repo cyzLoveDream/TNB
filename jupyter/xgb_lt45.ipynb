{
 "cells": [
  {
   "cell_type": "markdown",
   "metadata": {
    "toc": true
   },
   "source": [
    "<h1>Table of Contents<span class=\"tocSkip\"></span></h1>\n",
    "<div class=\"toc\" style=\"margin-top: 1em;\"><ul class=\"toc-item\"><li><span><a href=\"#导入相关的包\" data-toc-modified-id=\"导入相关的包-1\"><span class=\"toc-item-num\">1&nbsp;&nbsp;</span>导入相关的包</a></span></li><li><span><a href=\"#导入相关数据\" data-toc-modified-id=\"导入相关数据-2\"><span class=\"toc-item-num\">2&nbsp;&nbsp;</span>导入相关数据</a></span></li><li><span><a href=\"#形成训练数据\" data-toc-modified-id=\"形成训练数据-3\"><span class=\"toc-item-num\">3&nbsp;&nbsp;</span>形成训练数据</a></span></li><li><span><a href=\"#训练模型\" data-toc-modified-id=\"训练模型-4\"><span class=\"toc-item-num\">4&nbsp;&nbsp;</span>训练模型</a></span></li></ul></div>"
   ]
  },
  {
   "cell_type": "markdown",
   "metadata": {},
   "source": [
    "# 导入相关的包"
   ]
  },
  {
   "cell_type": "code",
   "execution_count": 47,
   "metadata": {
    "collapsed": false
   },
   "outputs": [],
   "source": [
    "import pandas as pd\n",
    "import numpy as np\n",
    "import xgboost as xgb\n",
    "import time\n",
    "import warnings\n",
    "from sklearn.model_selection import train_test_split\n",
    "warnings.filterwarnings(\"ignore\")"
   ]
  },
  {
   "cell_type": "markdown",
   "metadata": {},
   "source": [
    "# 导入相关数据"
   ]
  },
  {
   "cell_type": "code",
   "execution_count": 6,
   "metadata": {
    "collapsed": false
   },
   "outputs": [
    {
     "name": "stdout",
     "output_type": "stream",
     "text": [
      "Wall time: 238 ms\n"
     ]
    }
   ],
   "source": [
    "%%time\n",
    "trains = pd.read_csv('../raw_data/d_train.csv',encoding=\"gbk\")\n",
    "tests = pd.read_csv(\"../raw_data/d_test_A.csv\",encoding=\"gbk\")\n",
    "trains.drop(trains[trains[\"年龄\"] >= 84].index,inplace=True)\n",
    "fea_train = pd.read_csv(\"../raw_data/fea_train.csv\")\n",
    "fea_test = pd.read_csv(\"../raw_data/fea_test.csv\")\n",
    "fea_train1 = pd.read_csv(\"../raw_data/fea_train_1.csv\")\n",
    "fea_test1 = pd.read_csv(\"../raw_data/fea_test_1.csv\")\n",
    "trains = pd.merge(trains, fea_train, how=\"left\",on=\"id\")\n",
    "trains = pd.merge(trains, fea_train1, how=\"left\",on=\"id\")\n",
    "tests = pd.merge(tests, fea_test, how=\"left\",on=\"id\")\n",
    "tests = pd.merge(tests, fea_test1, how=\"left\",on=\"id\")\n",
    "trains[\"血糖\"] = trains[\"血糖\"].apply(lambda x: 1 if x < 4.5 else 0)\n",
    "trains[\"血糖\"] = trains[\"血糖\"].astype(np.int32)"
   ]
  },
  {
   "cell_type": "code",
   "execution_count": 7,
   "metadata": {
    "collapsed": false
   },
   "outputs": [
    {
     "data": {
      "text/plain": [
       "307"
      ]
     },
     "execution_count": 7,
     "metadata": {},
     "output_type": "execute_result"
    }
   ],
   "source": [
    "sum(trains[\"血糖\"])"
   ]
  },
  {
   "cell_type": "markdown",
   "metadata": {},
   "source": [
    "# 形成训练数据"
   ]
  },
  {
   "cell_type": "code",
   "execution_count": 42,
   "metadata": {
    "collapsed": false
   },
   "outputs": [
    {
     "name": "stdout",
     "output_type": "stream",
     "text": [
      "Wall time: 96.6 ms\n"
     ]
    }
   ],
   "source": [
    "%%time\n",
    "def make_feat(train,test):\n",
    "    train_id = train.id.values.copy()\n",
    "    test_id = test.id.values.copy()\n",
    "    data = pd.concat([train,test])\n",
    "    data['性别'] = data['性别'].map({'男': 1,'女': 0})\n",
    "    # data[\"性别\"] = data['性别'].astype(int)\n",
    "    # data['date'] = (pd.to_datetime(data['date']) - parse('2017-10-09')).dt.days\n",
    "    # data['体检日期'] = (pd.to_datetime(data['体检日期']) - parse('2017-10-09')).dt.days\n",
    "    data.drop(\"体检日期\",axis = 1,inplace= True)\n",
    "    # data.fillna(value = -1, inplace = True)\n",
    "    train_feat = data[data.id.isin(train_id)]\n",
    "    test_feat = data[data.id.isin(test_id)]\n",
    "    return train_feat,test_feat\n",
    "train, test = make_feat(trains, tests)\n",
    "predictors = [f for f in list(train.columns) if f not in [\"血糖\",\"blood_sugar\",\"id\",\"blood_sugar_log\",\"体检日期\"]]\n",
    "# X_train, X_test, y_train,y_test = train_test_split(train[predictors], train[\"血糖\"],test_size=0.1,random_state=42)\n",
    "xgb_train = xgb.DMatrix(train[predictors], label=train[\"血糖\"])\n",
    "# xgb_eval = xgb.DMatrix(X_test, label=y_test)\n",
    "xgb_test = xgb.DMatrix(test[predictors])"
   ]
  },
  {
   "cell_type": "code",
   "execution_count": 9,
   "metadata": {
    "collapsed": false
   },
   "outputs": [
    {
     "data": {
      "text/plain": [
       "(5622, 93)"
      ]
     },
     "execution_count": 9,
     "metadata": {},
     "output_type": "execute_result"
    },
    {
     "data": {
      "text/plain": [
       "(1000, 93)"
      ]
     },
     "execution_count": 9,
     "metadata": {},
     "output_type": "execute_result"
    },
    {
     "data": {
      "text/html": [
       "<div>\n",
       "<style>\n",
       "    .dataframe thead tr:only-child th {\n",
       "        text-align: right;\n",
       "    }\n",
       "\n",
       "    .dataframe thead th {\n",
       "        text-align: left;\n",
       "    }\n",
       "\n",
       "    .dataframe tbody tr th {\n",
       "        vertical-align: top;\n",
       "    }\n",
       "</style>\n",
       "<table border=\"1\" class=\"dataframe\">\n",
       "  <thead>\n",
       "    <tr style=\"text-align: right;\">\n",
       "      <th></th>\n",
       "      <th>*r-谷氨酰基转换酶</th>\n",
       "      <th>*丙氨酸氨基转换酶</th>\n",
       "      <th>*天门冬氨酸氨基转换酶</th>\n",
       "      <th>*总蛋白</th>\n",
       "      <th>*球蛋白</th>\n",
       "      <th>*碱性磷酸酶</th>\n",
       "      <th>ATSm</th>\n",
       "      <th>ATSs</th>\n",
       "      <th>feature_0_feature_1</th>\n",
       "      <th>feature_0_is_normal</th>\n",
       "      <th>...</th>\n",
       "      <th>红细胞平均血红蛋白量</th>\n",
       "      <th>红细胞计数</th>\n",
       "      <th>肌酐</th>\n",
       "      <th>血小板体积分布宽度</th>\n",
       "      <th>血小板平均体积</th>\n",
       "      <th>血小板比积</th>\n",
       "      <th>血小板计数</th>\n",
       "      <th>血糖</th>\n",
       "      <th>血红蛋白</th>\n",
       "      <th>高密度脂蛋白胆固醇</th>\n",
       "    </tr>\n",
       "  </thead>\n",
       "  <tbody>\n",
       "    <tr>\n",
       "      <th>0</th>\n",
       "      <td>34.36</td>\n",
       "      <td>26.69</td>\n",
       "      <td>23.85</td>\n",
       "      <td>82.75</td>\n",
       "      <td>36.72</td>\n",
       "      <td>116.08</td>\n",
       "      <td>4.7700</td>\n",
       "      <td>19.0800</td>\n",
       "      <td>50.54</td>\n",
       "      <td>1</td>\n",
       "      <td>...</td>\n",
       "      <td>30.6</td>\n",
       "      <td>4.94</td>\n",
       "      <td>65.87</td>\n",
       "      <td>12.8</td>\n",
       "      <td>10.8</td>\n",
       "      <td>0.26</td>\n",
       "      <td>241.0</td>\n",
       "      <td>NaN</td>\n",
       "      <td>151.0</td>\n",
       "      <td>1.44</td>\n",
       "    </tr>\n",
       "    <tr>\n",
       "      <th>1</th>\n",
       "      <td>111.43</td>\n",
       "      <td>34.98</td>\n",
       "      <td>29.75</td>\n",
       "      <td>71.90</td>\n",
       "      <td>27.81</td>\n",
       "      <td>90.07</td>\n",
       "      <td>5.9500</td>\n",
       "      <td>23.8000</td>\n",
       "      <td>64.73</td>\n",
       "      <td>1</td>\n",
       "      <td>...</td>\n",
       "      <td>29.3</td>\n",
       "      <td>5.84</td>\n",
       "      <td>89.99</td>\n",
       "      <td>14.6</td>\n",
       "      <td>11.5</td>\n",
       "      <td>0.28</td>\n",
       "      <td>242.0</td>\n",
       "      <td>NaN</td>\n",
       "      <td>171.0</td>\n",
       "      <td>1.22</td>\n",
       "    </tr>\n",
       "    <tr>\n",
       "      <th>2</th>\n",
       "      <td>NaN</td>\n",
       "      <td>NaN</td>\n",
       "      <td>NaN</td>\n",
       "      <td>NaN</td>\n",
       "      <td>NaN</td>\n",
       "      <td>NaN</td>\n",
       "      <td>5.6388</td>\n",
       "      <td>22.5552</td>\n",
       "      <td>61.60</td>\n",
       "      <td>1</td>\n",
       "      <td>...</td>\n",
       "      <td>29.9</td>\n",
       "      <td>5.72</td>\n",
       "      <td>73.29</td>\n",
       "      <td>9.9</td>\n",
       "      <td>8.9</td>\n",
       "      <td>0.35</td>\n",
       "      <td>398.0</td>\n",
       "      <td>NaN</td>\n",
       "      <td>171.0</td>\n",
       "      <td>NaN</td>\n",
       "    </tr>\n",
       "    <tr>\n",
       "      <th>3</th>\n",
       "      <td>23.41</td>\n",
       "      <td>16.63</td>\n",
       "      <td>17.98</td>\n",
       "      <td>78.16</td>\n",
       "      <td>32.72</td>\n",
       "      <td>95.95</td>\n",
       "      <td>3.5960</td>\n",
       "      <td>14.3840</td>\n",
       "      <td>34.61</td>\n",
       "      <td>1</td>\n",
       "      <td>...</td>\n",
       "      <td>29.9</td>\n",
       "      <td>4.61</td>\n",
       "      <td>70.82</td>\n",
       "      <td>13.9</td>\n",
       "      <td>11.6</td>\n",
       "      <td>0.29</td>\n",
       "      <td>247.0</td>\n",
       "      <td>NaN</td>\n",
       "      <td>138.0</td>\n",
       "      <td>1.38</td>\n",
       "    </tr>\n",
       "    <tr>\n",
       "      <th>4</th>\n",
       "      <td>15.70</td>\n",
       "      <td>19.80</td>\n",
       "      <td>19.12</td>\n",
       "      <td>80.76</td>\n",
       "      <td>33.86</td>\n",
       "      <td>76.97</td>\n",
       "      <td>3.8240</td>\n",
       "      <td>15.2960</td>\n",
       "      <td>38.92</td>\n",
       "      <td>1</td>\n",
       "      <td>...</td>\n",
       "      <td>31.8</td>\n",
       "      <td>4.62</td>\n",
       "      <td>73.91</td>\n",
       "      <td>11.9</td>\n",
       "      <td>10.4</td>\n",
       "      <td>0.35</td>\n",
       "      <td>335.0</td>\n",
       "      <td>NaN</td>\n",
       "      <td>147.0</td>\n",
       "      <td>2.25</td>\n",
       "    </tr>\n",
       "  </tbody>\n",
       "</table>\n",
       "<p>5 rows × 93 columns</p>\n",
       "</div>"
      ],
      "text/plain": [
       "   *r-谷氨酰基转换酶  *丙氨酸氨基转换酶  *天门冬氨酸氨基转换酶   *总蛋白   *球蛋白  *碱性磷酸酶    ATSm     ATSs  \\\n",
       "0       34.36      26.69        23.85  82.75  36.72  116.08  4.7700  19.0800   \n",
       "1      111.43      34.98        29.75  71.90  27.81   90.07  5.9500  23.8000   \n",
       "2         NaN        NaN          NaN    NaN    NaN     NaN  5.6388  22.5552   \n",
       "3       23.41      16.63        17.98  78.16  32.72   95.95  3.5960  14.3840   \n",
       "4       15.70      19.80        19.12  80.76  33.86   76.97  3.8240  15.2960   \n",
       "\n",
       "   feature_0_feature_1  feature_0_is_normal    ...      红细胞平均血红蛋白量  红细胞计数  \\\n",
       "0                50.54                    1    ...            30.6   4.94   \n",
       "1                64.73                    1    ...            29.3   5.84   \n",
       "2                61.60                    1    ...            29.9   5.72   \n",
       "3                34.61                    1    ...            29.9   4.61   \n",
       "4                38.92                    1    ...            31.8   4.62   \n",
       "\n",
       "      肌酐  血小板体积分布宽度  血小板平均体积  血小板比积  血小板计数  血糖   血红蛋白  高密度脂蛋白胆固醇  \n",
       "0  65.87       12.8     10.8   0.26  241.0 NaN  151.0       1.44  \n",
       "1  89.99       14.6     11.5   0.28  242.0 NaN  171.0       1.22  \n",
       "2  73.29        9.9      8.9   0.35  398.0 NaN  171.0        NaN  \n",
       "3  70.82       13.9     11.6   0.29  247.0 NaN  138.0       1.38  \n",
       "4  73.91       11.9     10.4   0.35  335.0 NaN  147.0       2.25  \n",
       "\n",
       "[5 rows x 93 columns]"
      ]
     },
     "execution_count": 9,
     "metadata": {},
     "output_type": "execute_result"
    },
    {
     "data": {
      "text/html": [
       "<div>\n",
       "<style>\n",
       "    .dataframe thead tr:only-child th {\n",
       "        text-align: right;\n",
       "    }\n",
       "\n",
       "    .dataframe thead th {\n",
       "        text-align: left;\n",
       "    }\n",
       "\n",
       "    .dataframe tbody tr th {\n",
       "        vertical-align: top;\n",
       "    }\n",
       "</style>\n",
       "<table border=\"1\" class=\"dataframe\">\n",
       "  <thead>\n",
       "    <tr style=\"text-align: right;\">\n",
       "      <th></th>\n",
       "      <th>*r-谷氨酰基转换酶</th>\n",
       "      <th>*丙氨酸氨基转换酶</th>\n",
       "      <th>*天门冬氨酸氨基转换酶</th>\n",
       "      <th>*总蛋白</th>\n",
       "      <th>*球蛋白</th>\n",
       "      <th>*碱性磷酸酶</th>\n",
       "      <th>ATSm</th>\n",
       "      <th>ATSs</th>\n",
       "      <th>feature_0_feature_1</th>\n",
       "      <th>feature_0_is_normal</th>\n",
       "      <th>...</th>\n",
       "      <th>红细胞平均血红蛋白量</th>\n",
       "      <th>红细胞计数</th>\n",
       "      <th>肌酐</th>\n",
       "      <th>血小板体积分布宽度</th>\n",
       "      <th>血小板平均体积</th>\n",
       "      <th>血小板比积</th>\n",
       "      <th>血小板计数</th>\n",
       "      <th>血糖</th>\n",
       "      <th>血红蛋白</th>\n",
       "      <th>高密度脂蛋白胆固醇</th>\n",
       "    </tr>\n",
       "  </thead>\n",
       "  <tbody>\n",
       "    <tr>\n",
       "      <th>0</th>\n",
       "      <td>20.23</td>\n",
       "      <td>23.10</td>\n",
       "      <td>24.96</td>\n",
       "      <td>76.88</td>\n",
       "      <td>27.28</td>\n",
       "      <td>99.59</td>\n",
       "      <td>4.992</td>\n",
       "      <td>19.968</td>\n",
       "      <td>48.06</td>\n",
       "      <td>1</td>\n",
       "      <td>...</td>\n",
       "      <td>31.9</td>\n",
       "      <td>5.21</td>\n",
       "      <td>77.25</td>\n",
       "      <td>17.4</td>\n",
       "      <td>9.9</td>\n",
       "      <td>0.164</td>\n",
       "      <td>166.0</td>\n",
       "      <td>0.0</td>\n",
       "      <td>166.1</td>\n",
       "      <td>1.37</td>\n",
       "    </tr>\n",
       "    <tr>\n",
       "      <th>1</th>\n",
       "      <td>79.00</td>\n",
       "      <td>36.25</td>\n",
       "      <td>24.57</td>\n",
       "      <td>79.43</td>\n",
       "      <td>31.67</td>\n",
       "      <td>67.21</td>\n",
       "      <td>4.914</td>\n",
       "      <td>19.656</td>\n",
       "      <td>60.82</td>\n",
       "      <td>1</td>\n",
       "      <td>...</td>\n",
       "      <td>29.9</td>\n",
       "      <td>5.21</td>\n",
       "      <td>87.12</td>\n",
       "      <td>10.3</td>\n",
       "      <td>9.2</td>\n",
       "      <td>0.260</td>\n",
       "      <td>277.0</td>\n",
       "      <td>0.0</td>\n",
       "      <td>156.0</td>\n",
       "      <td>0.93</td>\n",
       "    </tr>\n",
       "    <tr>\n",
       "      <th>2</th>\n",
       "      <td>38.17</td>\n",
       "      <td>15.23</td>\n",
       "      <td>20.82</td>\n",
       "      <td>86.23</td>\n",
       "      <td>38.23</td>\n",
       "      <td>63.69</td>\n",
       "      <td>4.164</td>\n",
       "      <td>16.656</td>\n",
       "      <td>36.05</td>\n",
       "      <td>1</td>\n",
       "      <td>...</td>\n",
       "      <td>31.3</td>\n",
       "      <td>4.76</td>\n",
       "      <td>78.19</td>\n",
       "      <td>16.6</td>\n",
       "      <td>8.3</td>\n",
       "      <td>0.199</td>\n",
       "      <td>241.0</td>\n",
       "      <td>0.0</td>\n",
       "      <td>148.8</td>\n",
       "      <td>1.64</td>\n",
       "    </tr>\n",
       "    <tr>\n",
       "      <th>3</th>\n",
       "      <td>20.22</td>\n",
       "      <td>10.59</td>\n",
       "      <td>14.99</td>\n",
       "      <td>70.98</td>\n",
       "      <td>26.96</td>\n",
       "      <td>74.08</td>\n",
       "      <td>2.998</td>\n",
       "      <td>11.992</td>\n",
       "      <td>25.58</td>\n",
       "      <td>1</td>\n",
       "      <td>...</td>\n",
       "      <td>31.9</td>\n",
       "      <td>4.29</td>\n",
       "      <td>61.46</td>\n",
       "      <td>10.8</td>\n",
       "      <td>10.3</td>\n",
       "      <td>0.260</td>\n",
       "      <td>252.0</td>\n",
       "      <td>1.0</td>\n",
       "      <td>137.0</td>\n",
       "      <td>1.43</td>\n",
       "    </tr>\n",
       "    <tr>\n",
       "      <th>4</th>\n",
       "      <td>22.72</td>\n",
       "      <td>14.78</td>\n",
       "      <td>20.07</td>\n",
       "      <td>78.05</td>\n",
       "      <td>36.22</td>\n",
       "      <td>75.79</td>\n",
       "      <td>4.014</td>\n",
       "      <td>16.056</td>\n",
       "      <td>34.85</td>\n",
       "      <td>1</td>\n",
       "      <td>...</td>\n",
       "      <td>20.6</td>\n",
       "      <td>5.15</td>\n",
       "      <td>NaN</td>\n",
       "      <td>14.0</td>\n",
       "      <td>11.1</td>\n",
       "      <td>0.350</td>\n",
       "      <td>316.0</td>\n",
       "      <td>0.0</td>\n",
       "      <td>106.0</td>\n",
       "      <td>1.27</td>\n",
       "    </tr>\n",
       "  </tbody>\n",
       "</table>\n",
       "<p>5 rows × 93 columns</p>\n",
       "</div>"
      ],
      "text/plain": [
       "   *r-谷氨酰基转换酶  *丙氨酸氨基转换酶  *天门冬氨酸氨基转换酶   *总蛋白   *球蛋白  *碱性磷酸酶   ATSm    ATSs  \\\n",
       "0       20.23      23.10        24.96  76.88  27.28   99.59  4.992  19.968   \n",
       "1       79.00      36.25        24.57  79.43  31.67   67.21  4.914  19.656   \n",
       "2       38.17      15.23        20.82  86.23  38.23   63.69  4.164  16.656   \n",
       "3       20.22      10.59        14.99  70.98  26.96   74.08  2.998  11.992   \n",
       "4       22.72      14.78        20.07  78.05  36.22   75.79  4.014  16.056   \n",
       "\n",
       "   feature_0_feature_1  feature_0_is_normal    ...      红细胞平均血红蛋白量  红细胞计数  \\\n",
       "0                48.06                    1    ...            31.9   5.21   \n",
       "1                60.82                    1    ...            29.9   5.21   \n",
       "2                36.05                    1    ...            31.3   4.76   \n",
       "3                25.58                    1    ...            31.9   4.29   \n",
       "4                34.85                    1    ...            20.6   5.15   \n",
       "\n",
       "      肌酐  血小板体积分布宽度  血小板平均体积  血小板比积  血小板计数   血糖   血红蛋白  高密度脂蛋白胆固醇  \n",
       "0  77.25       17.4      9.9  0.164  166.0  0.0  166.1       1.37  \n",
       "1  87.12       10.3      9.2  0.260  277.0  0.0  156.0       0.93  \n",
       "2  78.19       16.6      8.3  0.199  241.0  0.0  148.8       1.64  \n",
       "3  61.46       10.8     10.3  0.260  252.0  1.0  137.0       1.43  \n",
       "4    NaN       14.0     11.1  0.350  316.0  0.0  106.0       1.27  \n",
       "\n",
       "[5 rows x 93 columns]"
      ]
     },
     "execution_count": 9,
     "metadata": {},
     "output_type": "execute_result"
    },
    {
     "data": {
      "text/plain": [
       "17.312703583061889"
      ]
     },
     "execution_count": 9,
     "metadata": {},
     "output_type": "execute_result"
    }
   ],
   "source": [
    "train.shape\n",
    "test.shape\n",
    "test.head()\n",
    "train.head()\n",
    "(len(train[\"血糖\"]) - sum(train[\"血糖\"])) / sum(train[\"血糖\"])"
   ]
  },
  {
   "cell_type": "markdown",
   "metadata": {},
   "source": [
    "# 训练模型"
   ]
  },
  {
   "cell_type": "code",
   "execution_count": 25,
   "metadata": {
    "collapsed": true
   },
   "outputs": [],
   "source": [
    "params={'booster':'gbtree',\n",
    "    'objective': 'binary:logistic',\n",
    "    'scale_pos_weight':float(len(train[\"血糖\"]) - sum(train[\"血糖\"])) / sum(train[\"血糖\"]),\n",
    "    'eval_metric': 'auc',\n",
    "    \"subsample\":0.65,\n",
    "    \"colsample_bytree\":0.8,\n",
    "    \"lambda\":5,\n",
    "    \"seed\":1024,\n",
    "    \"silent\":1,\n",
    "    \"verbose\":0,\n",
    "    \"max_depth\":7,\n",
    "    \"alpha\":0.01,\n",
    "    \"gamma\":0.6\n",
    "    }"
   ]
  },
  {
   "cell_type": "code",
   "execution_count": 38,
   "metadata": {
    "collapsed": false
   },
   "outputs": [
    {
     "name": "stdout",
     "output_type": "stream",
     "text": [
      "Wall time: 19.6 s\n"
     ]
    }
   ],
   "source": [
    "%%time\n",
    "watchlist  = [(xgb_train,'train')]\n",
    "#通过cv找最佳的nround\n",
    "cv_log = xgb.cv(params,xgb_train,num_boost_round=25000,nfold=5,metrics='auc',early_stopping_rounds=50,seed=1024)"
   ]
  },
  {
   "cell_type": "code",
   "execution_count": 39,
   "metadata": {
    "collapsed": false
   },
   "outputs": [
    {
     "data": {
      "text/html": [
       "<div>\n",
       "<style>\n",
       "    .dataframe thead tr:only-child th {\n",
       "        text-align: right;\n",
       "    }\n",
       "\n",
       "    .dataframe thead th {\n",
       "        text-align: left;\n",
       "    }\n",
       "\n",
       "    .dataframe tbody tr th {\n",
       "        vertical-align: top;\n",
       "    }\n",
       "</style>\n",
       "<table border=\"1\" class=\"dataframe\">\n",
       "  <thead>\n",
       "    <tr style=\"text-align: right;\">\n",
       "      <th></th>\n",
       "      <th>test-auc-mean</th>\n",
       "      <th>test-auc-std</th>\n",
       "      <th>train-auc-mean</th>\n",
       "      <th>train-auc-std</th>\n",
       "    </tr>\n",
       "  </thead>\n",
       "  <tbody>\n",
       "    <tr>\n",
       "      <th>0</th>\n",
       "      <td>0.615297</td>\n",
       "      <td>0.025862</td>\n",
       "      <td>0.795399</td>\n",
       "      <td>0.006983</td>\n",
       "    </tr>\n",
       "    <tr>\n",
       "      <th>1</th>\n",
       "      <td>0.618756</td>\n",
       "      <td>0.020102</td>\n",
       "      <td>0.867670</td>\n",
       "      <td>0.013116</td>\n",
       "    </tr>\n",
       "    <tr>\n",
       "      <th>2</th>\n",
       "      <td>0.638427</td>\n",
       "      <td>0.025884</td>\n",
       "      <td>0.901220</td>\n",
       "      <td>0.007781</td>\n",
       "    </tr>\n",
       "    <tr>\n",
       "      <th>3</th>\n",
       "      <td>0.642705</td>\n",
       "      <td>0.035393</td>\n",
       "      <td>0.926528</td>\n",
       "      <td>0.005198</td>\n",
       "    </tr>\n",
       "    <tr>\n",
       "      <th>4</th>\n",
       "      <td>0.644796</td>\n",
       "      <td>0.047826</td>\n",
       "      <td>0.942466</td>\n",
       "      <td>0.008811</td>\n",
       "    </tr>\n",
       "    <tr>\n",
       "      <th>5</th>\n",
       "      <td>0.642739</td>\n",
       "      <td>0.045066</td>\n",
       "      <td>0.957778</td>\n",
       "      <td>0.008484</td>\n",
       "    </tr>\n",
       "    <tr>\n",
       "      <th>6</th>\n",
       "      <td>0.640418</td>\n",
       "      <td>0.040436</td>\n",
       "      <td>0.967148</td>\n",
       "      <td>0.008576</td>\n",
       "    </tr>\n",
       "    <tr>\n",
       "      <th>7</th>\n",
       "      <td>0.640693</td>\n",
       "      <td>0.031189</td>\n",
       "      <td>0.974289</td>\n",
       "      <td>0.006569</td>\n",
       "    </tr>\n",
       "    <tr>\n",
       "      <th>8</th>\n",
       "      <td>0.647643</td>\n",
       "      <td>0.027583</td>\n",
       "      <td>0.979952</td>\n",
       "      <td>0.004054</td>\n",
       "    </tr>\n",
       "  </tbody>\n",
       "</table>\n",
       "</div>"
      ],
      "text/plain": [
       "   test-auc-mean  test-auc-std  train-auc-mean  train-auc-std\n",
       "0       0.615297      0.025862        0.795399       0.006983\n",
       "1       0.618756      0.020102        0.867670       0.013116\n",
       "2       0.638427      0.025884        0.901220       0.007781\n",
       "3       0.642705      0.035393        0.926528       0.005198\n",
       "4       0.644796      0.047826        0.942466       0.008811\n",
       "5       0.642739      0.045066        0.957778       0.008484\n",
       "6       0.640418      0.040436        0.967148       0.008576\n",
       "7       0.640693      0.031189        0.974289       0.006569\n",
       "8       0.647643      0.027583        0.979952       0.004054"
      ]
     },
     "execution_count": 39,
     "metadata": {},
     "output_type": "execute_result"
    }
   ],
   "source": [
    "cv_log"
   ]
  },
  {
   "cell_type": "code",
   "execution_count": 40,
   "metadata": {
    "collapsed": false
   },
   "outputs": [
    {
     "name": "stdout",
     "output_type": "stream",
     "text": [
      "[0]\ttrain-auc:0.806118\n",
      "[1]\ttrain-auc:0.862662\n",
      "[2]\ttrain-auc:0.895197\n",
      "[3]\ttrain-auc:0.918388\n",
      "[4]\ttrain-auc:0.929593\n",
      "[5]\ttrain-auc:0.942765\n",
      "[6]\ttrain-auc:0.95175\n",
      "[7]\ttrain-auc:0.960436\n",
      "[8]\ttrain-auc:0.971075\n",
      "[9]\ttrain-auc:0.973919\n",
      "[10]\ttrain-auc:0.979703\n",
      "[11]\ttrain-auc:0.981893\n",
      "[12]\ttrain-auc:0.983154\n",
      "[13]\ttrain-auc:0.98628\n",
      "[14]\ttrain-auc:0.988712\n",
      "[15]\ttrain-auc:0.989892\n",
      "[16]\ttrain-auc:0.992174\n",
      "[17]\ttrain-auc:0.994212\n",
      "[18]\ttrain-auc:0.995548\n",
      "[19]\ttrain-auc:0.996664\n",
      "[20]\ttrain-auc:0.997941\n",
      "[21]\ttrain-auc:0.99844\n",
      "[22]\ttrain-auc:0.998747\n",
      "[23]\ttrain-auc:0.998954\n",
      "[24]\ttrain-auc:0.999239\n",
      "[25]\ttrain-auc:0.999295\n",
      "[26]\ttrain-auc:0.999489\n",
      "[27]\ttrain-auc:0.999678\n",
      "[28]\ttrain-auc:0.999755\n",
      "[29]\ttrain-auc:0.999798\n",
      "[30]\ttrain-auc:0.999805\n",
      "[31]\ttrain-auc:0.999819\n",
      "[32]\ttrain-auc:0.999819\n",
      "[33]\ttrain-auc:0.999812\n",
      "[34]\ttrain-auc:0.99978\n",
      "[35]\ttrain-auc:0.999882\n",
      "[36]\ttrain-auc:0.999933\n",
      "[37]\ttrain-auc:0.99993\n",
      "[38]\ttrain-auc:0.99996\n",
      "[39]\ttrain-auc:0.999979\n",
      "[40]\ttrain-auc:0.999991\n",
      "[41]\ttrain-auc:0.999997\n",
      "[42]\ttrain-auc:0.999997\n",
      "[43]\ttrain-auc:0.999998\n",
      "[44]\ttrain-auc:0.999999\n",
      "[45]\ttrain-auc:0.999999\n",
      "[46]\ttrain-auc:1\n",
      "[47]\ttrain-auc:1\n",
      "[48]\ttrain-auc:1\n",
      "[49]\ttrain-auc:1\n",
      "[50]\ttrain-auc:1\n",
      "[51]\ttrain-auc:1\n",
      "[52]\ttrain-auc:1\n",
      "[53]\ttrain-auc:1\n",
      "[54]\ttrain-auc:1\n",
      "[55]\ttrain-auc:1\n",
      "[56]\ttrain-auc:1\n",
      "[57]\ttrain-auc:1\n",
      "Wall time: 7.21 s\n"
     ]
    }
   ],
   "source": [
    "%%time\n",
    "bst_auc= cv_log['test-auc-mean'].max()\n",
    "cv_log['nb'] = cv_log.index\n",
    "cv_log.index = cv_log['test-auc-mean']\n",
    "bst_nb = cv_log.nb.to_dict()[bst_auc]\n",
    "#train\n",
    "watchlist  = [(xgb_train,'train')]\n",
    "model = xgb.train(params,xgb_train,num_boost_round=bst_nb+50,evals=watchlist)"
   ]
  },
  {
   "cell_type": "code",
   "execution_count": 49,
   "metadata": {
    "collapsed": false
   },
   "outputs": [],
   "source": [
    "test_pred = model.predict(xgb_test)"
   ]
  },
  {
   "cell_type": "code",
   "execution_count": 52,
   "metadata": {
    "collapsed": true
   },
   "outputs": [],
   "source": [
    "\n",
    "test_result = test\n",
    "test_result[\"lt45_prob\"] = test_pred\n",
    "# test_result.to_csv(\"gt98_prob.csv\",index=None,encoding='utf-8')\n",
    "test_result[[\"id\",\"lt45_prob\"]].to_csv(\"../classifier/lt45.csv\",index=False)\n",
    "# "
   ]
  },
  {
   "cell_type": "code",
   "execution_count": 24,
   "metadata": {
    "collapsed": false
   },
   "outputs": [
    {
     "data": {
      "text/plain": [
       "count    1000.000000\n",
       "mean        0.478616\n",
       "std         0.025524\n",
       "min         0.435223\n",
       "25%         0.458443\n",
       "50%         0.473165\n",
       "75%         0.498612\n",
       "max         0.544222\n",
       "Name: lt45_prob, dtype: float64"
      ]
     },
     "execution_count": 24,
     "metadata": {},
     "output_type": "execute_result"
    }
   ],
   "source": [
    "test_result[\"lt45_prob\"].describe()"
   ]
  }
 ],
 "metadata": {
  "kernelspec": {
   "display_name": "Python 3",
   "language": "python",
   "name": "python3"
  },
  "language_info": {
   "codemirror_mode": {
    "name": "ipython",
    "version": 3
   },
   "file_extension": ".py",
   "mimetype": "text/x-python",
   "name": "python",
   "nbconvert_exporter": "python",
   "pygments_lexer": "ipython3",
   "version": "3.6.0"
  },
  "toc": {
   "nav_menu": {},
   "number_sections": true,
   "sideBar": true,
   "skip_h1_title": false,
   "toc_cell": true,
   "toc_position": {
    "height": "858px",
    "left": "0px",
    "right": "1850px",
    "top": "91px",
    "width": "70px"
   },
   "toc_section_display": "block",
   "toc_window_display": false
  }
 },
 "nbformat": 4,
 "nbformat_minor": 2
}
