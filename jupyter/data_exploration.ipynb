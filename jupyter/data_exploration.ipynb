{
 "cells": [
  {
   "cell_type": "markdown",
   "metadata": {},
   "source": [
    "# 导入相关的包"
   ]
  },
  {
   "cell_type": "code",
   "execution_count": 1,
   "metadata": {
    "collapsed": false
   },
   "outputs": [],
   "source": [
    "#invite people for the tianchi tangniaobing party\n",
    "import pandas as pd\n",
    "import matplotlib.pyplot as plt\n",
    "import seaborn as sns\n",
    "import numpy as np\n",
    "from scipy.stats import norm\n",
    "from sklearn.preprocessing import StandardScaler\n",
    "from scipy import stats\n",
    "import warnings\n",
    "warnings.filterwarnings('ignore')\n",
    "%matplotlib inline"
   ]
  },
  {
   "cell_type": "code",
   "execution_count": 2,
   "metadata": {
    "collapsed": false
   },
   "outputs": [],
   "source": [
    "data = pd.read_csv(\"../raw_data/d_train.csv\",encoding=\"gbk\")\n",
    "test = pd.read_csv(\"../raw_data/d_test_A.csv\",encoding=\"gbk\")\n"
   ]
  },
  {
   "cell_type": "code",
   "execution_count": 3,
   "metadata": {
    "collapsed": false
   },
   "outputs": [
    {
     "data": {
      "text/plain": [
       "id               0\n",
       "性别               0\n",
       "年龄               0\n",
       "体检日期             0\n",
       "*天门冬氨酸氨基转换酶    185\n",
       "*丙氨酸氨基转换酶      185\n",
       "*碱性磷酸酶         185\n",
       "*r-谷氨酰基转换酶     185\n",
       "*总蛋白           185\n",
       "白蛋白            185\n",
       "*球蛋白           185\n",
       "白球比例           185\n",
       "甘油三酯           176\n",
       "总胆固醇           176\n",
       "高密度脂蛋白胆固醇      176\n",
       "低密度脂蛋白胆固醇      176\n",
       "尿素             194\n",
       "肌酐             194\n",
       "尿酸             194\n",
       "乙肝表面抗原         831\n",
       "乙肝表面抗体         831\n",
       "乙肝e抗原          831\n",
       "乙肝e抗体          831\n",
       "乙肝核心抗体         831\n",
       "白细胞计数            5\n",
       "红细胞计数            5\n",
       "血红蛋白             5\n",
       "红细胞压积            5\n",
       "红细胞平均体积          5\n",
       "红细胞平均血红蛋白量       5\n",
       "红细胞平均血红蛋白浓度      5\n",
       "红细胞体积分布宽度        5\n",
       "血小板计数            5\n",
       "血小板平均体积          6\n",
       "血小板体积分布宽度        6\n",
       "血小板比积            6\n",
       "中性粒细胞%           5\n",
       "淋巴细胞%            5\n",
       "单核细胞%            5\n",
       "嗜酸细胞%            5\n",
       "嗜碱细胞%            5\n",
       "dtype: int64"
      ]
     },
     "execution_count": 3,
     "metadata": {},
     "output_type": "execute_result"
    }
   ],
   "source": [
    "test.isnull().sum()"
   ]
  },
  {
   "cell_type": "code",
   "execution_count": 191,
   "metadata": {
    "collapsed": false
   },
   "outputs": [
    {
     "data": {
      "text/html": [
       "<div>\n",
       "<table border=\"1\" class=\"dataframe\">\n",
       "  <thead>\n",
       "    <tr style=\"text-align: right;\">\n",
       "      <th></th>\n",
       "      <th>id</th>\n",
       "      <th>性别</th>\n",
       "      <th>年龄</th>\n",
       "      <th>体检日期</th>\n",
       "      <th>*天门冬氨酸氨基转换酶</th>\n",
       "      <th>*丙氨酸氨基转换酶</th>\n",
       "      <th>*碱性磷酸酶</th>\n",
       "      <th>*r-谷氨酰基转换酶</th>\n",
       "      <th>*总蛋白</th>\n",
       "      <th>白蛋白</th>\n",
       "      <th>...</th>\n",
       "      <th>血小板计数</th>\n",
       "      <th>血小板平均体积</th>\n",
       "      <th>血小板体积分布宽度</th>\n",
       "      <th>血小板比积</th>\n",
       "      <th>中性粒细胞%</th>\n",
       "      <th>淋巴细胞%</th>\n",
       "      <th>单核细胞%</th>\n",
       "      <th>嗜酸细胞%</th>\n",
       "      <th>嗜碱细胞%</th>\n",
       "      <th>血糖</th>\n",
       "    </tr>\n",
       "  </thead>\n",
       "  <tbody>\n",
       "    <tr>\n",
       "      <th>0</th>\n",
       "      <td>1</td>\n",
       "      <td>男</td>\n",
       "      <td>41</td>\n",
       "      <td>12/10/2017</td>\n",
       "      <td>24.96</td>\n",
       "      <td>23.10</td>\n",
       "      <td>99.59</td>\n",
       "      <td>20.23</td>\n",
       "      <td>76.88</td>\n",
       "      <td>49.60</td>\n",
       "      <td>...</td>\n",
       "      <td>166.0</td>\n",
       "      <td>9.9</td>\n",
       "      <td>17.4</td>\n",
       "      <td>0.164</td>\n",
       "      <td>54.1</td>\n",
       "      <td>34.2</td>\n",
       "      <td>6.5</td>\n",
       "      <td>4.7</td>\n",
       "      <td>0.6</td>\n",
       "      <td>6.06</td>\n",
       "    </tr>\n",
       "    <tr>\n",
       "      <th>1</th>\n",
       "      <td>2</td>\n",
       "      <td>男</td>\n",
       "      <td>41</td>\n",
       "      <td>19/10/2017</td>\n",
       "      <td>24.57</td>\n",
       "      <td>36.25</td>\n",
       "      <td>67.21</td>\n",
       "      <td>79.00</td>\n",
       "      <td>79.43</td>\n",
       "      <td>47.76</td>\n",
       "      <td>...</td>\n",
       "      <td>277.0</td>\n",
       "      <td>9.2</td>\n",
       "      <td>10.3</td>\n",
       "      <td>0.260</td>\n",
       "      <td>52.0</td>\n",
       "      <td>36.7</td>\n",
       "      <td>5.8</td>\n",
       "      <td>4.7</td>\n",
       "      <td>0.8</td>\n",
       "      <td>5.39</td>\n",
       "    </tr>\n",
       "    <tr>\n",
       "      <th>2</th>\n",
       "      <td>3</td>\n",
       "      <td>男</td>\n",
       "      <td>46</td>\n",
       "      <td>26/10/2017</td>\n",
       "      <td>20.82</td>\n",
       "      <td>15.23</td>\n",
       "      <td>63.69</td>\n",
       "      <td>38.17</td>\n",
       "      <td>86.23</td>\n",
       "      <td>48.00</td>\n",
       "      <td>...</td>\n",
       "      <td>241.0</td>\n",
       "      <td>8.3</td>\n",
       "      <td>16.6</td>\n",
       "      <td>0.199</td>\n",
       "      <td>48.1</td>\n",
       "      <td>40.3</td>\n",
       "      <td>7.7</td>\n",
       "      <td>3.2</td>\n",
       "      <td>0.8</td>\n",
       "      <td>5.59</td>\n",
       "    </tr>\n",
       "    <tr>\n",
       "      <th>3</th>\n",
       "      <td>4</td>\n",
       "      <td>女</td>\n",
       "      <td>22</td>\n",
       "      <td>25/10/2017</td>\n",
       "      <td>14.99</td>\n",
       "      <td>10.59</td>\n",
       "      <td>74.08</td>\n",
       "      <td>20.22</td>\n",
       "      <td>70.98</td>\n",
       "      <td>44.02</td>\n",
       "      <td>...</td>\n",
       "      <td>252.0</td>\n",
       "      <td>10.3</td>\n",
       "      <td>10.8</td>\n",
       "      <td>0.260</td>\n",
       "      <td>41.7</td>\n",
       "      <td>46.5</td>\n",
       "      <td>6.7</td>\n",
       "      <td>4.6</td>\n",
       "      <td>0.5</td>\n",
       "      <td>4.30</td>\n",
       "    </tr>\n",
       "    <tr>\n",
       "      <th>4</th>\n",
       "      <td>5</td>\n",
       "      <td>女</td>\n",
       "      <td>48</td>\n",
       "      <td>26/10/2017</td>\n",
       "      <td>20.07</td>\n",
       "      <td>14.78</td>\n",
       "      <td>75.79</td>\n",
       "      <td>22.72</td>\n",
       "      <td>78.05</td>\n",
       "      <td>41.83</td>\n",
       "      <td>...</td>\n",
       "      <td>316.0</td>\n",
       "      <td>11.1</td>\n",
       "      <td>14.0</td>\n",
       "      <td>0.350</td>\n",
       "      <td>56.6</td>\n",
       "      <td>33.1</td>\n",
       "      <td>9.1</td>\n",
       "      <td>0.6</td>\n",
       "      <td>0.6</td>\n",
       "      <td>5.42</td>\n",
       "    </tr>\n",
       "    <tr>\n",
       "      <th>5</th>\n",
       "      <td>6</td>\n",
       "      <td>女</td>\n",
       "      <td>74</td>\n",
       "      <td>18/10/2017</td>\n",
       "      <td>23.72</td>\n",
       "      <td>22.59</td>\n",
       "      <td>81.23</td>\n",
       "      <td>23.35</td>\n",
       "      <td>76.46</td>\n",
       "      <td>45.85</td>\n",
       "      <td>...</td>\n",
       "      <td>249.0</td>\n",
       "      <td>8.5</td>\n",
       "      <td>17.0</td>\n",
       "      <td>0.211</td>\n",
       "      <td>42.9</td>\n",
       "      <td>47.0</td>\n",
       "      <td>7.1</td>\n",
       "      <td>2.1</td>\n",
       "      <td>1.0</td>\n",
       "      <td>5.97</td>\n",
       "    </tr>\n",
       "    <tr>\n",
       "      <th>6</th>\n",
       "      <td>7</td>\n",
       "      <td>男</td>\n",
       "      <td>31</td>\n",
       "      <td>21/09/2017</td>\n",
       "      <td>24.97</td>\n",
       "      <td>25.53</td>\n",
       "      <td>109.03</td>\n",
       "      <td>65.42</td>\n",
       "      <td>80.82</td>\n",
       "      <td>46.40</td>\n",
       "      <td>...</td>\n",
       "      <td>246.0</td>\n",
       "      <td>10.8</td>\n",
       "      <td>13.3</td>\n",
       "      <td>0.270</td>\n",
       "      <td>52.9</td>\n",
       "      <td>32.0</td>\n",
       "      <td>11.3</td>\n",
       "      <td>3.1</td>\n",
       "      <td>0.7</td>\n",
       "      <td>5.11</td>\n",
       "    </tr>\n",
       "    <tr>\n",
       "      <th>7</th>\n",
       "      <td>8</td>\n",
       "      <td>男</td>\n",
       "      <td>55</td>\n",
       "      <td>21/09/2017</td>\n",
       "      <td>37.32</td>\n",
       "      <td>40.03</td>\n",
       "      <td>88.49</td>\n",
       "      <td>25.15</td>\n",
       "      <td>74.17</td>\n",
       "      <td>41.63</td>\n",
       "      <td>...</td>\n",
       "      <td>282.0</td>\n",
       "      <td>10.5</td>\n",
       "      <td>13.0</td>\n",
       "      <td>0.300</td>\n",
       "      <td>52.8</td>\n",
       "      <td>36.9</td>\n",
       "      <td>6.6</td>\n",
       "      <td>2.8</td>\n",
       "      <td>0.9</td>\n",
       "      <td>5.94</td>\n",
       "    </tr>\n",
       "    <tr>\n",
       "      <th>8</th>\n",
       "      <td>9</td>\n",
       "      <td>男</td>\n",
       "      <td>39</td>\n",
       "      <td>16/10/2017</td>\n",
       "      <td>21.70</td>\n",
       "      <td>39.17</td>\n",
       "      <td>102.91</td>\n",
       "      <td>67.09</td>\n",
       "      <td>76.12</td>\n",
       "      <td>49.31</td>\n",
       "      <td>...</td>\n",
       "      <td>275.0</td>\n",
       "      <td>9.8</td>\n",
       "      <td>11.4</td>\n",
       "      <td>0.270</td>\n",
       "      <td>53.1</td>\n",
       "      <td>35.9</td>\n",
       "      <td>7.3</td>\n",
       "      <td>3.3</td>\n",
       "      <td>0.4</td>\n",
       "      <td>5.66</td>\n",
       "    </tr>\n",
       "    <tr>\n",
       "      <th>9</th>\n",
       "      <td>10</td>\n",
       "      <td>女</td>\n",
       "      <td>35</td>\n",
       "      <td>10/10/2017</td>\n",
       "      <td>18.89</td>\n",
       "      <td>15.79</td>\n",
       "      <td>78.21</td>\n",
       "      <td>25.75</td>\n",
       "      <td>75.94</td>\n",
       "      <td>46.64</td>\n",
       "      <td>...</td>\n",
       "      <td>247.0</td>\n",
       "      <td>10.7</td>\n",
       "      <td>12.6</td>\n",
       "      <td>0.270</td>\n",
       "      <td>65.6</td>\n",
       "      <td>27.3</td>\n",
       "      <td>5.4</td>\n",
       "      <td>1.0</td>\n",
       "      <td>0.7</td>\n",
       "      <td>5.48</td>\n",
       "    </tr>\n",
       "  </tbody>\n",
       "</table>\n",
       "<p>10 rows × 42 columns</p>\n",
       "</div>"
      ],
      "text/plain": [
       "   id 性别  年龄        体检日期  *天门冬氨酸氨基转换酶  *丙氨酸氨基转换酶  *碱性磷酸酶  *r-谷氨酰基转换酶   *总蛋白  \\\n",
       "0   1  男  41  12/10/2017        24.96      23.10   99.59       20.23  76.88   \n",
       "1   2  男  41  19/10/2017        24.57      36.25   67.21       79.00  79.43   \n",
       "2   3  男  46  26/10/2017        20.82      15.23   63.69       38.17  86.23   \n",
       "3   4  女  22  25/10/2017        14.99      10.59   74.08       20.22  70.98   \n",
       "4   5  女  48  26/10/2017        20.07      14.78   75.79       22.72  78.05   \n",
       "5   6  女  74  18/10/2017        23.72      22.59   81.23       23.35  76.46   \n",
       "6   7  男  31  21/09/2017        24.97      25.53  109.03       65.42  80.82   \n",
       "7   8  男  55  21/09/2017        37.32      40.03   88.49       25.15  74.17   \n",
       "8   9  男  39  16/10/2017        21.70      39.17  102.91       67.09  76.12   \n",
       "9  10  女  35  10/10/2017        18.89      15.79   78.21       25.75  75.94   \n",
       "\n",
       "     白蛋白  ...   血小板计数  血小板平均体积  血小板体积分布宽度  血小板比积  中性粒细胞%  淋巴细胞%  单核细胞%  嗜酸细胞%  \\\n",
       "0  49.60  ...   166.0      9.9       17.4  0.164    54.1   34.2    6.5    4.7   \n",
       "1  47.76  ...   277.0      9.2       10.3  0.260    52.0   36.7    5.8    4.7   \n",
       "2  48.00  ...   241.0      8.3       16.6  0.199    48.1   40.3    7.7    3.2   \n",
       "3  44.02  ...   252.0     10.3       10.8  0.260    41.7   46.5    6.7    4.6   \n",
       "4  41.83  ...   316.0     11.1       14.0  0.350    56.6   33.1    9.1    0.6   \n",
       "5  45.85  ...   249.0      8.5       17.0  0.211    42.9   47.0    7.1    2.1   \n",
       "6  46.40  ...   246.0     10.8       13.3  0.270    52.9   32.0   11.3    3.1   \n",
       "7  41.63  ...   282.0     10.5       13.0  0.300    52.8   36.9    6.6    2.8   \n",
       "8  49.31  ...   275.0      9.8       11.4  0.270    53.1   35.9    7.3    3.3   \n",
       "9  46.64  ...   247.0     10.7       12.6  0.270    65.6   27.3    5.4    1.0   \n",
       "\n",
       "   嗜碱细胞%    血糖  \n",
       "0    0.6  6.06  \n",
       "1    0.8  5.39  \n",
       "2    0.8  5.59  \n",
       "3    0.5  4.30  \n",
       "4    0.6  5.42  \n",
       "5    1.0  5.97  \n",
       "6    0.7  5.11  \n",
       "7    0.9  5.94  \n",
       "8    0.4  5.66  \n",
       "9    0.7  5.48  \n",
       "\n",
       "[10 rows x 42 columns]"
      ]
     },
     "execution_count": 191,
     "metadata": {},
     "output_type": "execute_result"
    }
   ],
   "source": [
    "#data.clumns\n",
    "data.columns\n",
    "data.head(10)"
   ]
  },
  {
   "cell_type": "code",
   "execution_count": 192,
   "metadata": {
    "collapsed": false
   },
   "outputs": [],
   "source": [
    "#rename clumns's name\n",
    "rename_dict = {\"性别\":\"gender\",\"年龄\":\"age\",\"体检日期\":\"date\",\"血糖\":\"blood_sugar\"}\n",
    "data.rename(columns=rename_dict,inplace=True)"
   ]
  },
  {
   "cell_type": "code",
   "execution_count": null,
   "metadata": {
    "collapsed": false
   },
   "outputs": [],
   "source": [
    "features = [x for x in list(data.columns) if x not in [\"gender\",\"age\",\"date\",\"blood_sugar\",\"id\"]]\n",
    "fea_rename = { v:\"feature_\" + str(k) for k,v in enumerate(features)}\n",
    "fea_rename"
   ]
  },
  {
   "cell_type": "code",
   "execution_count": null,
   "metadata": {
    "collapsed": true
   },
   "outputs": [],
   "source": []
  },
  {
   "cell_type": "code",
   "execution_count": 194,
   "metadata": {
    "collapsed": false
   },
   "outputs": [],
   "source": [
    "data[\"gender\"] = data.gender.apply(lambda x: 1 if x == \"男\" else 0)"
   ]
  },
  {
   "cell_type": "code",
   "execution_count": 203,
   "metadata": {
    "collapsed": true
   },
   "outputs": [],
   "source": [
    "data.rename(columns=fea_rename,inplace=True)"
   ]
  },
  {
   "cell_type": "code",
   "execution_count": 140,
   "metadata": {
    "collapsed": false
   },
   "outputs": [
    {
     "data": {
      "text/html": [
       "<div>\n",
       "<table border=\"1\" class=\"dataframe\">\n",
       "  <thead>\n",
       "    <tr style=\"text-align: right;\">\n",
       "      <th></th>\n",
       "      <th>id</th>\n",
       "      <th>gender</th>\n",
       "      <th>age</th>\n",
       "      <th>date</th>\n",
       "      <th>feature_0</th>\n",
       "      <th>feature_1</th>\n",
       "      <th>feature_2</th>\n",
       "      <th>feature_3</th>\n",
       "      <th>feature_4</th>\n",
       "      <th>feature_5</th>\n",
       "      <th>...</th>\n",
       "      <th>feature_28</th>\n",
       "      <th>feature_29</th>\n",
       "      <th>feature_30</th>\n",
       "      <th>feature_31</th>\n",
       "      <th>feature_32</th>\n",
       "      <th>feature_33</th>\n",
       "      <th>feature_34</th>\n",
       "      <th>feature_35</th>\n",
       "      <th>feature_36</th>\n",
       "      <th>blood_sugar</th>\n",
       "    </tr>\n",
       "  </thead>\n",
       "  <tbody>\n",
       "    <tr>\n",
       "      <th>0</th>\n",
       "      <td>1</td>\n",
       "      <td>1</td>\n",
       "      <td>41</td>\n",
       "      <td>12/10/2017</td>\n",
       "      <td>24.96</td>\n",
       "      <td>23.10</td>\n",
       "      <td>99.59</td>\n",
       "      <td>20.23</td>\n",
       "      <td>76.88</td>\n",
       "      <td>49.60</td>\n",
       "      <td>...</td>\n",
       "      <td>166.0</td>\n",
       "      <td>9.9</td>\n",
       "      <td>17.4</td>\n",
       "      <td>0.164</td>\n",
       "      <td>54.1</td>\n",
       "      <td>34.2</td>\n",
       "      <td>6.5</td>\n",
       "      <td>4.7</td>\n",
       "      <td>0.6</td>\n",
       "      <td>6.06</td>\n",
       "    </tr>\n",
       "    <tr>\n",
       "      <th>1</th>\n",
       "      <td>2</td>\n",
       "      <td>1</td>\n",
       "      <td>41</td>\n",
       "      <td>19/10/2017</td>\n",
       "      <td>24.57</td>\n",
       "      <td>36.25</td>\n",
       "      <td>67.21</td>\n",
       "      <td>79.00</td>\n",
       "      <td>79.43</td>\n",
       "      <td>47.76</td>\n",
       "      <td>...</td>\n",
       "      <td>277.0</td>\n",
       "      <td>9.2</td>\n",
       "      <td>10.3</td>\n",
       "      <td>0.260</td>\n",
       "      <td>52.0</td>\n",
       "      <td>36.7</td>\n",
       "      <td>5.8</td>\n",
       "      <td>4.7</td>\n",
       "      <td>0.8</td>\n",
       "      <td>5.39</td>\n",
       "    </tr>\n",
       "    <tr>\n",
       "      <th>2</th>\n",
       "      <td>3</td>\n",
       "      <td>1</td>\n",
       "      <td>46</td>\n",
       "      <td>26/10/2017</td>\n",
       "      <td>20.82</td>\n",
       "      <td>15.23</td>\n",
       "      <td>63.69</td>\n",
       "      <td>38.17</td>\n",
       "      <td>86.23</td>\n",
       "      <td>48.00</td>\n",
       "      <td>...</td>\n",
       "      <td>241.0</td>\n",
       "      <td>8.3</td>\n",
       "      <td>16.6</td>\n",
       "      <td>0.199</td>\n",
       "      <td>48.1</td>\n",
       "      <td>40.3</td>\n",
       "      <td>7.7</td>\n",
       "      <td>3.2</td>\n",
       "      <td>0.8</td>\n",
       "      <td>5.59</td>\n",
       "    </tr>\n",
       "    <tr>\n",
       "      <th>3</th>\n",
       "      <td>4</td>\n",
       "      <td>0</td>\n",
       "      <td>22</td>\n",
       "      <td>25/10/2017</td>\n",
       "      <td>14.99</td>\n",
       "      <td>10.59</td>\n",
       "      <td>74.08</td>\n",
       "      <td>20.22</td>\n",
       "      <td>70.98</td>\n",
       "      <td>44.02</td>\n",
       "      <td>...</td>\n",
       "      <td>252.0</td>\n",
       "      <td>10.3</td>\n",
       "      <td>10.8</td>\n",
       "      <td>0.260</td>\n",
       "      <td>41.7</td>\n",
       "      <td>46.5</td>\n",
       "      <td>6.7</td>\n",
       "      <td>4.6</td>\n",
       "      <td>0.5</td>\n",
       "      <td>4.30</td>\n",
       "    </tr>\n",
       "    <tr>\n",
       "      <th>4</th>\n",
       "      <td>5</td>\n",
       "      <td>0</td>\n",
       "      <td>48</td>\n",
       "      <td>26/10/2017</td>\n",
       "      <td>20.07</td>\n",
       "      <td>14.78</td>\n",
       "      <td>75.79</td>\n",
       "      <td>22.72</td>\n",
       "      <td>78.05</td>\n",
       "      <td>41.83</td>\n",
       "      <td>...</td>\n",
       "      <td>316.0</td>\n",
       "      <td>11.1</td>\n",
       "      <td>14.0</td>\n",
       "      <td>0.350</td>\n",
       "      <td>56.6</td>\n",
       "      <td>33.1</td>\n",
       "      <td>9.1</td>\n",
       "      <td>0.6</td>\n",
       "      <td>0.6</td>\n",
       "      <td>5.42</td>\n",
       "    </tr>\n",
       "  </tbody>\n",
       "</table>\n",
       "<p>5 rows × 42 columns</p>\n",
       "</div>"
      ],
      "text/plain": [
       "   id  gender  age        date  feature_0  feature_1  feature_2  feature_3  \\\n",
       "0   1       1   41  12/10/2017      24.96      23.10      99.59      20.23   \n",
       "1   2       1   41  19/10/2017      24.57      36.25      67.21      79.00   \n",
       "2   3       1   46  26/10/2017      20.82      15.23      63.69      38.17   \n",
       "3   4       0   22  25/10/2017      14.99      10.59      74.08      20.22   \n",
       "4   5       0   48  26/10/2017      20.07      14.78      75.79      22.72   \n",
       "\n",
       "   feature_4  feature_5     ...       feature_28  feature_29  feature_30  \\\n",
       "0      76.88      49.60     ...            166.0         9.9        17.4   \n",
       "1      79.43      47.76     ...            277.0         9.2        10.3   \n",
       "2      86.23      48.00     ...            241.0         8.3        16.6   \n",
       "3      70.98      44.02     ...            252.0        10.3        10.8   \n",
       "4      78.05      41.83     ...            316.0        11.1        14.0   \n",
       "\n",
       "   feature_31  feature_32  feature_33  feature_34  feature_35  feature_36  \\\n",
       "0       0.164        54.1        34.2         6.5         4.7         0.6   \n",
       "1       0.260        52.0        36.7         5.8         4.7         0.8   \n",
       "2       0.199        48.1        40.3         7.7         3.2         0.8   \n",
       "3       0.260        41.7        46.5         6.7         4.6         0.5   \n",
       "4       0.350        56.6        33.1         9.1         0.6         0.6   \n",
       "\n",
       "   blood_sugar  \n",
       "0         6.06  \n",
       "1         5.39  \n",
       "2         5.59  \n",
       "3         4.30  \n",
       "4         5.42  \n",
       "\n",
       "[5 rows x 42 columns]"
      ]
     },
     "execution_count": 140,
     "metadata": {},
     "output_type": "execute_result"
    }
   ],
   "source": [
    "data.head(5)"
   ]
  },
  {
   "cell_type": "code",
   "execution_count": 100,
   "metadata": {
    "collapsed": false
   },
   "outputs": [
    {
     "data": {
      "text/plain": [
       "count    5642.000000\n",
       "mean        5.631925\n",
       "std         1.544882\n",
       "min         3.070000\n",
       "25%         4.920000\n",
       "50%         5.290000\n",
       "75%         5.767500\n",
       "max        38.430000\n",
       "Name: blood_sugar, dtype: float64"
      ]
     },
     "execution_count": 100,
     "metadata": {},
     "output_type": "execute_result"
    }
   ],
   "source": [
    "# blood_sugar distribute\n",
    "data.blood_sugar.describe()"
   ]
  },
  {
   "cell_type": "code",
   "execution_count": 101,
   "metadata": {
    "collapsed": false
   },
   "outputs": [
    {
     "data": {
      "text/plain": [
       "id                0\n",
       "gender            0\n",
       "age               0\n",
       "date              0\n",
       "feature_0      1221\n",
       "feature_1      1221\n",
       "feature_2      1221\n",
       "feature_3      1221\n",
       "feature_4      1221\n",
       "feature_5      1221\n",
       "feature_6      1221\n",
       "feature_7      1221\n",
       "feature_8      1219\n",
       "feature_9      1219\n",
       "feature_10     1219\n",
       "feature_11     1219\n",
       "feature_12     1378\n",
       "feature_13     1378\n",
       "feature_14     1378\n",
       "feature_15     4279\n",
       "feature_16     4279\n",
       "feature_17     4279\n",
       "feature_18     4279\n",
       "feature_19     4279\n",
       "feature_20       16\n",
       "feature_21       16\n",
       "feature_22       16\n",
       "feature_23       16\n",
       "feature_24       16\n",
       "feature_25       16\n",
       "feature_26       16\n",
       "feature_27       16\n",
       "feature_28       16\n",
       "feature_29       23\n",
       "feature_30       23\n",
       "feature_31       23\n",
       "feature_32       16\n",
       "feature_33       16\n",
       "feature_34       16\n",
       "feature_35       16\n",
       "feature_36       16\n",
       "blood_sugar       0\n",
       "dtype: int64"
      ]
     },
     "execution_count": 101,
     "metadata": {},
     "output_type": "execute_result"
    }
   ],
   "source": [
    "data.isnull().sum()"
   ]
  },
  {
   "cell_type": "code",
   "execution_count": 102,
   "metadata": {
    "collapsed": false
   },
   "outputs": [
    {
     "data": {
      "text/plain": [
       "<matplotlib.axes._subplots.AxesSubplot at 0x17e75421898>"
      ]
     },
     "execution_count": 102,
     "metadata": {},
     "output_type": "execute_result"
    },
    {
     "data": {
      "image/png": "[encoded data removed]",
      "text/plain": [
       "<matplotlib.figure.Figure at 0x17e737dfda0>"
      ]
     },
     "metadata": {},
     "output_type": "display_data"
    }
   ],
   "source": [
    "#histogram\n",
    "sns.distplot(data['blood_sugar'],hist=True,rug=True,kde=False)"
   ]
  },
  {
   "cell_type": "code",
   "execution_count": 103,
   "metadata": {
    "collapsed": false
   },
   "outputs": [
    {
     "name": "stdout",
     "output_type": "stream",
     "text": [
      "Skewness: 5.551989\n",
      "Kurtosis: 59.163792\n"
     ]
    }
   ],
   "source": [
    "#skewness and kurtosis\n",
    "print(\"Skewness: %f\" % data['blood_sugar'].skew())\n",
    "print(\"Kurtosis: %f\" % data['blood_sugar'].kurt())"
   ]
  },
  {
   "cell_type": "markdown",
   "metadata": {},
   "source": [
    "<font size=\"4\">峰度(Kurtosis)大于0表示该总体数据分布与正态分布相比较为陡峭，为尖顶峰;峰度的绝对值数值越大表示其分布形态的陡缓程度与正态分布的差异程度越大。<br>\n",
    "偏度(Skewness)大于0表示其数据分布形态与正态分布相比为正偏或右偏，即有一条长尾巴拖在右边，数据右端有较多的极端值；</font>"
   ]
  },
  {
   "cell_type": "code",
   "execution_count": 104,
   "metadata": {
    "collapsed": false
   },
   "outputs": [
    {
     "data": {
      "image/png": "[encoded data removed]",
      "text/plain": [
       "<matplotlib.figure.Figure at 0x17e75606ac8>"
      ]
     },
     "metadata": {},
     "output_type": "display_data"
    }
   ],
   "source": [
    "#box plot age/blood_sugar\n",
    "var = \"age\"\n",
    "data_age_bs = pd.concat([data['blood_sugar'], data[var]], axis=1)\n",
    "f, ax = plt.subplots(figsize=(25, 16))\n",
    "fig = sns.boxplot(x=var, y=\"blood_sugar\", data=data_age_bs)\n",
    "fig.axis(ymin=3, ymax=40);"
   ]
  },
  {
   "cell_type": "markdown",
   "metadata": {},
   "source": [
    "        1. 从上图可以看出，年龄越大越容易得糖尿病的趋势\n",
    "        2. 这批数据在30-70岁之间存在的异常值较多\n",
    "        3. 在50岁之后血糖含量中位数降低、所以可以判断的是血糖整体逐年偏高"
   ]
  },
  {
   "cell_type": "code",
   "execution_count": 105,
   "metadata": {
    "collapsed": false
   },
   "outputs": [
    {
     "data": {
      "image/png": "[encoded data removed]",
      "text/plain": [
       "<matplotlib.figure.Figure at 0x17e755934a8>"
      ]
     },
     "metadata": {},
     "output_type": "display_data"
    }
   ],
   "source": [
    "var = \"gender\"\n",
    "data_age_bs = pd.concat([data['blood_sugar'], data[var]], axis=1)\n",
    "f, ax = plt.subplots(figsize=(6, 25))\n",
    "fig = sns.boxplot(x=var, y=\"blood_sugar\", data=data_age_bs)\n",
    "fig.axis(ymin=3, ymax=40);"
   ]
  },
  {
   "cell_type": "markdown",
   "metadata": {},
   "source": [
    "    血糖的含量跟性别没有什么太大关系"
   ]
  },
  {
   "cell_type": "markdown",
   "metadata": {},
   "source": [
    "## 初步探索总结\n",
    "    1. 血糖含量值整体不太符合正太分布，峰度极大，导致非常陡峭，偏度算是正常情况吧，也表明了存在不少的常尾现象；\n",
    "    2. 对血糖含量跟数据中出现的类别特征初步探索发现，血糖的值跟性别关联不大，也就是性别属于无关于血糖的值，\n",
    "    3. 血糖的值跟年龄有很大关系，随着年龄的增长，血糖的平均值逐渐增高\n",
    "    解决方案：\n",
    "    1. 对血糖值正态化\n",
    "    2. 删除性别列\n",
    "    3. 统计特征重点关注年龄"
   ]
  },
  {
   "cell_type": "code",
   "execution_count": 106,
   "metadata": {
    "collapsed": true
   },
   "outputs": [],
   "source": [
    "# fillna = mean\n",
    "data.fillna(value=data.mean,inplace=True)"
   ]
  },
  {
   "cell_type": "code",
   "execution_count": 107,
   "metadata": {
    "collapsed": false
   },
   "outputs": [
    {
     "data": {
      "text/plain": [
       "id             0\n",
       "gender         0\n",
       "age            0\n",
       "date           0\n",
       "feature_0      0\n",
       "feature_1      0\n",
       "feature_2      0\n",
       "feature_3      0\n",
       "feature_4      0\n",
       "feature_5      0\n",
       "feature_6      0\n",
       "feature_7      0\n",
       "feature_8      0\n",
       "feature_9      0\n",
       "feature_10     0\n",
       "feature_11     0\n",
       "feature_12     0\n",
       "feature_13     0\n",
       "feature_14     0\n",
       "feature_15     0\n",
       "feature_16     0\n",
       "feature_17     0\n",
       "feature_18     0\n",
       "feature_19     0\n",
       "feature_20     0\n",
       "feature_21     0\n",
       "feature_22     0\n",
       "feature_23     0\n",
       "feature_24     0\n",
       "feature_25     0\n",
       "feature_26     0\n",
       "feature_27     0\n",
       "feature_28     0\n",
       "feature_29     0\n",
       "feature_30     0\n",
       "feature_31     0\n",
       "feature_32     0\n",
       "feature_33     0\n",
       "feature_34     0\n",
       "feature_35     0\n",
       "feature_36     0\n",
       "blood_sugar    0\n",
       "dtype: int64"
      ]
     },
     "execution_count": 107,
     "metadata": {},
     "output_type": "execute_result"
    }
   ],
   "source": [
    "data.isnull().sum()"
   ]
  },
  {
   "cell_type": "code",
   "execution_count": 116,
   "metadata": {
    "collapsed": false
   },
   "outputs": [
    {
     "data": {
      "image/png": "[encoded data removed]",
      "text/plain": [
       "<matplotlib.figure.Figure at 0x17e7d705080>"
      ]
     },
     "metadata": {},
     "output_type": "display_data"
    }
   ],
   "source": [
    "# correlation matrix\n",
    "corrmat = data.corr()\n",
    "f, ax = plt.subplots(figsize=(12, 9))\n",
    "sns.heatmap(corrmat, vmax=.8, square=True);"
   ]
  },
  {
   "cell_type": "code",
   "execution_count": 124,
   "metadata": {
    "collapsed": false
   },
   "outputs": [
    {
     "data": {
      "image/png": "[encoded data removed]",
      "text/plain": [
       "<matplotlib.figure.Figure at 0x17e0a8c8860>"
      ]
     },
     "metadata": {},
     "output_type": "display_data"
    }
   ],
   "source": [
    "#blood_sugar correlation matrix\n",
    "k = 10 #number of variables for heatmap\n",
    "cols = corrmat.nlargest(k, 'blood_sugar')['blood_sugar'].index\n",
    "cm = np.corrcoef(data[cols].values.T)\n",
    "sns.set(font_scale=1.25)\n",
    "hm = sns.heatmap(cm, cbar=True, annot=True, square=True, fmt='.2f', annot_kws={'size': 10}, yticklabels=cols.values, xticklabels=cols.values)\n",
    "plt.show()"
   ]
  },
  {
   "cell_type": "markdown",
   "metadata": {},
   "source": [
    "## 再探索总结\n",
    "    1. 年龄依然是最强特征，性别也是有用的，性别和年龄结合也算是比较好的特征"
   ]
  },
  {
   "cell_type": "markdown",
   "metadata": {},
   "source": [
    "# 探索处理缺失值"
   ]
  },
  {
   "cell_type": "code",
   "execution_count": 141,
   "metadata": {
    "collapsed": false
   },
   "outputs": [
    {
     "data": {
      "text/html": [
       "<div>\n",
       "<table border=\"1\" class=\"dataframe\">\n",
       "  <thead>\n",
       "    <tr style=\"text-align: right;\">\n",
       "      <th></th>\n",
       "      <th>Total</th>\n",
       "      <th>Percent</th>\n",
       "    </tr>\n",
       "  </thead>\n",
       "  <tbody>\n",
       "    <tr>\n",
       "      <th>feature_16</th>\n",
       "      <td>4279</td>\n",
       "      <td>0.758419</td>\n",
       "    </tr>\n",
       "    <tr>\n",
       "      <th>feature_19</th>\n",
       "      <td>4279</td>\n",
       "      <td>0.758419</td>\n",
       "    </tr>\n",
       "    <tr>\n",
       "      <th>feature_15</th>\n",
       "      <td>4279</td>\n",
       "      <td>0.758419</td>\n",
       "    </tr>\n",
       "    <tr>\n",
       "      <th>feature_17</th>\n",
       "      <td>4279</td>\n",
       "      <td>0.758419</td>\n",
       "    </tr>\n",
       "    <tr>\n",
       "      <th>feature_18</th>\n",
       "      <td>4279</td>\n",
       "      <td>0.758419</td>\n",
       "    </tr>\n",
       "    <tr>\n",
       "      <th>feature_14</th>\n",
       "      <td>1378</td>\n",
       "      <td>0.244240</td>\n",
       "    </tr>\n",
       "    <tr>\n",
       "      <th>feature_12</th>\n",
       "      <td>1378</td>\n",
       "      <td>0.244240</td>\n",
       "    </tr>\n",
       "    <tr>\n",
       "      <th>feature_13</th>\n",
       "      <td>1378</td>\n",
       "      <td>0.244240</td>\n",
       "    </tr>\n",
       "    <tr>\n",
       "      <th>feature_3</th>\n",
       "      <td>1221</td>\n",
       "      <td>0.216413</td>\n",
       "    </tr>\n",
       "    <tr>\n",
       "      <th>feature_7</th>\n",
       "      <td>1221</td>\n",
       "      <td>0.216413</td>\n",
       "    </tr>\n",
       "    <tr>\n",
       "      <th>feature_6</th>\n",
       "      <td>1221</td>\n",
       "      <td>0.216413</td>\n",
       "    </tr>\n",
       "    <tr>\n",
       "      <th>feature_4</th>\n",
       "      <td>1221</td>\n",
       "      <td>0.216413</td>\n",
       "    </tr>\n",
       "    <tr>\n",
       "      <th>feature_5</th>\n",
       "      <td>1221</td>\n",
       "      <td>0.216413</td>\n",
       "    </tr>\n",
       "    <tr>\n",
       "      <th>feature_2</th>\n",
       "      <td>1221</td>\n",
       "      <td>0.216413</td>\n",
       "    </tr>\n",
       "    <tr>\n",
       "      <th>feature_1</th>\n",
       "      <td>1221</td>\n",
       "      <td>0.216413</td>\n",
       "    </tr>\n",
       "    <tr>\n",
       "      <th>feature_0</th>\n",
       "      <td>1221</td>\n",
       "      <td>0.216413</td>\n",
       "    </tr>\n",
       "    <tr>\n",
       "      <th>feature_8</th>\n",
       "      <td>1219</td>\n",
       "      <td>0.216058</td>\n",
       "    </tr>\n",
       "    <tr>\n",
       "      <th>feature_9</th>\n",
       "      <td>1219</td>\n",
       "      <td>0.216058</td>\n",
       "    </tr>\n",
       "    <tr>\n",
       "      <th>feature_10</th>\n",
       "      <td>1219</td>\n",
       "      <td>0.216058</td>\n",
       "    </tr>\n",
       "    <tr>\n",
       "      <th>feature_11</th>\n",
       "      <td>1219</td>\n",
       "      <td>0.216058</td>\n",
       "    </tr>\n",
       "    <tr>\n",
       "      <th>feature_29</th>\n",
       "      <td>23</td>\n",
       "      <td>0.004077</td>\n",
       "    </tr>\n",
       "    <tr>\n",
       "      <th>feature_30</th>\n",
       "      <td>23</td>\n",
       "      <td>0.004077</td>\n",
       "    </tr>\n",
       "    <tr>\n",
       "      <th>feature_31</th>\n",
       "      <td>23</td>\n",
       "      <td>0.004077</td>\n",
       "    </tr>\n",
       "    <tr>\n",
       "      <th>feature_32</th>\n",
       "      <td>16</td>\n",
       "      <td>0.002836</td>\n",
       "    </tr>\n",
       "    <tr>\n",
       "      <th>feature_35</th>\n",
       "      <td>16</td>\n",
       "      <td>0.002836</td>\n",
       "    </tr>\n",
       "    <tr>\n",
       "      <th>feature_36</th>\n",
       "      <td>16</td>\n",
       "      <td>0.002836</td>\n",
       "    </tr>\n",
       "    <tr>\n",
       "      <th>feature_34</th>\n",
       "      <td>16</td>\n",
       "      <td>0.002836</td>\n",
       "    </tr>\n",
       "    <tr>\n",
       "      <th>feature_33</th>\n",
       "      <td>16</td>\n",
       "      <td>0.002836</td>\n",
       "    </tr>\n",
       "    <tr>\n",
       "      <th>feature_20</th>\n",
       "      <td>16</td>\n",
       "      <td>0.002836</td>\n",
       "    </tr>\n",
       "    <tr>\n",
       "      <th>feature_21</th>\n",
       "      <td>16</td>\n",
       "      <td>0.002836</td>\n",
       "    </tr>\n",
       "  </tbody>\n",
       "</table>\n",
       "</div>"
      ],
      "text/plain": [
       "            Total   Percent\n",
       "feature_16   4279  0.758419\n",
       "feature_19   4279  0.758419\n",
       "feature_15   4279  0.758419\n",
       "feature_17   4279  0.758419\n",
       "feature_18   4279  0.758419\n",
       "feature_14   1378  0.244240\n",
       "feature_12   1378  0.244240\n",
       "feature_13   1378  0.244240\n",
       "feature_3    1221  0.216413\n",
       "feature_7    1221  0.216413\n",
       "feature_6    1221  0.216413\n",
       "feature_4    1221  0.216413\n",
       "feature_5    1221  0.216413\n",
       "feature_2    1221  0.216413\n",
       "feature_1    1221  0.216413\n",
       "feature_0    1221  0.216413\n",
       "feature_8    1219  0.216058\n",
       "feature_9    1219  0.216058\n",
       "feature_10   1219  0.216058\n",
       "feature_11   1219  0.216058\n",
       "feature_29     23  0.004077\n",
       "feature_30     23  0.004077\n",
       "feature_31     23  0.004077\n",
       "feature_32     16  0.002836\n",
       "feature_35     16  0.002836\n",
       "feature_36     16  0.002836\n",
       "feature_34     16  0.002836\n",
       "feature_33     16  0.002836\n",
       "feature_20     16  0.002836\n",
       "feature_21     16  0.002836"
      ]
     },
     "execution_count": 141,
     "metadata": {},
     "output_type": "execute_result"
    }
   ],
   "source": [
    "#missing data\n",
    "total = data.isnull().sum().sort_values(ascending=False)\n",
    "percent = (data.isnull().sum()/data.isnull().count()).sort_values(ascending=False)\n",
    "missing_data = pd.concat([total, percent], axis=1, keys=['Total', 'Percent'])\n",
    "missing_data.head(30)"
   ]
  },
  {
   "cell_type": "markdown",
   "metadata": {},
   "source": [
    "    缺失值处理：\n",
    "    1. feature_14-19直接愉快的删除\n",
    "    2. 其他的暂时用均值填充"
   ]
  },
  {
   "cell_type": "code",
   "execution_count": 205,
   "metadata": {
    "collapsed": false
   },
   "outputs": [
    {
     "data": {
      "text/plain": [
       "0"
      ]
     },
     "execution_count": 205,
     "metadata": {},
     "output_type": "execute_result"
    }
   ],
   "source": [
    "#dealing with missing data\n",
    "# df_train = data.drop((missing_data[missing_data['Total'] > 1]).index,1)\n",
    "# df_train = data.drop(df_train.loc[df_train['Electrical'].isnull()].index)\n",
    "data.fillna(value=data.mean,inplace=True)\n",
    "data.isnull().sum().max() #just checking that there's no missing data missing..."
   ]
  },
  {
   "cell_type": "code",
   "execution_count": 144,
   "metadata": {
    "collapsed": false
   },
   "outputs": [
    {
     "data": {
      "text/plain": [
       "id             0\n",
       "gender         0\n",
       "age            0\n",
       "date           0\n",
       "feature_0      0\n",
       "feature_1      0\n",
       "feature_2      0\n",
       "feature_3      0\n",
       "feature_4      0\n",
       "feature_5      0\n",
       "feature_6      0\n",
       "feature_7      0\n",
       "feature_8      0\n",
       "feature_9      0\n",
       "feature_10     0\n",
       "feature_11     0\n",
       "feature_12     0\n",
       "feature_13     0\n",
       "feature_14     0\n",
       "feature_15     0\n",
       "feature_16     0\n",
       "feature_17     0\n",
       "feature_18     0\n",
       "feature_19     0\n",
       "feature_20     0\n",
       "feature_21     0\n",
       "feature_22     0\n",
       "feature_23     0\n",
       "feature_24     0\n",
       "feature_25     0\n",
       "feature_26     0\n",
       "feature_27     0\n",
       "feature_28     0\n",
       "feature_29     0\n",
       "feature_30     0\n",
       "feature_31     0\n",
       "feature_32     0\n",
       "feature_33     0\n",
       "feature_34     0\n",
       "feature_35     0\n",
       "feature_36     0\n",
       "blood_sugar    0\n",
       "dtype: int64"
      ]
     },
     "execution_count": 144,
     "metadata": {},
     "output_type": "execute_result"
    }
   ],
   "source": [
    "data.head()\n",
    "data.isnull().sum()"
   ]
  },
  {
   "cell_type": "markdown",
   "metadata": {},
   "source": [
    "# 数据预处理"
   ]
  },
  {
   "cell_type": "code",
   "execution_count": 145,
   "metadata": {
    "collapsed": false
   },
   "outputs": [
    {
     "name": "stdout",
     "output_type": "stream",
     "text": [
      "outer range (low) of the distribution:\n",
      "[[-1.6584775 ]\n",
      " [-1.39953509]\n",
      " [-1.29595812]\n",
      " [-1.27653744]\n",
      " [-1.2506432 ]\n",
      " [-1.20532828]\n",
      " [-1.19885472]\n",
      " [-1.19885472]\n",
      " [-1.19238116]\n",
      " [-1.14059267]]\n",
      "\n",
      "outer range (high) of the distribution:\n",
      "[[  7.63755508]\n",
      " [  7.79292053]\n",
      " [  7.90944461]\n",
      " [  8.27843755]\n",
      " [  8.33669959]\n",
      " [  8.62153624]\n",
      " [ 10.91317659]\n",
      " [ 10.97791219]\n",
      " [ 11.6446889 ]\n",
      " [ 21.23203169]]\n"
     ]
    }
   ],
   "source": [
    "#standardizing data\n",
    "saleprice_scaled = StandardScaler().fit_transform(data['blood_sugar'][:,np.newaxis]);\n",
    "low_range = saleprice_scaled[saleprice_scaled[:,0].argsort()][:10]\n",
    "high_range= saleprice_scaled[saleprice_scaled[:,0].argsort()][-10:]\n",
    "print('outer range (low) of the distribution:')\n",
    "print(low_range)\n",
    "print('\\nouter range (high) of the distribution:')\n",
    "print(high_range)"
   ]
  },
  {
   "cell_type": "code",
   "execution_count": 146,
   "metadata": {
    "collapsed": false
   },
   "outputs": [
    {
     "data": {
      "image/png": "[encoded data removed]",
      "text/plain": [
       "<matplotlib.figure.Figure at 0x17e126728d0>"
      ]
     },
     "metadata": {},
     "output_type": "display_data"
    }
   ],
   "source": [
    "#bivariate analysis saleprice/grlivarea\n",
    "var = 'age'\n",
    "data_plot = pd.concat([data['blood_sugar'], data[var]], axis=1)\n",
    "data_plot.plot.scatter(x=var, y='blood_sugar', ylim=(3,40));"
   ]
  },
  {
   "cell_type": "markdown",
   "metadata": {},
   "source": [
    "    关于年龄的异常数据：\n",
    "    1. 小于20岁的数据都删除\n",
    "    2. 大于88岁的数据都删除\n",
    "    3. 血糖大于20的数据都删除"
   ]
  },
  {
   "cell_type": "code",
   "execution_count": 147,
   "metadata": {
    "collapsed": false
   },
   "outputs": [
    {
     "data": {
      "image/png": "[encoded data removed]",
      "text/plain": [
       "<matplotlib.figure.Figure at 0x17e125dec50>"
      ]
     },
     "metadata": {},
     "output_type": "display_data"
    }
   ],
   "source": [
    "var = 'gender'\n",
    "data_plot = pd.concat([data['blood_sugar'], data[var]], axis=1)\n",
    "data_plot.plot.scatter(x=var, y='blood_sugar', ylim=(3,40));"
   ]
  },
  {
   "cell_type": "code",
   "execution_count": 195,
   "metadata": {
    "collapsed": false
   },
   "outputs": [
    {
     "data": {
      "image/png": "[encoded data removed]",
      "text/plain": [
       "<matplotlib.figure.Figure at 0x17e1d31cf60>"
      ]
     },
     "metadata": {},
     "output_type": "display_data"
    },
    {
     "data": {
      "image/png": "[encoded data removed]",
      "text/plain": [
       "<matplotlib.figure.Figure at 0x17e1d29e748>"
      ]
     },
     "metadata": {},
     "output_type": "display_data"
    }
   ],
   "source": [
    "#histogram and normal probability plot\n",
    "sns.distplot(data['blood_sugar'], fit=norm,kde=False);\n",
    "fig = plt.figure()\n",
    "res = stats.probplot(data['blood_sugar'], plot=plt)"
   ]
  },
  {
   "cell_type": "code",
   "execution_count": 196,
   "metadata": {
    "collapsed": true
   },
   "outputs": [],
   "source": [
    "data[\"blood_sugar\"] = np.log(data[\"blood_sugar\"])"
   ]
  },
  {
   "cell_type": "code",
   "execution_count": 197,
   "metadata": {
    "collapsed": false
   },
   "outputs": [
    {
     "data": {
      "image/png": "[encoded data removed]",
      "text/plain": [
       "<matplotlib.figure.Figure at 0x17e1d984748>"
      ]
     },
     "metadata": {},
     "output_type": "display_data"
    },
    {
     "data": {
      "image/png": "[encoded data removed]",
      "text/plain": [
       "<matplotlib.figure.Figure at 0x17e1d984ac8>"
      ]
     },
     "metadata": {},
     "output_type": "display_data"
    }
   ],
   "source": [
    "#histogram and normal probability plot\n",
    "sns.distplot(data['blood_sugar'], fit=norm,kde=False);\n",
    "fig = plt.figure()\n",
    "res = stats.probplot(data['blood_sugar'], plot=plt)"
   ]
  },
  {
   "cell_type": "code",
   "execution_count": 198,
   "metadata": {
    "collapsed": true
   },
   "outputs": [],
   "source": [
    "data[\"blood_sugar\"] = np.log(data[\"blood_sugar\"])"
   ]
  },
  {
   "cell_type": "code",
   "execution_count": 199,
   "metadata": {
    "collapsed": false
   },
   "outputs": [
    {
     "data": {
      "image/png": "[encoded data removed]",
      "text/plain": [
       "<matplotlib.figure.Figure at 0x17e1eb83b70>"
      ]
     },
     "metadata": {},
     "output_type": "display_data"
    },
    {
     "data": {
      "image/png": "[encoded data removed]",
      "text/plain": [
       "<matplotlib.figure.Figure at 0x17e1eb83a58>"
      ]
     },
     "metadata": {},
     "output_type": "display_data"
    }
   ],
   "source": [
    "#histogram and normal probability plot\n",
    "sns.distplot(data['blood_sugar'], fit=norm,kde=False);\n",
    "fig = plt.figure()\n",
    "res = stats.probplot(data['blood_sugar'], plot=plt)"
   ]
  },
  {
   "cell_type": "code",
   "execution_count": 200,
   "metadata": {
    "collapsed": true
   },
   "outputs": [],
   "source": [
    "data[\"blood_sugar\"] = np.log(data[\"blood_sugar\"])"
   ]
  },
  {
   "cell_type": "code",
   "execution_count": 201,
   "metadata": {
    "collapsed": false
   },
   "outputs": [
    {
     "data": {
      "image/png": "[encoded data removed]",
      "text/plain": [
       "<matplotlib.figure.Figure at 0x17e1ed69da0>"
      ]
     },
     "metadata": {},
     "output_type": "display_data"
    },
    {
     "data": {
      "image/png": "[encoded data removed]",
      "text/plain": [
       "<matplotlib.figure.Figure at 0x17e1db54208>"
      ]
     },
     "metadata": {},
     "output_type": "display_data"
    }
   ],
   "source": [
    "#histogram and normal probability plot\n",
    "sns.distplot(data['blood_sugar'], fit=norm,kde=False);\n",
    "fig = plt.figure()\n",
    "res = stats.probplot(data['blood_sugar'], plot=plt)"
   ]
  },
  {
   "cell_type": "markdown",
   "metadata": {},
   "source": [
    "    对血糖值的处理\n",
    "    1. 三次以log为底的平滑"
   ]
  },
  {
   "cell_type": "code",
   "execution_count": 206,
   "metadata": {
    "collapsed": false
   },
   "outputs": [
    {
     "ename": "TypeError",
     "evalue": "unsupported operand type(s) for +: 'float' and 'method'",
     "output_type": "error",
     "traceback": [
      "\u001b[1;31m---------------------------------------------------------------------------\u001b[0m",
      "\u001b[1;31mTypeError\u001b[0m                                 Traceback (most recent call last)",
      "\u001b[1;32m<ipython-input-206-fc935222f66e>\u001b[0m in \u001b[0;36m<module>\u001b[1;34m()\u001b[0m\n\u001b[0;32m      1\u001b[0m \u001b[1;31m#histogram and normal probability plot\u001b[0m\u001b[1;33m\u001b[0m\u001b[1;33m\u001b[0m\u001b[0m\n\u001b[1;32m----> 2\u001b[1;33m \u001b[0msns\u001b[0m\u001b[1;33m.\u001b[0m\u001b[0mdistplot\u001b[0m\u001b[1;33m(\u001b[0m\u001b[0mdata\u001b[0m\u001b[1;33m[\u001b[0m\u001b[1;34m'feature_8'\u001b[0m\u001b[1;33m]\u001b[0m\u001b[1;33m,\u001b[0m \u001b[0mfit\u001b[0m\u001b[1;33m=\u001b[0m\u001b[0mnorm\u001b[0m\u001b[1;33m,\u001b[0m\u001b[0mkde\u001b[0m\u001b[1;33m=\u001b[0m\u001b[1;32mFalse\u001b[0m\u001b[1;33m)\u001b[0m\u001b[1;33m;\u001b[0m\u001b[1;33m\u001b[0m\u001b[0m\n\u001b[0m\u001b[0;32m      3\u001b[0m \u001b[0mfig\u001b[0m \u001b[1;33m=\u001b[0m \u001b[0mplt\u001b[0m\u001b[1;33m.\u001b[0m\u001b[0mfigure\u001b[0m\u001b[1;33m(\u001b[0m\u001b[1;33m)\u001b[0m\u001b[1;33m\u001b[0m\u001b[0m\n\u001b[0;32m      4\u001b[0m \u001b[0mres\u001b[0m \u001b[1;33m=\u001b[0m \u001b[0mstats\u001b[0m\u001b[1;33m.\u001b[0m\u001b[0mprobplot\u001b[0m\u001b[1;33m(\u001b[0m\u001b[0mdata\u001b[0m\u001b[1;33m[\u001b[0m\u001b[1;34m'feature_8'\u001b[0m\u001b[1;33m]\u001b[0m\u001b[1;33m,\u001b[0m \u001b[0mplot\u001b[0m\u001b[1;33m=\u001b[0m\u001b[0mplt\u001b[0m\u001b[1;33m)\u001b[0m\u001b[1;33m\u001b[0m\u001b[0m\n",
      "\u001b[1;32mD:\\ProgramAPP\\python\\anaconda\\lib\\site-packages\\seaborn\\distributions.py\u001b[0m in \u001b[0;36mdistplot\u001b[1;34m(a, bins, hist, kde, rug, fit, hist_kws, kde_kws, rug_kws, fit_kws, color, vertical, norm_hist, axlabel, label, ax)\u001b[0m\n\u001b[0;32m    190\u001b[0m             \u001b[0mline\u001b[0m\u001b[1;33m,\u001b[0m \u001b[1;33m=\u001b[0m \u001b[0max\u001b[0m\u001b[1;33m.\u001b[0m\u001b[0mplot\u001b[0m\u001b[1;33m(\u001b[0m\u001b[1;36m0\u001b[0m\u001b[1;33m,\u001b[0m \u001b[0ma\u001b[0m\u001b[1;33m.\u001b[0m\u001b[0mmean\u001b[0m\u001b[1;33m(\u001b[0m\u001b[1;33m)\u001b[0m\u001b[1;33m)\u001b[0m\u001b[1;33m\u001b[0m\u001b[0m\n\u001b[0;32m    191\u001b[0m         \u001b[1;32melse\u001b[0m\u001b[1;33m:\u001b[0m\u001b[1;33m\u001b[0m\u001b[0m\n\u001b[1;32m--> 192\u001b[1;33m             \u001b[0mline\u001b[0m\u001b[1;33m,\u001b[0m \u001b[1;33m=\u001b[0m \u001b[0max\u001b[0m\u001b[1;33m.\u001b[0m\u001b[0mplot\u001b[0m\u001b[1;33m(\u001b[0m\u001b[0ma\u001b[0m\u001b[1;33m.\u001b[0m\u001b[0mmean\u001b[0m\u001b[1;33m(\u001b[0m\u001b[1;33m)\u001b[0m\u001b[1;33m,\u001b[0m \u001b[1;36m0\u001b[0m\u001b[1;33m)\u001b[0m\u001b[1;33m\u001b[0m\u001b[0m\n\u001b[0m\u001b[0;32m    193\u001b[0m         \u001b[0mcolor\u001b[0m \u001b[1;33m=\u001b[0m \u001b[0mline\u001b[0m\u001b[1;33m.\u001b[0m\u001b[0mget_color\u001b[0m\u001b[1;33m(\u001b[0m\u001b[1;33m)\u001b[0m\u001b[1;33m\u001b[0m\u001b[0m\n\u001b[0;32m    194\u001b[0m         \u001b[0mline\u001b[0m\u001b[1;33m.\u001b[0m\u001b[0mremove\u001b[0m\u001b[1;33m(\u001b[0m\u001b[1;33m)\u001b[0m\u001b[1;33m\u001b[0m\u001b[0m\n",
      "\u001b[1;32mD:\\ProgramAPP\\python\\anaconda\\lib\\site-packages\\numpy\\core\\_methods.py\u001b[0m in \u001b[0;36m_mean\u001b[1;34m(a, axis, dtype, out, keepdims)\u001b[0m\n\u001b[0;32m     68\u001b[0m             \u001b[0mis_float16_result\u001b[0m \u001b[1;33m=\u001b[0m \u001b[1;32mTrue\u001b[0m\u001b[1;33m\u001b[0m\u001b[0m\n\u001b[0;32m     69\u001b[0m \u001b[1;33m\u001b[0m\u001b[0m\n\u001b[1;32m---> 70\u001b[1;33m     \u001b[0mret\u001b[0m \u001b[1;33m=\u001b[0m \u001b[0mumr_sum\u001b[0m\u001b[1;33m(\u001b[0m\u001b[0marr\u001b[0m\u001b[1;33m,\u001b[0m \u001b[0maxis\u001b[0m\u001b[1;33m,\u001b[0m \u001b[0mdtype\u001b[0m\u001b[1;33m,\u001b[0m \u001b[0mout\u001b[0m\u001b[1;33m,\u001b[0m \u001b[0mkeepdims\u001b[0m\u001b[1;33m)\u001b[0m\u001b[1;33m\u001b[0m\u001b[0m\n\u001b[0m\u001b[0;32m     71\u001b[0m     \u001b[1;32mif\u001b[0m \u001b[0misinstance\u001b[0m\u001b[1;33m(\u001b[0m\u001b[0mret\u001b[0m\u001b[1;33m,\u001b[0m \u001b[0mmu\u001b[0m\u001b[1;33m.\u001b[0m\u001b[0mndarray\u001b[0m\u001b[1;33m)\u001b[0m\u001b[1;33m:\u001b[0m\u001b[1;33m\u001b[0m\u001b[0m\n\u001b[0;32m     72\u001b[0m         ret = um.true_divide(\n",
      "\u001b[1;31mTypeError\u001b[0m: unsupported operand type(s) for +: 'float' and 'method'"
     ]
    },
    {
     "data": {
      "image/png": "[encoded data removed]",
      "text/plain": [
       "<matplotlib.figure.Figure at 0x17e1efd75c0>"
      ]
     },
     "metadata": {},
     "output_type": "display_data"
    }
   ],
   "source": [
    "#histogram and normal probability plot\n",
    "sns.distplot(data['feature_8'], fit=norm,kde=False);\n",
    "fig = plt.figure()\n",
    "res = stats.probplot(data['feature_8'], plot=plt)"
   ]
  }
 ],
 "metadata": {
  "kernelspec": {
   "display_name": "Python 3",
   "language": "python",
   "name": "python3"
  },
  "language_info": {
   "codemirror_mode": {
    "name": "ipython",
    "version": 3
   },
   "file_extension": ".py",
   "mimetype": "text/x-python",
   "name": "python",
   "nbconvert_exporter": "python",
   "pygments_lexer": "ipython3",
   "version": "3.6.0"
  },
  "toc": {
   "nav_menu": {},
   "number_sections": true,
   "sideBar": true,
   "skip_h1_title": false,
   "toc_cell": false,
   "toc_position": {},
   "toc_section_display": "block",
   "toc_window_display": false
  }
 },
 "nbformat": 4,
 "nbformat_minor": 0
}
