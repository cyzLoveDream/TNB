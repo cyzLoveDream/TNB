{
 "cells": [
  {
   "cell_type": "markdown",
   "metadata": {
    "toc": true
   },
   "source": [
    "<h1>Table of Contents<span class=\"tocSkip\"></span></h1>\n",
    "<div class=\"toc\" style=\"margin-top: 1em;\"><ul class=\"toc-item\"><li><span><a href=\"#导入相关的包\" data-toc-modified-id=\"导入相关的包-1\"><span class=\"toc-item-num\">1&nbsp;&nbsp;</span>导入相关的包</a></span></li><li><span><a href=\"#读入相关数据\" data-toc-modified-id=\"读入相关数据-2\"><span class=\"toc-item-num\">2&nbsp;&nbsp;</span>读入相关数据</a></span></li><li><span><a href=\"#初步处理\" data-toc-modified-id=\"初步处理-3\"><span class=\"toc-item-num\">3&nbsp;&nbsp;</span>初步处理</a></span></li><li><span><a href=\"#模型参数\" data-toc-modified-id=\"模型参数-4\"><span class=\"toc-item-num\">4&nbsp;&nbsp;</span>模型参数</a></span></li><li><span><a href=\"#交叉验证训练\" data-toc-modified-id=\"交叉验证训练-5\"><span class=\"toc-item-num\">5&nbsp;&nbsp;</span>交叉验证训练</a></span></li><li><span><a href=\"#形成提交结果\" data-toc-modified-id=\"形成提交结果-6\"><span class=\"toc-item-num\">6&nbsp;&nbsp;</span>形成提交结果</a></span></li></ul></div>"
   ]
  },
  {
   "cell_type": "markdown",
   "metadata": {},
   "source": [
    "# 导入相关的包"
   ]
  },
  {
   "cell_type": "code",
   "execution_count": 1,
   "metadata": {
    "collapsed": false
   },
   "outputs": [
    {
     "name": "stderr",
     "output_type": "stream",
     "text": [
      "D:\\ProgramData\\Anaconda3\\lib\\site-packages\\sklearn\\cross_validation.py:41: DeprecationWarning: This module was deprecated in version 0.18 in favor of the model_selection module into which all the refactored classes and functions are moved. Also note that the interface of the new CV iterators are different from that of this module. This module will be removed in 0.20.\n",
      "  \"This module will be removed in 0.20.\", DeprecationWarning)\n"
     ]
    }
   ],
   "source": [
    "import time\n",
    "import datetime\n",
    "import numpy as np\n",
    "import pandas as pd\n",
    "import lightgbm as lgb\n",
    "from dateutil.parser import parse\n",
    "from sklearn.cross_validation import KFold\n",
    "from sklearn.metrics import mean_squared_error\n",
    "%matplotlib inline"
   ]
  },
  {
   "cell_type": "markdown",
   "metadata": {},
   "source": [
    "# 读入相关数据"
   ]
  },
  {
   "cell_type": "code",
   "execution_count": 13,
   "metadata": {
    "collapsed": false
   },
   "outputs": [],
   "source": [
    "trains = pd.read_csv('../raw_data/d_train.csv',encoding=\"gbk\")\n",
    "tests = pd.read_csv(\"../raw_data/d_test_A.csv\",encoding=\"gbk\")\n",
    "# fea_train = pd.read_csv(\"../raw_data/fea_train.csv\")\n",
    "# fea_test = pd.read_csv(\"../raw_data/fea_test.csv\")\n",
    "trains.drop(trains[trains[\"年龄\"] < 20].index,inplace=True)\n",
    "trains.drop(trains[trains[\"年龄\"] > 85].index,inplace=True)\n",
    "trains.drop(trains[trains[\"血糖\"] > 15].index,inplace=True)\n",
    "# trains = pd.merge(trains, fea_train, how=\"left\",on=\"id\")\n",
    "# tests = pd.merge(tests, fea_test, how=\"left\",on=\"id\")"
   ]
  },
  {
   "cell_type": "markdown",
   "metadata": {},
   "source": [
    "# 初步处理"
   ]
  },
  {
   "cell_type": "code",
   "execution_count": 14,
   "metadata": {
    "collapsed": true
   },
   "outputs": [],
   "source": [
    "def make_feat(train,test):\n",
    "    train_id = train.id.values.copy()\n",
    "    test_id = test.id.values.copy()\n",
    "    data = pd.concat([train,test])\n",
    "    data['性别'] = data['性别'].map({'男': 1,'女': 0})\n",
    "    data['体检日期'] = (pd.to_datetime(data['体检日期']) - parse('2017-10-09')).dt.days\n",
    "    # data.drop(\"体检日期\",axis = 1,inplace= True)\n",
    "    # data.fillna(data.median(axis=0))\n",
    "    train_feat = data[data.id.isin(train_id)]\n",
    "    test_feat = data[data.id.isin(test_id)]\n",
    "    return train_feat,test_feat\n",
    "def evalerror(pred,df):\n",
    "    label = df.get_label().values.copy()\n",
    "    score = mean_squared_error(label,pred) * 0.5\n",
    "    return ('mse',score,False)"
   ]
  },
  {
   "cell_type": "markdown",
   "metadata": {},
   "source": [
    "# 模型参数"
   ]
  },
  {
   "cell_type": "code",
   "execution_count": 15,
   "metadata": {
    "collapsed": true
   },
   "outputs": [],
   "source": [
    "params = {\n",
    "    'learning_rate': 0.015,\n",
    "    'boosting_type': 'gbdt',\n",
    "    'objective': 'regression',\n",
    "    'metric': 'mse',\n",
    "    'sub_feature': 0.7,\n",
    "    'num_leaves': 32,\n",
    "    'min_data_in_leaf': 25,\n",
    "    'bagging_fraction':0.8,\n",
    "    \"feature_fraction\":0.7,\n",
    "    'min_sum_hessian_in_leaf': 1,\n",
    "    'verbose': -1,\n",
    "    \"max_depth\":6,\n",
    "    \"max_bin\":150,\n",
    "    \"lambda_l2\":0.3\n",
    "    }"
   ]
  },
  {
   "cell_type": "markdown",
   "metadata": {},
   "source": [
    "# 交叉验证训练"
   ]
  },
  {
   "cell_type": "code",
   "execution_count": 16,
   "metadata": {
    "collapsed": false
   },
   "outputs": [
    {
     "name": "stdout",
     "output_type": "stream",
     "text": [
      "第0次训练...\n",
      "Train until valid scores didn't improve in 50 rounds.\n",
      "[100]\tvalid_0's l2: 1.1138\tvalid_0's mse: 0.5569\n",
      "[200]\tvalid_0's l2: 1.07474\tvalid_0's mse: 0.53737\n",
      "[300]\tvalid_0's l2: 1.06627\tvalid_0's mse: 0.533136\n",
      "Early stopping, best iteration is:\n",
      "[270]\tvalid_0's l2: 1.06444\tvalid_0's mse: 0.532219\n",
      "第1次训练...\n",
      "Train until valid scores didn't improve in 50 rounds.\n",
      "[100]\tvalid_0's l2: 1.57706\tvalid_0's mse: 0.788532\n",
      "[200]\tvalid_0's l2: 1.50701\tvalid_0's mse: 0.753505\n",
      "[300]\tvalid_0's l2: 1.47014\tvalid_0's mse: 0.735071\n",
      "[400]\tvalid_0's l2: 1.45858\tvalid_0's mse: 0.729288\n",
      "Early stopping, best iteration is:\n",
      "[395]\tvalid_0's l2: 1.45838\tvalid_0's mse: 0.72919\n",
      "第2次训练...\n",
      "Train until valid scores didn't improve in 50 rounds.\n",
      "[100]\tvalid_0's l2: 1.34811\tvalid_0's mse: 0.674057\n",
      "[200]\tvalid_0's l2: 1.2732\tvalid_0's mse: 0.6366\n",
      "[300]\tvalid_0's l2: 1.23991\tvalid_0's mse: 0.619956\n",
      "[400]\tvalid_0's l2: 1.22343\tvalid_0's mse: 0.611714\n",
      "Early stopping, best iteration is:\n",
      "[443]\tvalid_0's l2: 1.21848\tvalid_0's mse: 0.609241\n",
      "第3次训练...\n",
      "Train until valid scores didn't improve in 50 rounds.\n",
      "[100]\tvalid_0's l2: 1.51455\tvalid_0's mse: 0.757276\n",
      "[200]\tvalid_0's l2: 1.46399\tvalid_0's mse: 0.731994\n",
      "[300]\tvalid_0's l2: 1.45951\tvalid_0's mse: 0.729753\n",
      "[400]\tvalid_0's l2: 1.4605\tvalid_0's mse: 0.730251\n",
      "Early stopping, best iteration is:\n",
      "[352]\tvalid_0's l2: 1.45778\tvalid_0's mse: 0.728888\n",
      "第4次训练...\n",
      "Train until valid scores didn't improve in 50 rounds.\n",
      "[100]\tvalid_0's l2: 1.33137\tvalid_0's mse: 0.665684\n",
      "[200]\tvalid_0's l2: 1.26623\tvalid_0's mse: 0.633115\n",
      "[300]\tvalid_0's l2: 1.24727\tvalid_0's mse: 0.623634\n",
      "[400]\tvalid_0's l2: 1.24293\tvalid_0's mse: 0.621463\n",
      "Early stopping, best iteration is:\n",
      "[389]\tvalid_0's l2: 1.2418\tvalid_0's mse: 0.620898\n",
      "第5次训练...\n",
      "Train until valid scores didn't improve in 50 rounds.\n",
      "[100]\tvalid_0's l2: 1.12305\tvalid_0's mse: 0.561526\n",
      "[200]\tvalid_0's l2: 1.0683\tvalid_0's mse: 0.534149\n",
      "[300]\tvalid_0's l2: 1.05686\tvalid_0's mse: 0.528428\n",
      "[400]\tvalid_0's l2: 1.05486\tvalid_0's mse: 0.527428\n",
      "Early stopping, best iteration is:\n",
      "[354]\tvalid_0's l2: 1.05361\tvalid_0's mse: 0.526806\n",
      "第6次训练...\n",
      "Train until valid scores didn't improve in 50 rounds.\n",
      "[100]\tvalid_0's l2: 1.53598\tvalid_0's mse: 0.767988\n",
      "[200]\tvalid_0's l2: 1.47447\tvalid_0's mse: 0.737234\n",
      "[300]\tvalid_0's l2: 1.45611\tvalid_0's mse: 0.728053\n",
      "[400]\tvalid_0's l2: 1.4503\tvalid_0's mse: 0.72515\n",
      "Early stopping, best iteration is:\n",
      "[385]\tvalid_0's l2: 1.44978\tvalid_0's mse: 0.72489\n",
      "第7次训练...\n",
      "Train until valid scores didn't improve in 50 rounds.\n",
      "[100]\tvalid_0's l2: 1.24118\tvalid_0's mse: 0.620591\n",
      "[200]\tvalid_0's l2: 1.17187\tvalid_0's mse: 0.585933\n",
      "[300]\tvalid_0's l2: 1.15597\tvalid_0's mse: 0.577983\n",
      "Early stopping, best iteration is:\n",
      "[317]\tvalid_0's l2: 1.1545\tvalid_0's mse: 0.577249\n",
      "第8次训练...\n",
      "Train until valid scores didn't improve in 50 rounds.\n",
      "[100]\tvalid_0's l2: 1.38395\tvalid_0's mse: 0.691977\n",
      "[200]\tvalid_0's l2: 1.35116\tvalid_0's mse: 0.675578\n",
      "[300]\tvalid_0's l2: 1.33869\tvalid_0's mse: 0.669345\n",
      "Early stopping, best iteration is:\n",
      "[320]\tvalid_0's l2: 1.33736\tvalid_0's mse: 0.668678\n",
      "第9次训练...\n",
      "Train until valid scores didn't improve in 50 rounds.\n",
      "[100]\tvalid_0's l2: 0.84082\tvalid_0's mse: 0.42041\n",
      "[200]\tvalid_0's l2: 0.833347\tvalid_0's mse: 0.416674\n",
      "Early stopping, best iteration is:\n",
      "[171]\tvalid_0's l2: 0.828374\tvalid_0's mse: 0.414187\n",
      "Wall time: 19.8 s\n"
     ]
    }
   ],
   "source": [
    "%%time\n",
    "train, test = make_feat(trains, tests)\n",
    "predictors = [f for f in list(train.columns) if f not in [\"血糖\",\"blood_sugar\",\"id\",\"blood_sugar_log\"]]\n",
    "scores = []\n",
    "t0 = time.time()\n",
    "train_preds = np.zeros(train.shape[0])\n",
    "test_preds = np.zeros((test.shape[0],10))\n",
    "feat_imp = pd.DataFrame()\n",
    "kf = KFold(len(train),n_folds=10,shuffle=True,random_state=1024)\n",
    "for i,(train_index,test_index) in enumerate(kf):\n",
    "    print('第{}次训练...'.format(i))\n",
    "    train_feat1 = train.iloc[train_index]\n",
    "    train_feat2 = train.iloc[test_index]\n",
    "    lgb_train1 = lgb.Dataset(train_feat1[predictors],train_feat1['血糖'])\n",
    "    lgb_train2 = lgb.Dataset(train_feat2[predictors],train_feat2['血糖'])\n",
    "    gbm = lgb.train(params,\n",
    "                    lgb_train1,\n",
    "                    num_boost_round=3000,\n",
    "                    valid_sets=lgb_train2,\n",
    "                    verbose_eval=100,\n",
    "                    feval=evalerror,\n",
    "                    early_stopping_rounds=50)\n",
    "    feat_i = pd.DataFrame(pd.Series(gbm.feature_importance(),index=predictors).sort_values(ascending=False))\n",
    "    feat_imp = pd.concat([feat_imp, feat_i],axis=1)\n",
    "    train_preds[test_index] += gbm.predict(train_feat2[predictors],num_iteration=gbm.best_iteration)\n",
    "    test_preds[:,i] = gbm.predict(test[predictors],num_iteration=gbm.best_iteration)"
   ]
  },
  {
   "cell_type": "markdown",
   "metadata": {},
   "source": [
    "# 形成提交结果"
   ]
  },
  {
   "cell_type": "code",
   "execution_count": 17,
   "metadata": {
    "collapsed": false
   },
   "outputs": [
    {
     "name": "stdout",
     "output_type": "stream",
     "text": [
      "线下得分：    0.6132367165917862\n",
      "              pred\n",
      "count  1000.000000\n",
      "mean      5.671138\n",
      "std       0.529509\n",
      "min       4.898237\n",
      "25%       5.275447\n",
      "50%       5.553392\n",
      "75%       5.938223\n",
      "max       8.440482\n"
     ]
    }
   ],
   "source": [
    "print('线下得分：    {}'.format(mean_squared_error(train['血糖'],train_preds) * 0.5))\n",
    "submission = pd.DataFrame({'pred': test_preds.mean(axis=1)})\n",
    "print(submission.describe())\n",
    "# submission.to_csv(r'./submission/sub_lgb_9_1_c.csv',header=False,index=False)"
   ]
  }
 ],
 "metadata": {
  "kernelspec": {
   "display_name": "Python 3",
   "language": "python",
   "name": "python3"
  },
  "language_info": {
   "codemirror_mode": {
    "name": "ipython",
    "version": 3
   },
   "file_extension": ".py",
   "mimetype": "text/x-python",
   "name": "python",
   "nbconvert_exporter": "python",
   "pygments_lexer": "ipython3",
   "version": "3.6.0"
  },
  "toc": {
   "nav_menu": {},
   "number_sections": true,
   "sideBar": true,
   "skip_h1_title": false,
   "toc_cell": true,
   "toc_position": {},
   "toc_section_display": "block",
   "toc_window_display": false
  }
 },
 "nbformat": 4,
 "nbformat_minor": 2
}
