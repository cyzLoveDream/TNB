{
 "cells": [
  {
   "cell_type": "markdown",
   "metadata": {
    "toc": true
   },
   "source": [
    "<h1>Table of Contents<span class=\"tocSkip\"></span></h1>\n",
    "<div class=\"toc\" style=\"margin-top: 1em;\"><ul class=\"toc-item\"><li><span><a href=\"#导入相关的包\" data-toc-modified-id=\"导入相关的包-1\"><span class=\"toc-item-num\">1&nbsp;&nbsp;</span>导入相关的包</a></span></li><li><span><a href=\"#导入相关数据\" data-toc-modified-id=\"导入相关数据-2\"><span class=\"toc-item-num\">2&nbsp;&nbsp;</span>导入相关数据</a></span></li><li><span><a href=\"#使用模型\" data-toc-modified-id=\"使用模型-3\"><span class=\"toc-item-num\">3&nbsp;&nbsp;</span>使用模型</a></span><ul class=\"toc-item\"><li><span><a href=\"#Lasso\" data-toc-modified-id=\"Lasso-3.1\"><span class=\"toc-item-num\">3.1&nbsp;&nbsp;</span>Lasso</a></span></li><li><span><a href=\"#LassorLar\" data-toc-modified-id=\"LassorLar-3.2\"><span class=\"toc-item-num\">3.2&nbsp;&nbsp;</span>LassorLar</a></span></li><li><span><a href=\"#贝叶斯回归\" data-toc-modified-id=\"贝叶斯回归-3.3\"><span class=\"toc-item-num\">3.3&nbsp;&nbsp;</span>贝叶斯回归</a></span></li><li><span><a href=\"#ENet\" data-toc-modified-id=\"ENet-3.4\"><span class=\"toc-item-num\">3.4&nbsp;&nbsp;</span>ENet</a></span></li><li><span><a href=\"#MLP\" data-toc-modified-id=\"MLP-3.5\"><span class=\"toc-item-num\">3.5&nbsp;&nbsp;</span>MLP</a></span></li><li><span><a href=\"#SVR\" data-toc-modified-id=\"SVR-3.6\"><span class=\"toc-item-num\">3.6&nbsp;&nbsp;</span>SVR</a></span></li><li><span><a href=\"#Ridge\" data-toc-modified-id=\"Ridge-3.7\"><span class=\"toc-item-num\">3.7&nbsp;&nbsp;</span>Ridge</a></span></li><li><span><a href=\"#RF\" data-toc-modified-id=\"RF-3.8\"><span class=\"toc-item-num\">3.8&nbsp;&nbsp;</span>RF</a></span></li><li><span><a href=\"#GBoost\" data-toc-modified-id=\"GBoost-3.9\"><span class=\"toc-item-num\">3.9&nbsp;&nbsp;</span>GBoost</a></span></li><li><span><a href=\"#XGBoost\" data-toc-modified-id=\"XGBoost-3.10\"><span class=\"toc-item-num\">3.10&nbsp;&nbsp;</span>XGBoost</a></span></li><li><span><a href=\"#LightGBM\" data-toc-modified-id=\"LightGBM-3.11\"><span class=\"toc-item-num\">3.11&nbsp;&nbsp;</span>LightGBM</a></span></li><li><span><a href=\"#Stacking\" data-toc-modified-id=\"Stacking-3.12\"><span class=\"toc-item-num\">3.12&nbsp;&nbsp;</span>Stacking</a></span></li><li><span><a href=\"#AverageModel\" data-toc-modified-id=\"AverageModel-3.13\"><span class=\"toc-item-num\">3.13&nbsp;&nbsp;</span>AverageModel</a></span></li></ul></li></ul></div>"
   ]
  },
  {
   "cell_type": "markdown",
   "metadata": {},
   "source": [
    "# 导入相关的包"
   ]
  },
  {
   "cell_type": "code",
   "execution_count": 1,
   "metadata": {
    "collapsed": false
   },
   "outputs": [],
   "source": [
    "import pandas as pd\n",
    "import numpy as np\n",
    "from sklearn.model_selection import train_test_split\n",
    "from sklearn.metrics import mean_squared_error\n",
    "import warnings\n",
    "warnings.filterwarnings(\"ignore\")\n",
    "%matplotlib inline"
   ]
  },
  {
   "cell_type": "markdown",
   "metadata": {},
   "source": [
    "# 导入相关数据"
   ]
  },
  {
   "cell_type": "code",
   "execution_count": 2,
   "metadata": {
    "collapsed": false
   },
   "outputs": [
    {
     "name": "stdout",
     "output_type": "stream",
     "text": [
      "Wall time: 0 ns\n"
     ]
    }
   ],
   "source": [
    "%time\n",
    "trains = pd.read_csv('../clean_data/base_train.csv',encoding=\"gbk\")\n",
    "vals = pd.read_csv('../clean_data/model_fill_train.csv',encoding='gbk')\n",
    "labels = \"blood_sugar\"\n",
    "features = [x for x in list(trains.columns) if x not in ['id','date','blood_sugar','blood_sugar_log']]\n",
    "features_with_no_cate = [x for x in list(trains.columns) if x not in ['id','date','blood_sugar','blood_sugar_log','gender','age']]\n",
    "x_val, x_test, y_val, y_test = train_test_split(vals[features], vals[labels],test_size=0.1, random_state=42)\n",
    "def re(y):\n",
    "    return np.exp(np.exp(np.exp(-y)))"
   ]
  },
  {
   "cell_type": "code",
   "execution_count": 3,
   "metadata": {
    "collapsed": false
   },
   "outputs": [],
   "source": [
    "first = [\"feature_34\",\"feature_35\",\"feature_36\",'feature_7','feature_26',\n",
    "         'feature_30','feature_29','feature_31', 'feature_28','feature_22',]\n",
    "second = [\"feature_34\",\"feature_35\",\"feature_36\",'feature_7','feature_25']\n",
    "third = [\"feature_34\",\"feature_35\",\"feature_36\",'feature_7','feature_25',\n",
    "         'feature_30','feature_29','feature_31', 'feature_28','feature_22']\n",
    "for i in second:\n",
    "    features_with_no_cate.remove(i)"
   ]
  },
  {
   "cell_type": "code",
   "execution_count": 20,
   "metadata": {
    "collapsed": false
   },
   "outputs": [
    {
     "data": {
      "text/plain": [
       "['feature_0',\n",
       " 'feature_1',\n",
       " 'feature_2',\n",
       " 'feature_3',\n",
       " 'feature_4',\n",
       " 'feature_5',\n",
       " 'feature_6',\n",
       " 'feature_8',\n",
       " 'feature_9',\n",
       " 'feature_10',\n",
       " 'feature_11',\n",
       " 'feature_12',\n",
       " 'feature_13',\n",
       " 'feature_14',\n",
       " 'feature_20',\n",
       " 'feature_21',\n",
       " 'feature_22',\n",
       " 'feature_23',\n",
       " 'feature_24',\n",
       " 'feature_26',\n",
       " 'feature_27',\n",
       " 'feature_28',\n",
       " 'feature_29',\n",
       " 'feature_30',\n",
       " 'feature_31',\n",
       " 'feature_32',\n",
       " 'feature_33']"
      ]
     },
     "execution_count": 20,
     "metadata": {},
     "output_type": "execute_result"
    }
   ],
   "source": [
    "features_with_no_cate"
   ]
  },
  {
   "cell_type": "markdown",
   "metadata": {},
   "source": [
    "# 使用模型"
   ]
  },
  {
   "cell_type": "code",
   "execution_count": 4,
   "metadata": {
    "collapsed": true
   },
   "outputs": [],
   "source": [
    "from sklearn.linear_model import ElasticNet, Lasso,  BayesianRidge, LassoLarsIC\n",
    "from sklearn.ensemble import RandomForestRegressor,  GradientBoostingRegressor\n",
    "from sklearn.kernel_ridge import KernelRidge\n",
    "from sklearn.pipeline import make_pipeline\n",
    "from sklearn.preprocessing import RobustScaler\n",
    "from sklearn.base import BaseEstimator, TransformerMixin, RegressorMixin, clone\n",
    "from sklearn.model_selection import KFold, cross_val_score, train_test_split\n",
    "from sklearn.metrics import mean_squared_error\n",
    "from mlxtend.regressor import StackingRegressor\n",
    "import xgboost as xgb\n",
    "import lightgbm as lgb"
   ]
  },
  {
   "cell_type": "code",
   "execution_count": 35,
   "metadata": {
    "collapsed": true
   },
   "outputs": [],
   "source": [
    "# vals = pd.read_csv('../clean_data/model_fill_train.csv',encoding='gbk')\n",
    "# trains = pd.concat([trains, vals],axis=0,ignore_index=True)\n",
    "# train = trains[features_with_no_cate]\n",
    "# y_train = trains[labels]\n",
    "# test = x_test[features_with_no_cate]\n",
    "# y_test = y_test"
   ]
  },
  {
   "cell_type": "code",
   "execution_count": 7,
   "metadata": {
    "collapsed": false
   },
   "outputs": [
    {
     "ename": "KeyError",
     "evalue": "'blood_sugar'",
     "output_type": "error",
     "traceback": [
      "\u001b[1;31m---------------------------------------------------------------------------\u001b[0m",
      "\u001b[1;31mKeyError\u001b[0m                                  Traceback (most recent call last)",
      "\u001b[1;32mD:\\ProgramData\\Anaconda3\\lib\\site-packages\\pandas\\core\\indexes\\base.py\u001b[0m in \u001b[0;36mget_loc\u001b[1;34m(self, key, method, tolerance)\u001b[0m\n\u001b[0;32m   2441\u001b[0m             \u001b[1;32mtry\u001b[0m\u001b[1;33m:\u001b[0m\u001b[1;33m\u001b[0m\u001b[0m\n\u001b[1;32m-> 2442\u001b[1;33m                 \u001b[1;32mreturn\u001b[0m \u001b[0mself\u001b[0m\u001b[1;33m.\u001b[0m\u001b[0m_engine\u001b[0m\u001b[1;33m.\u001b[0m\u001b[0mget_loc\u001b[0m\u001b[1;33m(\u001b[0m\u001b[0mkey\u001b[0m\u001b[1;33m)\u001b[0m\u001b[1;33m\u001b[0m\u001b[0m\n\u001b[0m\u001b[0;32m   2443\u001b[0m             \u001b[1;32mexcept\u001b[0m \u001b[0mKeyError\u001b[0m\u001b[1;33m:\u001b[0m\u001b[1;33m\u001b[0m\u001b[0m\n",
      "\u001b[1;32mpandas\\_libs\\index.pyx\u001b[0m in \u001b[0;36mpandas._libs.index.IndexEngine.get_loc (pandas\\_libs\\index.c:5280)\u001b[1;34m()\u001b[0m\n",
      "\u001b[1;32mpandas\\_libs\\index.pyx\u001b[0m in \u001b[0;36mpandas._libs.index.IndexEngine.get_loc (pandas\\_libs\\index.c:5126)\u001b[1;34m()\u001b[0m\n",
      "\u001b[1;32mpandas\\_libs\\hashtable_class_helper.pxi\u001b[0m in \u001b[0;36mpandas._libs.hashtable.PyObjectHashTable.get_item (pandas\\_libs\\hashtable.c:20523)\u001b[1;34m()\u001b[0m\n",
      "\u001b[1;32mpandas\\_libs\\hashtable_class_helper.pxi\u001b[0m in \u001b[0;36mpandas._libs.hashtable.PyObjectHashTable.get_item (pandas\\_libs\\hashtable.c:20477)\u001b[1;34m()\u001b[0m\n",
      "\u001b[1;31mKeyError\u001b[0m: 'blood_sugar'",
      "\nDuring handling of the above exception, another exception occurred:\n",
      "\u001b[1;31mKeyError\u001b[0m                                  Traceback (most recent call last)",
      "\u001b[1;32m<ipython-input-7-5a928775ca83>\u001b[0m in \u001b[0;36m<module>\u001b[1;34m()\u001b[0m\n\u001b[0;32m      2\u001b[0m \u001b[0mtest\u001b[0m \u001b[1;33m=\u001b[0m \u001b[0mpd\u001b[0m\u001b[1;33m.\u001b[0m\u001b[0mread_csv\u001b[0m\u001b[1;33m(\u001b[0m\u001b[1;34m\"../raw_data/fea_test.csv\"\u001b[0m\u001b[1;33m)\u001b[0m\u001b[1;33m\u001b[0m\u001b[0m\n\u001b[0;32m      3\u001b[0m \u001b[0mlabels\u001b[0m \u001b[1;33m=\u001b[0m \u001b[1;34m\"blood_sugar\"\u001b[0m\u001b[1;33m\u001b[0m\u001b[0m\n\u001b[1;32m----> 4\u001b[1;33m \u001b[0my_train\u001b[0m \u001b[1;33m=\u001b[0m \u001b[0mtrain\u001b[0m\u001b[1;33m[\u001b[0m\u001b[0mlabels\u001b[0m\u001b[1;33m]\u001b[0m\u001b[1;33m\u001b[0m\u001b[0m\n\u001b[0m\u001b[0;32m      5\u001b[0m \u001b[0msecond\u001b[0m \u001b[1;33m=\u001b[0m \u001b[1;33m[\u001b[0m\u001b[1;34m\"feature_34\"\u001b[0m\u001b[1;33m,\u001b[0m\u001b[1;34m\"feature_35\"\u001b[0m\u001b[1;33m,\u001b[0m\u001b[1;34m\"feature_36\"\u001b[0m\u001b[1;33m,\u001b[0m\u001b[1;34m'feature_7'\u001b[0m\u001b[1;33m,\u001b[0m\u001b[1;34m'feature_25'\u001b[0m\u001b[1;33m]\u001b[0m\u001b[1;33m\u001b[0m\u001b[0m\n\u001b[0;32m      6\u001b[0m \u001b[0mfeatures_with_no_cate\u001b[0m \u001b[1;33m=\u001b[0m \u001b[0mlist\u001b[0m\u001b[1;33m(\u001b[0m\u001b[0mtest\u001b[0m\u001b[1;33m.\u001b[0m\u001b[0mcolumns\u001b[0m\u001b[1;33m)\u001b[0m\u001b[1;33m\u001b[0m\u001b[0m\n",
      "\u001b[1;32mD:\\ProgramData\\Anaconda3\\lib\\site-packages\\pandas\\core\\frame.py\u001b[0m in \u001b[0;36m__getitem__\u001b[1;34m(self, key)\u001b[0m\n\u001b[0;32m   1962\u001b[0m             \u001b[1;32mreturn\u001b[0m \u001b[0mself\u001b[0m\u001b[1;33m.\u001b[0m\u001b[0m_getitem_multilevel\u001b[0m\u001b[1;33m(\u001b[0m\u001b[0mkey\u001b[0m\u001b[1;33m)\u001b[0m\u001b[1;33m\u001b[0m\u001b[0m\n\u001b[0;32m   1963\u001b[0m         \u001b[1;32melse\u001b[0m\u001b[1;33m:\u001b[0m\u001b[1;33m\u001b[0m\u001b[0m\n\u001b[1;32m-> 1964\u001b[1;33m             \u001b[1;32mreturn\u001b[0m \u001b[0mself\u001b[0m\u001b[1;33m.\u001b[0m\u001b[0m_getitem_column\u001b[0m\u001b[1;33m(\u001b[0m\u001b[0mkey\u001b[0m\u001b[1;33m)\u001b[0m\u001b[1;33m\u001b[0m\u001b[0m\n\u001b[0m\u001b[0;32m   1965\u001b[0m \u001b[1;33m\u001b[0m\u001b[0m\n\u001b[0;32m   1966\u001b[0m     \u001b[1;32mdef\u001b[0m \u001b[0m_getitem_column\u001b[0m\u001b[1;33m(\u001b[0m\u001b[0mself\u001b[0m\u001b[1;33m,\u001b[0m \u001b[0mkey\u001b[0m\u001b[1;33m)\u001b[0m\u001b[1;33m:\u001b[0m\u001b[1;33m\u001b[0m\u001b[0m\n",
      "\u001b[1;32mD:\\ProgramData\\Anaconda3\\lib\\site-packages\\pandas\\core\\frame.py\u001b[0m in \u001b[0;36m_getitem_column\u001b[1;34m(self, key)\u001b[0m\n\u001b[0;32m   1969\u001b[0m         \u001b[1;31m# get column\u001b[0m\u001b[1;33m\u001b[0m\u001b[1;33m\u001b[0m\u001b[0m\n\u001b[0;32m   1970\u001b[0m         \u001b[1;32mif\u001b[0m \u001b[0mself\u001b[0m\u001b[1;33m.\u001b[0m\u001b[0mcolumns\u001b[0m\u001b[1;33m.\u001b[0m\u001b[0mis_unique\u001b[0m\u001b[1;33m:\u001b[0m\u001b[1;33m\u001b[0m\u001b[0m\n\u001b[1;32m-> 1971\u001b[1;33m             \u001b[1;32mreturn\u001b[0m \u001b[0mself\u001b[0m\u001b[1;33m.\u001b[0m\u001b[0m_get_item_cache\u001b[0m\u001b[1;33m(\u001b[0m\u001b[0mkey\u001b[0m\u001b[1;33m)\u001b[0m\u001b[1;33m\u001b[0m\u001b[0m\n\u001b[0m\u001b[0;32m   1972\u001b[0m \u001b[1;33m\u001b[0m\u001b[0m\n\u001b[0;32m   1973\u001b[0m         \u001b[1;31m# duplicate columns & possible reduce dimensionality\u001b[0m\u001b[1;33m\u001b[0m\u001b[1;33m\u001b[0m\u001b[0m\n",
      "\u001b[1;32mD:\\ProgramData\\Anaconda3\\lib\\site-packages\\pandas\\core\\generic.py\u001b[0m in \u001b[0;36m_get_item_cache\u001b[1;34m(self, item)\u001b[0m\n\u001b[0;32m   1643\u001b[0m         \u001b[0mres\u001b[0m \u001b[1;33m=\u001b[0m \u001b[0mcache\u001b[0m\u001b[1;33m.\u001b[0m\u001b[0mget\u001b[0m\u001b[1;33m(\u001b[0m\u001b[0mitem\u001b[0m\u001b[1;33m)\u001b[0m\u001b[1;33m\u001b[0m\u001b[0m\n\u001b[0;32m   1644\u001b[0m         \u001b[1;32mif\u001b[0m \u001b[0mres\u001b[0m \u001b[1;32mis\u001b[0m \u001b[1;32mNone\u001b[0m\u001b[1;33m:\u001b[0m\u001b[1;33m\u001b[0m\u001b[0m\n\u001b[1;32m-> 1645\u001b[1;33m             \u001b[0mvalues\u001b[0m \u001b[1;33m=\u001b[0m \u001b[0mself\u001b[0m\u001b[1;33m.\u001b[0m\u001b[0m_data\u001b[0m\u001b[1;33m.\u001b[0m\u001b[0mget\u001b[0m\u001b[1;33m(\u001b[0m\u001b[0mitem\u001b[0m\u001b[1;33m)\u001b[0m\u001b[1;33m\u001b[0m\u001b[0m\n\u001b[0m\u001b[0;32m   1646\u001b[0m             \u001b[0mres\u001b[0m \u001b[1;33m=\u001b[0m \u001b[0mself\u001b[0m\u001b[1;33m.\u001b[0m\u001b[0m_box_item_values\u001b[0m\u001b[1;33m(\u001b[0m\u001b[0mitem\u001b[0m\u001b[1;33m,\u001b[0m \u001b[0mvalues\u001b[0m\u001b[1;33m)\u001b[0m\u001b[1;33m\u001b[0m\u001b[0m\n\u001b[0;32m   1647\u001b[0m             \u001b[0mcache\u001b[0m\u001b[1;33m[\u001b[0m\u001b[0mitem\u001b[0m\u001b[1;33m]\u001b[0m \u001b[1;33m=\u001b[0m \u001b[0mres\u001b[0m\u001b[1;33m\u001b[0m\u001b[0m\n",
      "\u001b[1;32mD:\\ProgramData\\Anaconda3\\lib\\site-packages\\pandas\\core\\internals.py\u001b[0m in \u001b[0;36mget\u001b[1;34m(self, item, fastpath)\u001b[0m\n\u001b[0;32m   3588\u001b[0m \u001b[1;33m\u001b[0m\u001b[0m\n\u001b[0;32m   3589\u001b[0m             \u001b[1;32mif\u001b[0m \u001b[1;32mnot\u001b[0m \u001b[0misnull\u001b[0m\u001b[1;33m(\u001b[0m\u001b[0mitem\u001b[0m\u001b[1;33m)\u001b[0m\u001b[1;33m:\u001b[0m\u001b[1;33m\u001b[0m\u001b[0m\n\u001b[1;32m-> 3590\u001b[1;33m                 \u001b[0mloc\u001b[0m \u001b[1;33m=\u001b[0m \u001b[0mself\u001b[0m\u001b[1;33m.\u001b[0m\u001b[0mitems\u001b[0m\u001b[1;33m.\u001b[0m\u001b[0mget_loc\u001b[0m\u001b[1;33m(\u001b[0m\u001b[0mitem\u001b[0m\u001b[1;33m)\u001b[0m\u001b[1;33m\u001b[0m\u001b[0m\n\u001b[0m\u001b[0;32m   3591\u001b[0m             \u001b[1;32melse\u001b[0m\u001b[1;33m:\u001b[0m\u001b[1;33m\u001b[0m\u001b[0m\n\u001b[0;32m   3592\u001b[0m                 \u001b[0mindexer\u001b[0m \u001b[1;33m=\u001b[0m \u001b[0mnp\u001b[0m\u001b[1;33m.\u001b[0m\u001b[0marange\u001b[0m\u001b[1;33m(\u001b[0m\u001b[0mlen\u001b[0m\u001b[1;33m(\u001b[0m\u001b[0mself\u001b[0m\u001b[1;33m.\u001b[0m\u001b[0mitems\u001b[0m\u001b[1;33m)\u001b[0m\u001b[1;33m)\u001b[0m\u001b[1;33m[\u001b[0m\u001b[0misnull\u001b[0m\u001b[1;33m(\u001b[0m\u001b[0mself\u001b[0m\u001b[1;33m.\u001b[0m\u001b[0mitems\u001b[0m\u001b[1;33m)\u001b[0m\u001b[1;33m]\u001b[0m\u001b[1;33m\u001b[0m\u001b[0m\n",
      "\u001b[1;32mD:\\ProgramData\\Anaconda3\\lib\\site-packages\\pandas\\core\\indexes\\base.py\u001b[0m in \u001b[0;36mget_loc\u001b[1;34m(self, key, method, tolerance)\u001b[0m\n\u001b[0;32m   2442\u001b[0m                 \u001b[1;32mreturn\u001b[0m \u001b[0mself\u001b[0m\u001b[1;33m.\u001b[0m\u001b[0m_engine\u001b[0m\u001b[1;33m.\u001b[0m\u001b[0mget_loc\u001b[0m\u001b[1;33m(\u001b[0m\u001b[0mkey\u001b[0m\u001b[1;33m)\u001b[0m\u001b[1;33m\u001b[0m\u001b[0m\n\u001b[0;32m   2443\u001b[0m             \u001b[1;32mexcept\u001b[0m \u001b[0mKeyError\u001b[0m\u001b[1;33m:\u001b[0m\u001b[1;33m\u001b[0m\u001b[0m\n\u001b[1;32m-> 2444\u001b[1;33m                 \u001b[1;32mreturn\u001b[0m \u001b[0mself\u001b[0m\u001b[1;33m.\u001b[0m\u001b[0m_engine\u001b[0m\u001b[1;33m.\u001b[0m\u001b[0mget_loc\u001b[0m\u001b[1;33m(\u001b[0m\u001b[0mself\u001b[0m\u001b[1;33m.\u001b[0m\u001b[0m_maybe_cast_indexer\u001b[0m\u001b[1;33m(\u001b[0m\u001b[0mkey\u001b[0m\u001b[1;33m)\u001b[0m\u001b[1;33m)\u001b[0m\u001b[1;33m\u001b[0m\u001b[0m\n\u001b[0m\u001b[0;32m   2445\u001b[0m \u001b[1;33m\u001b[0m\u001b[0m\n\u001b[0;32m   2446\u001b[0m         \u001b[0mindexer\u001b[0m \u001b[1;33m=\u001b[0m \u001b[0mself\u001b[0m\u001b[1;33m.\u001b[0m\u001b[0mget_indexer\u001b[0m\u001b[1;33m(\u001b[0m\u001b[1;33m[\u001b[0m\u001b[0mkey\u001b[0m\u001b[1;33m]\u001b[0m\u001b[1;33m,\u001b[0m \u001b[0mmethod\u001b[0m\u001b[1;33m=\u001b[0m\u001b[0mmethod\u001b[0m\u001b[1;33m,\u001b[0m \u001b[0mtolerance\u001b[0m\u001b[1;33m=\u001b[0m\u001b[0mtolerance\u001b[0m\u001b[1;33m)\u001b[0m\u001b[1;33m\u001b[0m\u001b[0m\n",
      "\u001b[1;32mpandas\\_libs\\index.pyx\u001b[0m in \u001b[0;36mpandas._libs.index.IndexEngine.get_loc (pandas\\_libs\\index.c:5280)\u001b[1;34m()\u001b[0m\n",
      "\u001b[1;32mpandas\\_libs\\index.pyx\u001b[0m in \u001b[0;36mpandas._libs.index.IndexEngine.get_loc (pandas\\_libs\\index.c:5126)\u001b[1;34m()\u001b[0m\n",
      "\u001b[1;32mpandas\\_libs\\hashtable_class_helper.pxi\u001b[0m in \u001b[0;36mpandas._libs.hashtable.PyObjectHashTable.get_item (pandas\\_libs\\hashtable.c:20523)\u001b[1;34m()\u001b[0m\n",
      "\u001b[1;32mpandas\\_libs\\hashtable_class_helper.pxi\u001b[0m in \u001b[0;36mpandas._libs.hashtable.PyObjectHashTable.get_item (pandas\\_libs\\hashtable.c:20477)\u001b[1;34m()\u001b[0m\n",
      "\u001b[1;31mKeyError\u001b[0m: 'blood_sugar'"
     ]
    }
   ],
   "source": [
    "train = pd.read_csv(\"../raw_data/fea_train.csv\")\n",
    "test = pd.read_csv(\"../raw_data/fea_test.csv\")\n",
    "labels = \"blood_sugar\"\n",
    "y_train = train[labels]\n",
    "second = [\"feature_34\",\"feature_35\",\"feature_36\",'feature_7','feature_25']\n",
    "features_with_no_cate = list(test.columns)\n",
    "for i in second:\n",
    "    features_with_no_cate.remove(i)\n",
    "train = train[features_with_no_cate]\n",
    "test = test[features_with_no_cate]"
   ]
  },
  {
   "cell_type": "code",
   "execution_count": 140,
   "metadata": {
    "collapsed": false
   },
   "outputs": [
    {
     "data": {
      "text/plain": [
       "(5606, 71)"
      ]
     },
     "execution_count": 140,
     "metadata": {},
     "output_type": "execute_result"
    },
    {
     "data": {
      "text/plain": [
       "(1000, 71)"
      ]
     },
     "execution_count": 140,
     "metadata": {},
     "output_type": "execute_result"
    },
    {
     "data": {
      "text/plain": [
       "0       6.06\n",
       "1       5.39\n",
       "2       5.59\n",
       "3       4.30\n",
       "4       5.97\n",
       "5       5.11\n",
       "6       5.94\n",
       "7       5.66\n",
       "8       5.48\n",
       "9       4.44\n",
       "10      5.48\n",
       "11      5.32\n",
       "12      5.08\n",
       "13      4.63\n",
       "14      4.92\n",
       "15      7.08\n",
       "16      4.66\n",
       "17      6.58\n",
       "18      4.29\n",
       "19      4.55\n",
       "20      5.16\n",
       "21      5.13\n",
       "22      4.37\n",
       "23      5.17\n",
       "24      4.64\n",
       "25      5.82\n",
       "26      6.29\n",
       "27      5.10\n",
       "28      5.41\n",
       "29      5.48\n",
       "        ... \n",
       "5576    4.99\n",
       "5577    4.83\n",
       "5578    4.81\n",
       "5579    5.12\n",
       "5580    5.41\n",
       "5581    7.51\n",
       "5582    6.43\n",
       "5583    5.01\n",
       "5584    6.55\n",
       "5585    4.81\n",
       "5586    5.29\n",
       "5587    4.71\n",
       "5588    4.74\n",
       "5589    4.76\n",
       "5590    4.48\n",
       "5591    4.75\n",
       "5592    4.69\n",
       "5593    5.21\n",
       "5594    5.28\n",
       "5595    4.78\n",
       "5596    4.75\n",
       "5597    5.19\n",
       "5598    4.38\n",
       "5599    5.09\n",
       "5600    5.05\n",
       "5601    5.17\n",
       "5602    5.20\n",
       "5603    5.63\n",
       "5604    4.84\n",
       "5605    5.40\n",
       "Name: blood_sugar, Length: 5606, dtype: float64"
      ]
     },
     "execution_count": 140,
     "metadata": {},
     "output_type": "execute_result"
    },
    {
     "data": {
      "text/plain": [
       "Index(['age', 'feature_0', 'feature_1', 'feature_10', 'feature_11',\n",
       "       'feature_12', 'feature_13', 'feature_14', 'feature_2', 'feature_20',\n",
       "       'feature_21', 'feature_22', 'feature_23', 'feature_24', 'feature_26',\n",
       "       'feature_27', 'feature_28', 'feature_29', 'feature_3', 'feature_30',\n",
       "       'feature_31', 'feature_32', 'feature_33', 'feature_4', 'feature_5',\n",
       "       'feature_6', 'feature_8', 'feature_9', 'feature_0_is_normal',\n",
       "       'feature_1_is_normal', 'feature_1_feature_0',\n",
       "       'feature_1_feature_0_is_normal', 'feature_2_is_normal',\n",
       "       'feature_3_is_normal', 'feature_4_is_normal', 'feature_5_is_normal',\n",
       "       'feature_6_is_normal', 'feature_8_is_normal', 'feature_9_is_normal',\n",
       "       'feature_10_is_normal', 'feature_10_gender_is_normal',\n",
       "       'feature_11_is_normal', 'feature_10_feature_11', 'feature_12_is_normal',\n",
       "       'feature_13_is_normal', 'feature_14_is_normal',\n",
       "       'feature_14_gender_is_normal', 'feature_20_is_normal',\n",
       "       'feature_21_is_normal', 'feature_22_is_normal', 'feature_23_is_normal',\n",
       "       'feature_24_is_normal', 'feature_25_is_normal', 'feature_26_is_normal',\n",
       "       'feature_27_is_normal', 'feature_28_is_normal', 'feature_29_is_normal',\n",
       "       'feature_30_is_normal', 'feature_31_is_normal', 'feature_32_is_normal',\n",
       "       'feature_20_feature_32', 'feature_33_is_normal',\n",
       "       'feature_20_feature_33', 'feature_34_is_normal',\n",
       "       'feature_20_feature_34', 'feature_35_is_normal',\n",
       "       'feature_20_feature_35', 'feature_36_is_normal',\n",
       "       'feature_20_feature_36', 'gender_0', 'gender_1'],\n",
       "      dtype='object')"
      ]
     },
     "execution_count": 140,
     "metadata": {},
     "output_type": "execute_result"
    },
    {
     "data": {
      "text/plain": [
       "Index(['age', 'feature_0', 'feature_1', 'feature_10', 'feature_11',\n",
       "       'feature_12', 'feature_13', 'feature_14', 'feature_2', 'feature_20',\n",
       "       'feature_21', 'feature_22', 'feature_23', 'feature_24', 'feature_26',\n",
       "       'feature_27', 'feature_28', 'feature_29', 'feature_3', 'feature_30',\n",
       "       'feature_31', 'feature_32', 'feature_33', 'feature_4', 'feature_5',\n",
       "       'feature_6', 'feature_8', 'feature_9', 'feature_0_is_normal',\n",
       "       'feature_1_is_normal', 'feature_1_feature_0',\n",
       "       'feature_1_feature_0_is_normal', 'feature_2_is_normal',\n",
       "       'feature_3_is_normal', 'feature_4_is_normal', 'feature_5_is_normal',\n",
       "       'feature_6_is_normal', 'feature_8_is_normal', 'feature_9_is_normal',\n",
       "       'feature_10_is_normal', 'feature_10_gender_is_normal',\n",
       "       'feature_11_is_normal', 'feature_10_feature_11', 'feature_12_is_normal',\n",
       "       'feature_13_is_normal', 'feature_14_is_normal',\n",
       "       'feature_14_gender_is_normal', 'feature_20_is_normal',\n",
       "       'feature_21_is_normal', 'feature_22_is_normal', 'feature_23_is_normal',\n",
       "       'feature_24_is_normal', 'feature_25_is_normal', 'feature_26_is_normal',\n",
       "       'feature_27_is_normal', 'feature_28_is_normal', 'feature_29_is_normal',\n",
       "       'feature_30_is_normal', 'feature_31_is_normal', 'feature_32_is_normal',\n",
       "       'feature_20_feature_32', 'feature_33_is_normal',\n",
       "       'feature_20_feature_33', 'feature_34_is_normal',\n",
       "       'feature_20_feature_34', 'feature_35_is_normal',\n",
       "       'feature_20_feature_35', 'feature_36_is_normal',\n",
       "       'feature_20_feature_36', 'gender_0', 'gender_1'],\n",
       "      dtype='object')"
      ]
     },
     "execution_count": 140,
     "metadata": {},
     "output_type": "execute_result"
    }
   ],
   "source": [
    "train.shape\n",
    "test.shape\n",
    "y_train\n",
    "train.columns\n",
    "test.columns"
   ]
  },
  {
   "cell_type": "code",
   "execution_count": 37,
   "metadata": {
    "collapsed": true
   },
   "outputs": [],
   "source": [
    "# sub_test = pd.read_csv('../clean_data/test.csv',encoding='gbk')\n",
    "# test_sub = sub_test[features_with_no_cate]"
   ]
  },
  {
   "cell_type": "code",
   "execution_count": 38,
   "metadata": {
    "collapsed": false
   },
   "outputs": [
    {
     "data": {
      "text/html": [
       "<div>\n",
       "<style>\n",
       "    .dataframe thead tr:only-child th {\n",
       "        text-align: right;\n",
       "    }\n",
       "\n",
       "    .dataframe thead th {\n",
       "        text-align: left;\n",
       "    }\n",
       "\n",
       "    .dataframe tbody tr th {\n",
       "        vertical-align: top;\n",
       "    }\n",
       "</style>\n",
       "<table border=\"1\" class=\"dataframe\">\n",
       "  <thead>\n",
       "    <tr style=\"text-align: right;\">\n",
       "      <th></th>\n",
       "      <th>feature_0</th>\n",
       "      <th>feature_1</th>\n",
       "      <th>feature_2</th>\n",
       "      <th>feature_3</th>\n",
       "      <th>feature_4</th>\n",
       "      <th>feature_5</th>\n",
       "      <th>feature_6</th>\n",
       "      <th>feature_8</th>\n",
       "      <th>feature_9</th>\n",
       "      <th>feature_10</th>\n",
       "      <th>...</th>\n",
       "      <th>feature_23</th>\n",
       "      <th>feature_24</th>\n",
       "      <th>feature_26</th>\n",
       "      <th>feature_27</th>\n",
       "      <th>feature_28</th>\n",
       "      <th>feature_29</th>\n",
       "      <th>feature_30</th>\n",
       "      <th>feature_31</th>\n",
       "      <th>feature_32</th>\n",
       "      <th>feature_33</th>\n",
       "    </tr>\n",
       "  </thead>\n",
       "  <tbody>\n",
       "    <tr>\n",
       "      <th>0</th>\n",
       "      <td>23.850</td>\n",
       "      <td>26.690</td>\n",
       "      <td>116.080</td>\n",
       "      <td>34.360</td>\n",
       "      <td>82.750</td>\n",
       "      <td>46.030</td>\n",
       "      <td>36.720</td>\n",
       "      <td>1.070</td>\n",
       "      <td>5.030</td>\n",
       "      <td>1.440</td>\n",
       "      <td>...</td>\n",
       "      <td>0.453</td>\n",
       "      <td>91.7</td>\n",
       "      <td>333.0</td>\n",
       "      <td>12.3</td>\n",
       "      <td>241.0</td>\n",
       "      <td>10.8</td>\n",
       "      <td>12.8</td>\n",
       "      <td>0.26</td>\n",
       "      <td>58.4</td>\n",
       "      <td>33.2</td>\n",
       "    </tr>\n",
       "    <tr>\n",
       "      <th>1</th>\n",
       "      <td>29.750</td>\n",
       "      <td>34.980</td>\n",
       "      <td>90.070</td>\n",
       "      <td>111.430</td>\n",
       "      <td>71.900</td>\n",
       "      <td>44.090</td>\n",
       "      <td>27.810</td>\n",
       "      <td>2.480</td>\n",
       "      <td>5.510</td>\n",
       "      <td>1.220</td>\n",
       "      <td>...</td>\n",
       "      <td>0.518</td>\n",
       "      <td>88.7</td>\n",
       "      <td>330.0</td>\n",
       "      <td>12.0</td>\n",
       "      <td>242.0</td>\n",
       "      <td>11.5</td>\n",
       "      <td>14.6</td>\n",
       "      <td>0.28</td>\n",
       "      <td>59.3</td>\n",
       "      <td>29.3</td>\n",
       "    </tr>\n",
       "    <tr>\n",
       "      <th>2</th>\n",
       "      <td>31.187</td>\n",
       "      <td>33.966</td>\n",
       "      <td>92.145</td>\n",
       "      <td>43.766</td>\n",
       "      <td>78.465</td>\n",
       "      <td>47.218</td>\n",
       "      <td>30.994</td>\n",
       "      <td>1.992</td>\n",
       "      <td>5.381</td>\n",
       "      <td>1.301</td>\n",
       "      <td>...</td>\n",
       "      <td>0.506</td>\n",
       "      <td>88.5</td>\n",
       "      <td>338.0</td>\n",
       "      <td>12.1</td>\n",
       "      <td>398.0</td>\n",
       "      <td>8.9</td>\n",
       "      <td>9.9</td>\n",
       "      <td>0.35</td>\n",
       "      <td>50.2</td>\n",
       "      <td>40.1</td>\n",
       "    </tr>\n",
       "    <tr>\n",
       "      <th>3</th>\n",
       "      <td>17.980</td>\n",
       "      <td>16.630</td>\n",
       "      <td>95.950</td>\n",
       "      <td>23.410</td>\n",
       "      <td>78.160</td>\n",
       "      <td>45.440</td>\n",
       "      <td>32.720</td>\n",
       "      <td>5.940</td>\n",
       "      <td>6.800</td>\n",
       "      <td>1.380</td>\n",
       "      <td>...</td>\n",
       "      <td>0.420</td>\n",
       "      <td>91.1</td>\n",
       "      <td>329.0</td>\n",
       "      <td>12.6</td>\n",
       "      <td>247.0</td>\n",
       "      <td>11.6</td>\n",
       "      <td>13.9</td>\n",
       "      <td>0.29</td>\n",
       "      <td>53.7</td>\n",
       "      <td>38.0</td>\n",
       "    </tr>\n",
       "    <tr>\n",
       "      <th>4</th>\n",
       "      <td>19.120</td>\n",
       "      <td>19.800</td>\n",
       "      <td>76.970</td>\n",
       "      <td>15.700</td>\n",
       "      <td>80.760</td>\n",
       "      <td>46.900</td>\n",
       "      <td>33.860</td>\n",
       "      <td>0.740</td>\n",
       "      <td>6.230</td>\n",
       "      <td>2.250</td>\n",
       "      <td>...</td>\n",
       "      <td>0.440</td>\n",
       "      <td>95.2</td>\n",
       "      <td>334.0</td>\n",
       "      <td>12.2</td>\n",
       "      <td>335.0</td>\n",
       "      <td>10.4</td>\n",
       "      <td>11.9</td>\n",
       "      <td>0.35</td>\n",
       "      <td>52.0</td>\n",
       "      <td>39.4</td>\n",
       "    </tr>\n",
       "  </tbody>\n",
       "</table>\n",
       "<p>5 rows × 27 columns</p>\n",
       "</div>"
      ],
      "text/plain": [
       "   feature_0  feature_1  feature_2  feature_3  feature_4  feature_5  \\\n",
       "0     23.850     26.690    116.080     34.360     82.750     46.030   \n",
       "1     29.750     34.980     90.070    111.430     71.900     44.090   \n",
       "2     31.187     33.966     92.145     43.766     78.465     47.218   \n",
       "3     17.980     16.630     95.950     23.410     78.160     45.440   \n",
       "4     19.120     19.800     76.970     15.700     80.760     46.900   \n",
       "\n",
       "   feature_6  feature_8  feature_9  feature_10     ...      feature_23  \\\n",
       "0     36.720      1.070      5.030       1.440     ...           0.453   \n",
       "1     27.810      2.480      5.510       1.220     ...           0.518   \n",
       "2     30.994      1.992      5.381       1.301     ...           0.506   \n",
       "3     32.720      5.940      6.800       1.380     ...           0.420   \n",
       "4     33.860      0.740      6.230       2.250     ...           0.440   \n",
       "\n",
       "   feature_24  feature_26  feature_27  feature_28  feature_29  feature_30  \\\n",
       "0        91.7       333.0        12.3       241.0        10.8        12.8   \n",
       "1        88.7       330.0        12.0       242.0        11.5        14.6   \n",
       "2        88.5       338.0        12.1       398.0         8.9         9.9   \n",
       "3        91.1       329.0        12.6       247.0        11.6        13.9   \n",
       "4        95.2       334.0        12.2       335.0        10.4        11.9   \n",
       "\n",
       "   feature_31  feature_32  feature_33  \n",
       "0        0.26        58.4        33.2  \n",
       "1        0.28        59.3        29.3  \n",
       "2        0.35        50.2        40.1  \n",
       "3        0.29        53.7        38.0  \n",
       "4        0.35        52.0        39.4  \n",
       "\n",
       "[5 rows x 27 columns]"
      ]
     },
     "execution_count": 38,
     "metadata": {},
     "output_type": "execute_result"
    },
    {
     "data": {
      "text/plain": [
       "(1000, 27)"
      ]
     },
     "execution_count": 38,
     "metadata": {},
     "output_type": "execute_result"
    }
   ],
   "source": [
    "test_sub.head()\n",
    "test_sub.shape"
   ]
  },
  {
   "cell_type": "code",
   "execution_count": 39,
   "metadata": {
    "collapsed": true
   },
   "outputs": [],
   "source": [
    "# gender_onehot_train = pd.get_dummies(trains['gender'])\n",
    "# gender_onehot_train.rename(columns={0:'gender_0',1:'gender_1'},inplace=True)\n",
    "# train = pd.concat([train, gender_onehot_train, trains['age']],axis=1)\n",
    "# gender_onehot_test = pd.get_dummies(x_test['gender'])\n",
    "# gender_onehot_test.rename(columns={0:'gender_0',1:'gender_1'},inplace=True)\n",
    "# test = pd.concat([test, gender_onehot_test, x_test['age']],axis=1)\n",
    "# gender_onehot_test = pd.get_dummies(sub_test['gender'])\n",
    "# gender_onehot_test.rename(columns={0:'gender_0',1:'gender_1'},inplace=True)\n",
    "# test_sub = pd.concat([test_sub, gender_onehot_test, sub_test['age']],axis=1)"
   ]
  },
  {
   "cell_type": "code",
   "execution_count": 40,
   "metadata": {
    "collapsed": false
   },
   "outputs": [],
   "source": [
    "# all_data = pd.concat([train, test],axis=0,ignore_index=True)\n",
    "# age_data = pd.get_dummies(all_data['age'])\n",
    "# all_data = pd.concat([all_data, age_data],axis=1)\n",
    "# all_data.drop('age',inplace=True,axis=1)\n",
    "# train = all_data[:train.shape[0]]\n",
    "# test = all_data[train.shape[0]:]"
   ]
  },
  {
   "cell_type": "code",
   "execution_count": 82,
   "metadata": {
    "collapsed": false
   },
   "outputs": [
    {
     "data": {
      "text/plain": [
       "(5606, 76)"
      ]
     },
     "execution_count": 82,
     "metadata": {},
     "output_type": "execute_result"
    },
    {
     "data": {
      "text/plain": [
       "(1000, 76)"
      ]
     },
     "execution_count": 82,
     "metadata": {},
     "output_type": "execute_result"
    }
   ],
   "source": [
    "train.shape\n",
    "test.shape"
   ]
  },
  {
   "cell_type": "code",
   "execution_count": 5,
   "metadata": {
    "collapsed": true
   },
   "outputs": [],
   "source": [
    "#Validation function\n",
    "n_folds = 10\n",
    "\n",
    "def rmsle_cv(model):\n",
    "    kf = KFold(n_folds, shuffle=True, random_state=42).get_n_splits(train.values)\n",
    "    rmse= np.sqrt(-cross_val_score(model, train.values, y_train, scoring=\"neg_mean_squared_error\", cv = kf))\n",
    "    return(rmse)\n",
    "def rmsle(y,y_pred):\n",
    "#     return 0.5 * mean_squared_error(re(y), re(y_pred))\n",
    "    return 0.5 * mean_squared_error(y, y_pred)"
   ]
  },
  {
   "cell_type": "markdown",
   "metadata": {},
   "source": [
    "## Lasso"
   ]
  },
  {
   "cell_type": "code",
   "execution_count": 6,
   "metadata": {
    "collapsed": false
   },
   "outputs": [
    {
     "name": "stdout",
     "output_type": "stream",
     "text": [
      "Wall time: 0 ns\n"
     ]
    },
    {
     "ename": "NameError",
     "evalue": "name 'train' is not defined",
     "output_type": "error",
     "traceback": [
      "\u001b[1;31m---------------------------------------------------------------------------\u001b[0m",
      "\u001b[1;31mNameError\u001b[0m                                 Traceback (most recent call last)",
      "\u001b[1;32m<ipython-input-6-3c952947d73a>\u001b[0m in \u001b[0;36m<module>\u001b[1;34m()\u001b[0m\n\u001b[0;32m      1\u001b[0m \u001b[0mget_ipython\u001b[0m\u001b[1;33m(\u001b[0m\u001b[1;33m)\u001b[0m\u001b[1;33m.\u001b[0m\u001b[0mrun_line_magic\u001b[0m\u001b[1;33m(\u001b[0m\u001b[1;34m'time'\u001b[0m\u001b[1;33m,\u001b[0m \u001b[1;34m''\u001b[0m\u001b[1;33m)\u001b[0m\u001b[1;33m\u001b[0m\u001b[0m\n\u001b[0;32m      2\u001b[0m \u001b[0mlasso\u001b[0m \u001b[1;33m=\u001b[0m \u001b[0mmake_pipeline\u001b[0m\u001b[1;33m(\u001b[0m\u001b[0mRobustScaler\u001b[0m\u001b[1;33m(\u001b[0m\u001b[1;33m)\u001b[0m\u001b[1;33m,\u001b[0m \u001b[0mLasso\u001b[0m\u001b[1;33m(\u001b[0m\u001b[0malpha\u001b[0m \u001b[1;33m=\u001b[0m\u001b[1;36m0.0005\u001b[0m\u001b[1;33m,\u001b[0m \u001b[0mrandom_state\u001b[0m\u001b[1;33m=\u001b[0m\u001b[1;36m42\u001b[0m\u001b[1;33m)\u001b[0m\u001b[1;33m)\u001b[0m\u001b[1;33m\u001b[0m\u001b[0m\n\u001b[1;32m----> 3\u001b[1;33m \u001b[0mscore\u001b[0m \u001b[1;33m=\u001b[0m \u001b[0mrmsle_cv\u001b[0m\u001b[1;33m(\u001b[0m\u001b[0mlasso\u001b[0m\u001b[1;33m)\u001b[0m\u001b[1;33m\u001b[0m\u001b[0m\n\u001b[0m\u001b[0;32m      4\u001b[0m \u001b[0mprint\u001b[0m\u001b[1;33m(\u001b[0m\u001b[1;34m\"\\nLasso score: {:.4f} ({:.4f})\\n\"\u001b[0m\u001b[1;33m.\u001b[0m\u001b[0mformat\u001b[0m\u001b[1;33m(\u001b[0m\u001b[0mscore\u001b[0m\u001b[1;33m.\u001b[0m\u001b[0mmean\u001b[0m\u001b[1;33m(\u001b[0m\u001b[1;33m)\u001b[0m\u001b[1;33m,\u001b[0m \u001b[0mscore\u001b[0m\u001b[1;33m.\u001b[0m\u001b[0mstd\u001b[0m\u001b[1;33m(\u001b[0m\u001b[1;33m)\u001b[0m\u001b[1;33m)\u001b[0m\u001b[1;33m)\u001b[0m\u001b[1;33m\u001b[0m\u001b[0m\n\u001b[0;32m      5\u001b[0m \u001b[0mlasso\u001b[0m\u001b[1;33m.\u001b[0m\u001b[0mfit\u001b[0m\u001b[1;33m(\u001b[0m\u001b[0mtrain\u001b[0m\u001b[1;33m,\u001b[0m\u001b[0my_train\u001b[0m\u001b[1;33m)\u001b[0m\u001b[1;33m\u001b[0m\u001b[0m\n",
      "\u001b[1;32m<ipython-input-5-73fea601b782>\u001b[0m in \u001b[0;36mrmsle_cv\u001b[1;34m(model)\u001b[0m\n\u001b[0;32m      3\u001b[0m \u001b[1;33m\u001b[0m\u001b[0m\n\u001b[0;32m      4\u001b[0m \u001b[1;32mdef\u001b[0m \u001b[0mrmsle_cv\u001b[0m\u001b[1;33m(\u001b[0m\u001b[0mmodel\u001b[0m\u001b[1;33m)\u001b[0m\u001b[1;33m:\u001b[0m\u001b[1;33m\u001b[0m\u001b[0m\n\u001b[1;32m----> 5\u001b[1;33m     \u001b[0mkf\u001b[0m \u001b[1;33m=\u001b[0m \u001b[0mKFold\u001b[0m\u001b[1;33m(\u001b[0m\u001b[0mn_folds\u001b[0m\u001b[1;33m,\u001b[0m \u001b[0mshuffle\u001b[0m\u001b[1;33m=\u001b[0m\u001b[1;32mTrue\u001b[0m\u001b[1;33m,\u001b[0m \u001b[0mrandom_state\u001b[0m\u001b[1;33m=\u001b[0m\u001b[1;36m42\u001b[0m\u001b[1;33m)\u001b[0m\u001b[1;33m.\u001b[0m\u001b[0mget_n_splits\u001b[0m\u001b[1;33m(\u001b[0m\u001b[0mtrain\u001b[0m\u001b[1;33m.\u001b[0m\u001b[0mvalues\u001b[0m\u001b[1;33m)\u001b[0m\u001b[1;33m\u001b[0m\u001b[0m\n\u001b[0m\u001b[0;32m      6\u001b[0m     \u001b[0mrmse\u001b[0m\u001b[1;33m=\u001b[0m \u001b[0mnp\u001b[0m\u001b[1;33m.\u001b[0m\u001b[0msqrt\u001b[0m\u001b[1;33m(\u001b[0m\u001b[1;33m-\u001b[0m\u001b[0mcross_val_score\u001b[0m\u001b[1;33m(\u001b[0m\u001b[0mmodel\u001b[0m\u001b[1;33m,\u001b[0m \u001b[0mtrain\u001b[0m\u001b[1;33m.\u001b[0m\u001b[0mvalues\u001b[0m\u001b[1;33m,\u001b[0m \u001b[0my_train\u001b[0m\u001b[1;33m,\u001b[0m \u001b[0mscoring\u001b[0m\u001b[1;33m=\u001b[0m\u001b[1;34m\"neg_mean_squared_error\"\u001b[0m\u001b[1;33m,\u001b[0m \u001b[0mcv\u001b[0m \u001b[1;33m=\u001b[0m \u001b[0mkf\u001b[0m\u001b[1;33m)\u001b[0m\u001b[1;33m)\u001b[0m\u001b[1;33m\u001b[0m\u001b[0m\n\u001b[0;32m      7\u001b[0m     \u001b[1;32mreturn\u001b[0m\u001b[1;33m(\u001b[0m\u001b[0mrmse\u001b[0m\u001b[1;33m)\u001b[0m\u001b[1;33m\u001b[0m\u001b[0m\n",
      "\u001b[1;31mNameError\u001b[0m: name 'train' is not defined"
     ]
    }
   ],
   "source": [
    "%time\n",
    "lasso = make_pipeline(RobustScaler(), Lasso(alpha =0.0005, random_state=42))\n",
    "score = rmsle_cv(lasso)\n",
    "print(\"\\nLasso score: {:.4f} ({:.4f})\\n\".format(score.mean(), score.std()))\n",
    "lasso.fit(train,y_train)\n",
    "lasso_train_pred = lasso.predict(train)\n",
    "lasso_pred = lasso.predict(test)\n",
    "print(\"train: \",rmsle(y_train, lasso_train_pred))\n",
    "# print(\"test: \", rmsle(y_test,lasso_pred))"
   ]
  },
  {
   "cell_type": "markdown",
   "metadata": {},
   "source": [
    "## LassorLar"
   ]
  },
  {
   "cell_type": "code",
   "execution_count": 80,
   "metadata": {
    "collapsed": false
   },
   "outputs": [
    {
     "name": "stdout",
     "output_type": "stream",
     "text": [
      "Wall time: 0 ns\n",
      "LassorLar score: 1.2479 (0.0632)\n",
      "\n"
     ]
    },
    {
     "data": {
      "text/plain": [
       "LassoLars(alpha=0.1, copy_X=True, eps=2.2204460492503131e-16,\n",
       "     fit_intercept=True, fit_path=True, max_iter=500, normalize=True,\n",
       "     positive=False, precompute='auto', verbose=False)"
      ]
     },
     "execution_count": 80,
     "metadata": {},
     "output_type": "execute_result"
    },
    {
     "name": "stdout",
     "output_type": "stream",
     "text": [
      "train:  0.778154696431\n"
     ]
    }
   ],
   "source": [
    "%time\n",
    "from sklearn import linear_model\n",
    "LassorLar = linear_model.LassoLars(alpha=.1)\n",
    "score = rmsle_cv(LassorLar)\n",
    "print(\"LassorLar score: {:.4f} ({:.4f})\\n\".format(score.mean(), score.std()))\n",
    "LassorLar.fit(train,y_train)\n",
    "LassorLar_train_pred = LassorLar.predict(train)\n",
    "LassorLar_pred = LassorLar.predict(test)\n",
    "print(\"train: \",rmsle(y_train, LassorLar_train_pred))\n",
    "# print(\"test: \", rmsle(y_test,LassorLar_pred))"
   ]
  },
  {
   "cell_type": "markdown",
   "metadata": {},
   "source": [
    "## 贝叶斯回归"
   ]
  },
  {
   "cell_type": "code",
   "execution_count": 84,
   "metadata": {
    "collapsed": false
   },
   "outputs": [
    {
     "name": "stdout",
     "output_type": "stream",
     "text": [
      "Wall time: 0 ns\n",
      "Bayreg score: 1.1316 (0.0533)\n",
      "\n"
     ]
    },
    {
     "data": {
      "text/plain": [
       "BayesianRidge(alpha_1=1e-06, alpha_2=1e-06, compute_score=False, copy_X=True,\n",
       "       fit_intercept=True, lambda_1=1e-06, lambda_2=1e-06, n_iter=300,\n",
       "       normalize=False, tol=0.001, verbose=False)"
      ]
     },
     "execution_count": 84,
     "metadata": {},
     "output_type": "execute_result"
    },
    {
     "name": "stdout",
     "output_type": "stream",
     "text": [
      "train:  0.625925582096\n"
     ]
    }
   ],
   "source": [
    "%time\n",
    "# 贝叶斯回归\n",
    "from sklearn import linear_model\n",
    "Bayreg = linear_model.BayesianRidge()\n",
    "score = rmsle_cv(Bayreg)\n",
    "print(\"Bayreg score: {:.4f} ({:.4f})\\n\".format(score.mean(), score.std()))\n",
    "Bayreg.fit(train,y_train)\n",
    "Bayreg_train_pred = Bayreg.predict(train)\n",
    "Bayreg_pred = Bayreg.predict(test)\n",
    "print(\"train: \",rmsle(y_train, Bayreg_train_pred))\n",
    "# print(\"test: \", rmsle(y_test,Bayreg_pred))"
   ]
  },
  {
   "cell_type": "markdown",
   "metadata": {},
   "source": [
    "## ENet"
   ]
  },
  {
   "cell_type": "code",
   "execution_count": 85,
   "metadata": {
    "collapsed": false
   },
   "outputs": [
    {
     "name": "stdout",
     "output_type": "stream",
     "text": [
      "Wall time: 0 ns\n",
      "ElasticNet score: 1.1348 (0.0554)\n",
      "\n"
     ]
    },
    {
     "data": {
      "text/plain": [
       "Pipeline(memory=None,\n",
       "     steps=[('robustscaler', RobustScaler(copy=True, quantile_range=(25.0, 75.0), with_centering=True,\n",
       "       with_scaling=True)), ('elasticnet', ElasticNet(alpha=0.005, copy_X=True, fit_intercept=True, l1_ratio=0.9,\n",
       "      max_iter=1000, normalize=False, positive=False, precompute=False,\n",
       "      random_state=42, selection='cyclic', tol=0.0001, warm_start=False))])"
      ]
     },
     "execution_count": 85,
     "metadata": {},
     "output_type": "execute_result"
    },
    {
     "name": "stdout",
     "output_type": "stream",
     "text": [
      "train:  0.625277792846\n"
     ]
    }
   ],
   "source": [
    "%time\n",
    "ENet = make_pipeline(RobustScaler(), ElasticNet(alpha=0.005, l1_ratio=.9, random_state=42))\n",
    "score = rmsle_cv(ENet)\n",
    "print(\"ElasticNet score: {:.4f} ({:.4f})\\n\".format(score.mean(), score.std()))\n",
    "ENet.fit(train,y_train)\n",
    "ENet_train_pred = ENet.predict(train)\n",
    "ENet_pred = ENet.predict(test)\n",
    "print(\"train: \",rmsle(y_train, ENet_train_pred))\n",
    "# print(\"test: \", rmsle(y_test,ENet_pred))"
   ]
  },
  {
   "cell_type": "markdown",
   "metadata": {},
   "source": [
    "## MLP"
   ]
  },
  {
   "cell_type": "code",
   "execution_count": 87,
   "metadata": {
    "collapsed": false
   },
   "outputs": [
    {
     "name": "stdout",
     "output_type": "stream",
     "text": [
      "mlp score: 1.3107 (0.0882)\n",
      "\n"
     ]
    },
    {
     "data": {
      "text/plain": [
       "Pipeline(memory=None,\n",
       "     steps=[('standardscaler', StandardScaler(copy=True, with_mean=True, with_std=True)), ('mlpregressor', MLPRegressor(activation='relu', alpha=0.0001, batch_size='auto', beta_1=0.9,\n",
       "       beta_2=0.999, early_stopping=False, epsilon=1e-08,\n",
       "       hidden_layer_sizes=(100,), learning_rate='adaptive',\n",
       "   ...       solver='adam', tol=0.0001, validation_fraction=0.1, verbose=False,\n",
       "       warm_start=False))])"
      ]
     },
     "execution_count": 87,
     "metadata": {},
     "output_type": "execute_result"
    },
    {
     "name": "stdout",
     "output_type": "stream",
     "text": [
      "train:  0.476601833956\n"
     ]
    }
   ],
   "source": [
    "from sklearn.neural_network import MLPRegressor\n",
    "from sklearn.preprocessing import StandardScaler\n",
    "mlp =  make_pipeline(StandardScaler(), MLPRegressor(random_state=42,learning_rate =\"adaptive\",max_iter=500))\n",
    "score = rmsle_cv(mlp)\n",
    "print(\"mlp score: {:.4f} ({:.4f})\\n\".format(score.mean(), score.std()))\n",
    "mlp.fit(train,y_train)\n",
    "mlp_train_pred = mlp.predict(train)\n",
    "mlp_pred = mlp.predict(test)\n",
    "print(\"train: \",rmsle(y_train, mlp_train_pred))\n",
    "# print(\"test: \", rmsle(y_test,mlp_pred))"
   ]
  },
  {
   "cell_type": "markdown",
   "metadata": {},
   "source": [
    "## SVR"
   ]
  },
  {
   "cell_type": "code",
   "execution_count": 88,
   "metadata": {
    "collapsed": false
   },
   "outputs": [
    {
     "name": "stdout",
     "output_type": "stream",
     "text": [
      "Wall time: 0 ns\n",
      "svr score: 1.2605 (0.0766)\n",
      "\n"
     ]
    },
    {
     "data": {
      "text/plain": [
       "SVR(C=1.0, cache_size=200, coef0=0.0, degree=3, epsilon=0.1, gamma='auto',\n",
       "  kernel='rbf', max_iter=-1, shrinking=True, tol=0.001, verbose=False)"
      ]
     },
     "execution_count": 88,
     "metadata": {},
     "output_type": "execute_result"
    },
    {
     "name": "stdout",
     "output_type": "stream",
     "text": [
      "train:  0.411049205205\n"
     ]
    }
   ],
   "source": [
    "%time\n",
    "from sklearn import svm\n",
    "svr = svm.SVR()\n",
    "score = rmsle_cv(svr)\n",
    "print(\"svr score: {:.4f} ({:.4f})\\n\".format(score.mean(), score.std()))\n",
    "svr.fit(train,y_train)\n",
    "svr_train_pred = svr.predict(train)\n",
    "svr_pred = svr.predict(test)\n",
    "print(\"train: \",rmsle(y_train, svr_train_pred))\n",
    "# print(\"test: \", rmsle(y_test,svr_pred))"
   ]
  },
  {
   "cell_type": "markdown",
   "metadata": {},
   "source": [
    "## Ridge"
   ]
  },
  {
   "cell_type": "code",
   "execution_count": 89,
   "metadata": {
    "collapsed": false
   },
   "outputs": [
    {
     "name": "stdout",
     "output_type": "stream",
     "text": [
      "Wall time: 0 ns\n",
      "Kernel Ridge score: 7.1461 (11.0879)\n",
      "\n"
     ]
    },
    {
     "data": {
      "text/plain": [
       "KernelRidge(alpha=0.6, coef0=2.5, degree=2, gamma=None, kernel='polynomial',\n",
       "      kernel_params=None)"
      ]
     },
     "execution_count": 89,
     "metadata": {},
     "output_type": "execute_result"
    },
    {
     "name": "stdout",
     "output_type": "stream",
     "text": [
      "train:  0.416427977505\n"
     ]
    },
    {
     "ename": "ValueError",
     "evalue": "Found input variables with inconsistent numbers of samples: [170, 1000]",
     "output_type": "error",
     "traceback": [
      "\u001b[1;31m---------------------------------------------------------------------------\u001b[0m",
      "\u001b[1;31mValueError\u001b[0m                                Traceback (most recent call last)",
      "\u001b[1;32m<ipython-input-89-56c639d54363>\u001b[0m in \u001b[0;36m<module>\u001b[1;34m()\u001b[0m\n\u001b[0;32m      7\u001b[0m \u001b[0mKRR_pred\u001b[0m \u001b[1;33m=\u001b[0m \u001b[0mKRR\u001b[0m\u001b[1;33m.\u001b[0m\u001b[0mpredict\u001b[0m\u001b[1;33m(\u001b[0m\u001b[0mtest\u001b[0m\u001b[1;33m)\u001b[0m\u001b[1;33m\u001b[0m\u001b[0m\n\u001b[0;32m      8\u001b[0m \u001b[0mprint\u001b[0m\u001b[1;33m(\u001b[0m\u001b[1;34m\"train: \"\u001b[0m\u001b[1;33m,\u001b[0m\u001b[0mrmsle\u001b[0m\u001b[1;33m(\u001b[0m\u001b[0my_train\u001b[0m\u001b[1;33m,\u001b[0m \u001b[0mKRR_train_pred\u001b[0m\u001b[1;33m)\u001b[0m\u001b[1;33m)\u001b[0m\u001b[1;33m\u001b[0m\u001b[0m\n\u001b[1;32m----> 9\u001b[1;33m \u001b[0mprint\u001b[0m\u001b[1;33m(\u001b[0m\u001b[1;34m\"test: \"\u001b[0m\u001b[1;33m,\u001b[0m \u001b[0mrmsle\u001b[0m\u001b[1;33m(\u001b[0m\u001b[0my_test\u001b[0m\u001b[1;33m,\u001b[0m\u001b[0mKRR_pred\u001b[0m\u001b[1;33m)\u001b[0m\u001b[1;33m)\u001b[0m\u001b[1;33m\u001b[0m\u001b[0m\n\u001b[0m",
      "\u001b[1;32m<ipython-input-78-15750ef04d81>\u001b[0m in \u001b[0;36mrmsle\u001b[1;34m(y, y_pred)\u001b[0m\n\u001b[0;32m      8\u001b[0m \u001b[1;32mdef\u001b[0m \u001b[0mrmsle\u001b[0m\u001b[1;33m(\u001b[0m\u001b[0my\u001b[0m\u001b[1;33m,\u001b[0m\u001b[0my_pred\u001b[0m\u001b[1;33m)\u001b[0m\u001b[1;33m:\u001b[0m\u001b[1;33m\u001b[0m\u001b[0m\n\u001b[0;32m      9\u001b[0m \u001b[1;31m#     return 0.5 * mean_squared_error(re(y), re(y_pred))\u001b[0m\u001b[1;33m\u001b[0m\u001b[1;33m\u001b[0m\u001b[0m\n\u001b[1;32m---> 10\u001b[1;33m     \u001b[1;32mreturn\u001b[0m \u001b[1;36m0.5\u001b[0m \u001b[1;33m*\u001b[0m \u001b[0mmean_squared_error\u001b[0m\u001b[1;33m(\u001b[0m\u001b[0my\u001b[0m\u001b[1;33m,\u001b[0m \u001b[0my_pred\u001b[0m\u001b[1;33m)\u001b[0m\u001b[1;33m\u001b[0m\u001b[0m\n\u001b[0m",
      "\u001b[1;32mD:\\ProgramData\\Anaconda3\\lib\\site-packages\\sklearn\\metrics\\regression.py\u001b[0m in \u001b[0;36mmean_squared_error\u001b[1;34m(y_true, y_pred, sample_weight, multioutput)\u001b[0m\n\u001b[0;32m    236\u001b[0m     \"\"\"\n\u001b[0;32m    237\u001b[0m     y_type, y_true, y_pred, multioutput = _check_reg_targets(\n\u001b[1;32m--> 238\u001b[1;33m         y_true, y_pred, multioutput)\n\u001b[0m\u001b[0;32m    239\u001b[0m     output_errors = np.average((y_true - y_pred) ** 2, axis=0,\n\u001b[0;32m    240\u001b[0m                                weights=sample_weight)\n",
      "\u001b[1;32mD:\\ProgramData\\Anaconda3\\lib\\site-packages\\sklearn\\metrics\\regression.py\u001b[0m in \u001b[0;36m_check_reg_targets\u001b[1;34m(y_true, y_pred, multioutput)\u001b[0m\n\u001b[0;32m     73\u001b[0m \u001b[1;33m\u001b[0m\u001b[0m\n\u001b[0;32m     74\u001b[0m     \"\"\"\n\u001b[1;32m---> 75\u001b[1;33m     \u001b[0mcheck_consistent_length\u001b[0m\u001b[1;33m(\u001b[0m\u001b[0my_true\u001b[0m\u001b[1;33m,\u001b[0m \u001b[0my_pred\u001b[0m\u001b[1;33m)\u001b[0m\u001b[1;33m\u001b[0m\u001b[0m\n\u001b[0m\u001b[0;32m     76\u001b[0m     \u001b[0my_true\u001b[0m \u001b[1;33m=\u001b[0m \u001b[0mcheck_array\u001b[0m\u001b[1;33m(\u001b[0m\u001b[0my_true\u001b[0m\u001b[1;33m,\u001b[0m \u001b[0mensure_2d\u001b[0m\u001b[1;33m=\u001b[0m\u001b[1;32mFalse\u001b[0m\u001b[1;33m)\u001b[0m\u001b[1;33m\u001b[0m\u001b[0m\n\u001b[0;32m     77\u001b[0m     \u001b[0my_pred\u001b[0m \u001b[1;33m=\u001b[0m \u001b[0mcheck_array\u001b[0m\u001b[1;33m(\u001b[0m\u001b[0my_pred\u001b[0m\u001b[1;33m,\u001b[0m \u001b[0mensure_2d\u001b[0m\u001b[1;33m=\u001b[0m\u001b[1;32mFalse\u001b[0m\u001b[1;33m)\u001b[0m\u001b[1;33m\u001b[0m\u001b[0m\n",
      "\u001b[1;32mD:\\ProgramData\\Anaconda3\\lib\\site-packages\\sklearn\\utils\\validation.py\u001b[0m in \u001b[0;36mcheck_consistent_length\u001b[1;34m(*arrays)\u001b[0m\n\u001b[0;32m    171\u001b[0m     \u001b[1;32mif\u001b[0m \u001b[0mlen\u001b[0m\u001b[1;33m(\u001b[0m\u001b[0muniques\u001b[0m\u001b[1;33m)\u001b[0m \u001b[1;33m>\u001b[0m \u001b[1;36m1\u001b[0m\u001b[1;33m:\u001b[0m\u001b[1;33m\u001b[0m\u001b[0m\n\u001b[0;32m    172\u001b[0m         raise ValueError(\"Found input variables with inconsistent numbers of\"\n\u001b[1;32m--> 173\u001b[1;33m                          \" samples: %r\" % [int(l) for l in lengths])\n\u001b[0m\u001b[0;32m    174\u001b[0m \u001b[1;33m\u001b[0m\u001b[0m\n\u001b[0;32m    175\u001b[0m \u001b[1;33m\u001b[0m\u001b[0m\n",
      "\u001b[1;31mValueError\u001b[0m: Found input variables with inconsistent numbers of samples: [170, 1000]"
     ]
    }
   ],
   "source": [
    "%time\n",
    "KRR = KernelRidge(alpha=0.6, kernel='polynomial', degree=2, coef0=2.5)\n",
    "score = rmsle_cv(KRR)\n",
    "print(\"Kernel Ridge score: {:.4f} ({:.4f})\\n\".format(score.mean(), score.std()))\n",
    "KRR.fit(train,y_train)\n",
    "KRR_train_pred = KRR.predict(train)\n",
    "KRR_pred = KRR.predict(test)\n",
    "print(\"train: \",rmsle(y_train, KRR_train_pred))\n",
    "# print(\"test: \", rmsle(y_test,KRR_pred))"
   ]
  },
  {
   "cell_type": "markdown",
   "metadata": {},
   "source": [
    "## RF"
   ]
  },
  {
   "cell_type": "code",
   "execution_count": 90,
   "metadata": {
    "collapsed": false
   },
   "outputs": [
    {
     "name": "stdout",
     "output_type": "stream",
     "text": [
      "Wall time: 0 ns\n",
      " rf score: 1.1919 (0.0707)\n",
      "\n"
     ]
    },
    {
     "data": {
      "text/plain": [
       "RandomForestRegressor(bootstrap=True, criterion='mse', max_depth=None,\n",
       "           max_features='auto', max_leaf_nodes=None,\n",
       "           min_impurity_decrease=0.0, min_impurity_split=None,\n",
       "           min_samples_leaf=1, min_samples_split=2,\n",
       "           min_weight_fraction_leaf=0.0, n_estimators=10, n_jobs=1,\n",
       "           oob_score=False, random_state=530, verbose=0, warm_start=False)"
      ]
     },
     "execution_count": 90,
     "metadata": {},
     "output_type": "execute_result"
    },
    {
     "name": "stdout",
     "output_type": "stream",
     "text": [
      "train:  0.133344048609\n"
     ]
    }
   ],
   "source": [
    "%time\n",
    "rf = RandomForestRegressor(random_state=530)\n",
    "score = rmsle_cv(rf)\n",
    "print(\"\\r rf score: {:.4f} ({:.4f})\\n\".format(score.mean(), score.std()))\n",
    "rf.fit(train,y_train)\n",
    "rf_train_pred = rf.predict(train)\n",
    "rf_pred = rf.predict(test)\n",
    "print(\"train: \",rmsle(y_train, rf_train_pred))\n",
    "# print(\"test: \", rmsle(y_test,rf_pred))"
   ]
  },
  {
   "cell_type": "markdown",
   "metadata": {},
   "source": [
    "## GBoost"
   ]
  },
  {
   "cell_type": "code",
   "execution_count": 91,
   "metadata": {
    "collapsed": false
   },
   "outputs": [
    {
     "name": "stdout",
     "output_type": "stream",
     "text": [
      "Wall time: 0 ns\n",
      "Gradient Boosting score: 1.1441 (0.0528)\n",
      "\n"
     ]
    },
    {
     "data": {
      "text/plain": [
       "GradientBoostingRegressor(alpha=0.9, criterion='friedman_mse', init=None,\n",
       "             learning_rate=0.05, loss='huber', max_depth=4,\n",
       "             max_features='sqrt', max_leaf_nodes=None,\n",
       "             min_impurity_decrease=0.0, min_impurity_split=None,\n",
       "             min_samples_leaf=15, min_samples_split=10,\n",
       "             min_weight_fraction_leaf=0.0, n_estimators=300,\n",
       "             presort='auto', random_state=5, subsample=1.0, verbose=0,\n",
       "             warm_start=False)"
      ]
     },
     "execution_count": 91,
     "metadata": {},
     "output_type": "execute_result"
    },
    {
     "name": "stdout",
     "output_type": "stream",
     "text": [
      "train:  0.537498324463\n"
     ]
    },
    {
     "ename": "ValueError",
     "evalue": "Found input variables with inconsistent numbers of samples: [170, 1000]",
     "output_type": "error",
     "traceback": [
      "\u001b[1;31m---------------------------------------------------------------------------\u001b[0m",
      "\u001b[1;31mValueError\u001b[0m                                Traceback (most recent call last)",
      "\u001b[1;32m<ipython-input-91-4ddb4d175864>\u001b[0m in \u001b[0;36m<module>\u001b[1;34m()\u001b[0m\n\u001b[0;32m     11\u001b[0m \u001b[0mGBoost_pred\u001b[0m \u001b[1;33m=\u001b[0m \u001b[0mGBoost\u001b[0m\u001b[1;33m.\u001b[0m\u001b[0mpredict\u001b[0m\u001b[1;33m(\u001b[0m\u001b[0mtest\u001b[0m\u001b[1;33m)\u001b[0m\u001b[1;33m\u001b[0m\u001b[0m\n\u001b[0;32m     12\u001b[0m \u001b[0mprint\u001b[0m\u001b[1;33m(\u001b[0m\u001b[1;34m\"train: \"\u001b[0m\u001b[1;33m,\u001b[0m\u001b[0mrmsle\u001b[0m\u001b[1;33m(\u001b[0m\u001b[0my_train\u001b[0m\u001b[1;33m,\u001b[0m \u001b[0mGBoost_train_pred\u001b[0m\u001b[1;33m)\u001b[0m\u001b[1;33m)\u001b[0m\u001b[1;33m\u001b[0m\u001b[0m\n\u001b[1;32m---> 13\u001b[1;33m \u001b[0mprint\u001b[0m\u001b[1;33m(\u001b[0m\u001b[1;34m\"test: \"\u001b[0m\u001b[1;33m,\u001b[0m \u001b[0mrmsle\u001b[0m\u001b[1;33m(\u001b[0m\u001b[0my_test\u001b[0m\u001b[1;33m,\u001b[0m\u001b[0mGBoost_pred\u001b[0m\u001b[1;33m)\u001b[0m\u001b[1;33m)\u001b[0m\u001b[1;33m\u001b[0m\u001b[0m\n\u001b[0m",
      "\u001b[1;32m<ipython-input-78-15750ef04d81>\u001b[0m in \u001b[0;36mrmsle\u001b[1;34m(y, y_pred)\u001b[0m\n\u001b[0;32m      8\u001b[0m \u001b[1;32mdef\u001b[0m \u001b[0mrmsle\u001b[0m\u001b[1;33m(\u001b[0m\u001b[0my\u001b[0m\u001b[1;33m,\u001b[0m\u001b[0my_pred\u001b[0m\u001b[1;33m)\u001b[0m\u001b[1;33m:\u001b[0m\u001b[1;33m\u001b[0m\u001b[0m\n\u001b[0;32m      9\u001b[0m \u001b[1;31m#     return 0.5 * mean_squared_error(re(y), re(y_pred))\u001b[0m\u001b[1;33m\u001b[0m\u001b[1;33m\u001b[0m\u001b[0m\n\u001b[1;32m---> 10\u001b[1;33m     \u001b[1;32mreturn\u001b[0m \u001b[1;36m0.5\u001b[0m \u001b[1;33m*\u001b[0m \u001b[0mmean_squared_error\u001b[0m\u001b[1;33m(\u001b[0m\u001b[0my\u001b[0m\u001b[1;33m,\u001b[0m \u001b[0my_pred\u001b[0m\u001b[1;33m)\u001b[0m\u001b[1;33m\u001b[0m\u001b[0m\n\u001b[0m",
      "\u001b[1;32mD:\\ProgramData\\Anaconda3\\lib\\site-packages\\sklearn\\metrics\\regression.py\u001b[0m in \u001b[0;36mmean_squared_error\u001b[1;34m(y_true, y_pred, sample_weight, multioutput)\u001b[0m\n\u001b[0;32m    236\u001b[0m     \"\"\"\n\u001b[0;32m    237\u001b[0m     y_type, y_true, y_pred, multioutput = _check_reg_targets(\n\u001b[1;32m--> 238\u001b[1;33m         y_true, y_pred, multioutput)\n\u001b[0m\u001b[0;32m    239\u001b[0m     output_errors = np.average((y_true - y_pred) ** 2, axis=0,\n\u001b[0;32m    240\u001b[0m                                weights=sample_weight)\n",
      "\u001b[1;32mD:\\ProgramData\\Anaconda3\\lib\\site-packages\\sklearn\\metrics\\regression.py\u001b[0m in \u001b[0;36m_check_reg_targets\u001b[1;34m(y_true, y_pred, multioutput)\u001b[0m\n\u001b[0;32m     73\u001b[0m \u001b[1;33m\u001b[0m\u001b[0m\n\u001b[0;32m     74\u001b[0m     \"\"\"\n\u001b[1;32m---> 75\u001b[1;33m     \u001b[0mcheck_consistent_length\u001b[0m\u001b[1;33m(\u001b[0m\u001b[0my_true\u001b[0m\u001b[1;33m,\u001b[0m \u001b[0my_pred\u001b[0m\u001b[1;33m)\u001b[0m\u001b[1;33m\u001b[0m\u001b[0m\n\u001b[0m\u001b[0;32m     76\u001b[0m     \u001b[0my_true\u001b[0m \u001b[1;33m=\u001b[0m \u001b[0mcheck_array\u001b[0m\u001b[1;33m(\u001b[0m\u001b[0my_true\u001b[0m\u001b[1;33m,\u001b[0m \u001b[0mensure_2d\u001b[0m\u001b[1;33m=\u001b[0m\u001b[1;32mFalse\u001b[0m\u001b[1;33m)\u001b[0m\u001b[1;33m\u001b[0m\u001b[0m\n\u001b[0;32m     77\u001b[0m     \u001b[0my_pred\u001b[0m \u001b[1;33m=\u001b[0m \u001b[0mcheck_array\u001b[0m\u001b[1;33m(\u001b[0m\u001b[0my_pred\u001b[0m\u001b[1;33m,\u001b[0m \u001b[0mensure_2d\u001b[0m\u001b[1;33m=\u001b[0m\u001b[1;32mFalse\u001b[0m\u001b[1;33m)\u001b[0m\u001b[1;33m\u001b[0m\u001b[0m\n",
      "\u001b[1;32mD:\\ProgramData\\Anaconda3\\lib\\site-packages\\sklearn\\utils\\validation.py\u001b[0m in \u001b[0;36mcheck_consistent_length\u001b[1;34m(*arrays)\u001b[0m\n\u001b[0;32m    171\u001b[0m     \u001b[1;32mif\u001b[0m \u001b[0mlen\u001b[0m\u001b[1;33m(\u001b[0m\u001b[0muniques\u001b[0m\u001b[1;33m)\u001b[0m \u001b[1;33m>\u001b[0m \u001b[1;36m1\u001b[0m\u001b[1;33m:\u001b[0m\u001b[1;33m\u001b[0m\u001b[0m\n\u001b[0;32m    172\u001b[0m         raise ValueError(\"Found input variables with inconsistent numbers of\"\n\u001b[1;32m--> 173\u001b[1;33m                          \" samples: %r\" % [int(l) for l in lengths])\n\u001b[0m\u001b[0;32m    174\u001b[0m \u001b[1;33m\u001b[0m\u001b[0m\n\u001b[0;32m    175\u001b[0m \u001b[1;33m\u001b[0m\u001b[0m\n",
      "\u001b[1;31mValueError\u001b[0m: Found input variables with inconsistent numbers of samples: [170, 1000]"
     ]
    }
   ],
   "source": [
    "%time\n",
    "GBoost = GradientBoostingRegressor(n_estimators=300, learning_rate=0.05,\n",
    "                                   max_depth=4, max_features='sqrt',\n",
    "                                   min_samples_leaf=15, min_samples_split=10, \n",
    "                                   loss='huber', random_state =5)\n",
    "\n",
    "score = rmsle_cv(GBoost)\n",
    "print(\"Gradient Boosting score: {:.4f} ({:.4f})\\n\".format(score.mean(), score.std()))\n",
    "GBoost.fit(train, y_train)\n",
    "GBoost_train_pred = GBoost.predict(train)\n",
    "GBoost_pred = GBoost.predict(test)\n",
    "print(\"train: \",rmsle(y_train, GBoost_train_pred))\n",
    "# print(\"test: \", rmsle(y_test,GBoost_pred))"
   ]
  },
  {
   "cell_type": "markdown",
   "metadata": {},
   "source": [
    "## XGBoost"
   ]
  },
  {
   "cell_type": "code",
   "execution_count": 144,
   "metadata": {
    "collapsed": false
   },
   "outputs": [
    {
     "name": "stdout",
     "output_type": "stream",
     "text": [
      "Wall time: 0 ns\n",
      "Xgboost score: 1.1252 (0.0513)\n",
      "\n",
      "[0]\tvalidation_0-rmse:5.1742\n",
      "[1]\tvalidation_0-rmse:5.12572\n",
      "[2]\tvalidation_0-rmse:5.07726\n",
      "[3]\tvalidation_0-rmse:5.0294\n",
      "[4]\tvalidation_0-rmse:4.98203\n",
      "[5]\tvalidation_0-rmse:4.9351\n",
      "[6]\tvalidation_0-rmse:4.88863\n",
      "[7]\tvalidation_0-rmse:4.84269\n",
      "[8]\tvalidation_0-rmse:4.79769\n",
      "[9]\tvalidation_0-rmse:4.7527\n",
      "[10]\tvalidation_0-rmse:4.70795\n",
      "[11]\tvalidation_0-rmse:4.66406\n",
      "[12]\tvalidation_0-rmse:4.62077\n",
      "[13]\tvalidation_0-rmse:4.57761\n",
      "[14]\tvalidation_0-rmse:4.53509\n",
      "[15]\tvalidation_0-rmse:4.49265\n",
      "[16]\tvalidation_0-rmse:4.45089\n",
      "[17]\tvalidation_0-rmse:4.40939\n",
      "[18]\tvalidation_0-rmse:4.36882\n",
      "[19]\tvalidation_0-rmse:4.32809\n",
      "[20]\tvalidation_0-rmse:4.28787\n",
      "[21]\tvalidation_0-rmse:4.24902\n",
      "[22]\tvalidation_0-rmse:4.20962\n",
      "[23]\tvalidation_0-rmse:4.17061\n",
      "[24]\tvalidation_0-rmse:4.13241\n",
      "[25]\tvalidation_0-rmse:4.09461\n",
      "[26]\tvalidation_0-rmse:4.05671\n",
      "[27]\tvalidation_0-rmse:4.01963\n",
      "[28]\tvalidation_0-rmse:3.98247\n",
      "[29]\tvalidation_0-rmse:3.94604\n",
      "[30]\tvalidation_0-rmse:3.91019\n",
      "[31]\tvalidation_0-rmse:3.8745\n",
      "[32]\tvalidation_0-rmse:3.83919\n",
      "[33]\tvalidation_0-rmse:3.80455\n",
      "[34]\tvalidation_0-rmse:3.77022\n",
      "[35]\tvalidation_0-rmse:3.73592\n",
      "[36]\tvalidation_0-rmse:3.70221\n",
      "[37]\tvalidation_0-rmse:3.66886\n",
      "[38]\tvalidation_0-rmse:3.6363\n",
      "[39]\tvalidation_0-rmse:3.60376\n",
      "[40]\tvalidation_0-rmse:3.5713\n",
      "[41]\tvalidation_0-rmse:3.53968\n",
      "[42]\tvalidation_0-rmse:3.50838\n",
      "[43]\tvalidation_0-rmse:3.47679\n",
      "[44]\tvalidation_0-rmse:3.44616\n",
      "[45]\tvalidation_0-rmse:3.41561\n",
      "[46]\tvalidation_0-rmse:3.38536\n",
      "[47]\tvalidation_0-rmse:3.35568\n",
      "[48]\tvalidation_0-rmse:3.32636\n",
      "[49]\tvalidation_0-rmse:3.29726\n",
      "[50]\tvalidation_0-rmse:3.26846\n",
      "[51]\tvalidation_0-rmse:3.24002\n",
      "[52]\tvalidation_0-rmse:3.21178\n",
      "[53]\tvalidation_0-rmse:3.18429\n",
      "[54]\tvalidation_0-rmse:3.15736\n",
      "[55]\tvalidation_0-rmse:3.12967\n",
      "[56]\tvalidation_0-rmse:3.10268\n",
      "[57]\tvalidation_0-rmse:3.07592\n",
      "[58]\tvalidation_0-rmse:3.04963\n",
      "[59]\tvalidation_0-rmse:3.02384\n",
      "[60]\tvalidation_0-rmse:2.99822\n",
      "[61]\tvalidation_0-rmse:2.9729\n",
      "[62]\tvalidation_0-rmse:2.94755\n",
      "[63]\tvalidation_0-rmse:2.92244\n",
      "[64]\tvalidation_0-rmse:2.89814\n",
      "[65]\tvalidation_0-rmse:2.87366\n",
      "[66]\tvalidation_0-rmse:2.84934\n",
      "[67]\tvalidation_0-rmse:2.82572\n",
      "[68]\tvalidation_0-rmse:2.80268\n",
      "[69]\tvalidation_0-rmse:2.77955\n",
      "[70]\tvalidation_0-rmse:2.75641\n",
      "[71]\tvalidation_0-rmse:2.73368\n",
      "[72]\tvalidation_0-rmse:2.71157\n",
      "[73]\tvalidation_0-rmse:2.68951\n",
      "[74]\tvalidation_0-rmse:2.66787\n",
      "[75]\tvalidation_0-rmse:2.64601\n",
      "[76]\tvalidation_0-rmse:2.62471\n",
      "[77]\tvalidation_0-rmse:2.60344\n",
      "[78]\tvalidation_0-rmse:2.58274\n",
      "[79]\tvalidation_0-rmse:2.56222\n",
      "[80]\tvalidation_0-rmse:2.54201\n",
      "[81]\tvalidation_0-rmse:2.52235\n",
      "[82]\tvalidation_0-rmse:2.50226\n",
      "[83]\tvalidation_0-rmse:2.48198\n",
      "[84]\tvalidation_0-rmse:2.46291\n",
      "[85]\tvalidation_0-rmse:2.44329\n",
      "[86]\tvalidation_0-rmse:2.4243\n",
      "[87]\tvalidation_0-rmse:2.4054\n",
      "[88]\tvalidation_0-rmse:2.38719\n",
      "[89]\tvalidation_0-rmse:2.36895\n",
      "[90]\tvalidation_0-rmse:2.35057\n",
      "[91]\tvalidation_0-rmse:2.33251\n",
      "[92]\tvalidation_0-rmse:2.31464\n",
      "[93]\tvalidation_0-rmse:2.29736\n",
      "[94]\tvalidation_0-rmse:2.27996\n",
      "[95]\tvalidation_0-rmse:2.26314\n",
      "[96]\tvalidation_0-rmse:2.24635\n",
      "[97]\tvalidation_0-rmse:2.22985\n",
      "[98]\tvalidation_0-rmse:2.21345\n",
      "[99]\tvalidation_0-rmse:2.19727\n",
      "[100]\tvalidation_0-rmse:2.18159\n",
      "[101]\tvalidation_0-rmse:2.16586\n",
      "[102]\tvalidation_0-rmse:2.15018\n",
      "[103]\tvalidation_0-rmse:2.13486\n",
      "[104]\tvalidation_0-rmse:2.11941\n",
      "[105]\tvalidation_0-rmse:2.10423\n",
      "[106]\tvalidation_0-rmse:2.08907\n",
      "[107]\tvalidation_0-rmse:2.07456\n",
      "[108]\tvalidation_0-rmse:2.06002\n",
      "[109]\tvalidation_0-rmse:2.04559\n",
      "[110]\tvalidation_0-rmse:2.03164\n",
      "[111]\tvalidation_0-rmse:2.01771\n",
      "[112]\tvalidation_0-rmse:2.00403\n",
      "[113]\tvalidation_0-rmse:1.99042\n",
      "[114]\tvalidation_0-rmse:1.9768\n",
      "[115]\tvalidation_0-rmse:1.96385\n",
      "[116]\tvalidation_0-rmse:1.95066\n",
      "[117]\tvalidation_0-rmse:1.93772\n",
      "[118]\tvalidation_0-rmse:1.9249\n",
      "[119]\tvalidation_0-rmse:1.91263\n",
      "[120]\tvalidation_0-rmse:1.90019\n",
      "[121]\tvalidation_0-rmse:1.88834\n",
      "[122]\tvalidation_0-rmse:1.87622\n",
      "[123]\tvalidation_0-rmse:1.8642\n",
      "[124]\tvalidation_0-rmse:1.85249\n",
      "[125]\tvalidation_0-rmse:1.84122\n",
      "[126]\tvalidation_0-rmse:1.82995\n",
      "[127]\tvalidation_0-rmse:1.81886\n",
      "[128]\tvalidation_0-rmse:1.80782\n",
      "[129]\tvalidation_0-rmse:1.79712\n",
      "[130]\tvalidation_0-rmse:1.78615\n",
      "[131]\tvalidation_0-rmse:1.77547\n",
      "[132]\tvalidation_0-rmse:1.76471\n",
      "[133]\tvalidation_0-rmse:1.7545\n",
      "[134]\tvalidation_0-rmse:1.74435\n",
      "[135]\tvalidation_0-rmse:1.73419\n",
      "[136]\tvalidation_0-rmse:1.72403\n",
      "[137]\tvalidation_0-rmse:1.71407\n",
      "[138]\tvalidation_0-rmse:1.70413\n",
      "[139]\tvalidation_0-rmse:1.69446\n",
      "[140]\tvalidation_0-rmse:1.6853\n",
      "[141]\tvalidation_0-rmse:1.67589\n",
      "[142]\tvalidation_0-rmse:1.66659\n",
      "[143]\tvalidation_0-rmse:1.65754\n",
      "[144]\tvalidation_0-rmse:1.64825\n",
      "[145]\tvalidation_0-rmse:1.63958\n",
      "[146]\tvalidation_0-rmse:1.63098\n",
      "[147]\tvalidation_0-rmse:1.62229\n",
      "[148]\tvalidation_0-rmse:1.61399\n",
      "[149]\tvalidation_0-rmse:1.6053\n",
      "[150]\tvalidation_0-rmse:1.59704\n",
      "[151]\tvalidation_0-rmse:1.58884\n",
      "[152]\tvalidation_0-rmse:1.58075\n",
      "[153]\tvalidation_0-rmse:1.57322\n",
      "[154]\tvalidation_0-rmse:1.56554\n",
      "[155]\tvalidation_0-rmse:1.55789\n",
      "[156]\tvalidation_0-rmse:1.55008\n",
      "[157]\tvalidation_0-rmse:1.54244\n",
      "[158]\tvalidation_0-rmse:1.53563\n",
      "[159]\tvalidation_0-rmse:1.52836\n",
      "[160]\tvalidation_0-rmse:1.52138\n",
      "[161]\tvalidation_0-rmse:1.51403\n",
      "[162]\tvalidation_0-rmse:1.50736\n",
      "[163]\tvalidation_0-rmse:1.50058\n",
      "[164]\tvalidation_0-rmse:1.49388\n",
      "[165]\tvalidation_0-rmse:1.48744\n",
      "[166]\tvalidation_0-rmse:1.4809\n",
      "[167]\tvalidation_0-rmse:1.47467\n",
      "[168]\tvalidation_0-rmse:1.46813\n",
      "[169]\tvalidation_0-rmse:1.462\n",
      "[170]\tvalidation_0-rmse:1.4563\n",
      "[171]\tvalidation_0-rmse:1.45055\n",
      "[172]\tvalidation_0-rmse:1.44471\n",
      "[173]\tvalidation_0-rmse:1.43921\n",
      "[174]\tvalidation_0-rmse:1.43379\n",
      "[175]\tvalidation_0-rmse:1.42825\n",
      "[176]\tvalidation_0-rmse:1.42289\n",
      "[177]\tvalidation_0-rmse:1.41744\n",
      "[178]\tvalidation_0-rmse:1.41232\n",
      "[179]\tvalidation_0-rmse:1.40718\n",
      "[180]\tvalidation_0-rmse:1.4023\n",
      "[181]\tvalidation_0-rmse:1.39746\n",
      "[182]\tvalidation_0-rmse:1.39242\n",
      "[183]\tvalidation_0-rmse:1.38775\n",
      "[184]\tvalidation_0-rmse:1.38293\n",
      "[185]\tvalidation_0-rmse:1.37819\n",
      "[186]\tvalidation_0-rmse:1.37349\n",
      "[187]\tvalidation_0-rmse:1.36891\n",
      "[188]\tvalidation_0-rmse:1.36427\n",
      "[189]\tvalidation_0-rmse:1.35995\n",
      "[190]\tvalidation_0-rmse:1.35589\n",
      "[191]\tvalidation_0-rmse:1.35175\n",
      "[192]\tvalidation_0-rmse:1.34715\n",
      "[193]\tvalidation_0-rmse:1.34255\n",
      "[194]\tvalidation_0-rmse:1.33857\n",
      "[195]\tvalidation_0-rmse:1.33426\n",
      "[196]\tvalidation_0-rmse:1.33034\n",
      "[197]\tvalidation_0-rmse:1.32658\n",
      "[198]\tvalidation_0-rmse:1.3221\n",
      "[199]\tvalidation_0-rmse:1.31861\n",
      "[200]\tvalidation_0-rmse:1.31517\n",
      "[201]\tvalidation_0-rmse:1.31159\n",
      "[202]\tvalidation_0-rmse:1.30812\n",
      "[203]\tvalidation_0-rmse:1.30474\n",
      "[204]\tvalidation_0-rmse:1.3011\n",
      "[205]\tvalidation_0-rmse:1.29725\n",
      "[206]\tvalidation_0-rmse:1.2936\n",
      "[207]\tvalidation_0-rmse:1.29019\n",
      "[208]\tvalidation_0-rmse:1.2869\n",
      "[209]\tvalidation_0-rmse:1.28371\n",
      "[210]\tvalidation_0-rmse:1.27975\n",
      "[211]\tvalidation_0-rmse:1.27633\n",
      "[212]\tvalidation_0-rmse:1.2733\n",
      "[213]\tvalidation_0-rmse:1.26991\n",
      "[214]\tvalidation_0-rmse:1.26711\n",
      "[215]\tvalidation_0-rmse:1.26394\n",
      "[216]\tvalidation_0-rmse:1.26112\n",
      "[217]\tvalidation_0-rmse:1.25839\n",
      "[218]\tvalidation_0-rmse:1.25581\n",
      "[219]\tvalidation_0-rmse:1.25322\n",
      "[220]\tvalidation_0-rmse:1.25042\n",
      "[221]\tvalidation_0-rmse:1.24774\n",
      "[222]\tvalidation_0-rmse:1.2452\n",
      "[223]\tvalidation_0-rmse:1.24283\n",
      "[224]\tvalidation_0-rmse:1.24014\n",
      "[225]\tvalidation_0-rmse:1.2377\n",
      "[226]\tvalidation_0-rmse:1.23511\n",
      "[227]\tvalidation_0-rmse:1.23279\n",
      "[228]\tvalidation_0-rmse:1.23049\n",
      "[229]\tvalidation_0-rmse:1.22843\n",
      "[230]\tvalidation_0-rmse:1.22619\n",
      "[231]\tvalidation_0-rmse:1.22387\n",
      "[232]\tvalidation_0-rmse:1.22158\n",
      "[233]\tvalidation_0-rmse:1.21948\n",
      "[234]\tvalidation_0-rmse:1.21727\n",
      "[235]\tvalidation_0-rmse:1.21534\n",
      "[236]\tvalidation_0-rmse:1.21296\n",
      "[237]\tvalidation_0-rmse:1.21098\n",
      "[238]\tvalidation_0-rmse:1.20908\n",
      "[239]\tvalidation_0-rmse:1.20693\n",
      "[240]\tvalidation_0-rmse:1.20515\n",
      "[241]\tvalidation_0-rmse:1.20339\n",
      "[242]\tvalidation_0-rmse:1.20162\n",
      "[243]\tvalidation_0-rmse:1.19992\n",
      "[244]\tvalidation_0-rmse:1.19824\n",
      "[245]\tvalidation_0-rmse:1.19642\n",
      "[246]\tvalidation_0-rmse:1.19478\n",
      "[247]\tvalidation_0-rmse:1.19332\n",
      "[248]\tvalidation_0-rmse:1.19182\n",
      "[249]\tvalidation_0-rmse:1.19024\n",
      "[250]\tvalidation_0-rmse:1.18871\n",
      "[251]\tvalidation_0-rmse:1.18718\n",
      "[252]\tvalidation_0-rmse:1.18583\n",
      "[253]\tvalidation_0-rmse:1.18445\n",
      "[254]\tvalidation_0-rmse:1.18283\n",
      "[255]\tvalidation_0-rmse:1.18108\n",
      "[256]\tvalidation_0-rmse:1.17934\n",
      "[257]\tvalidation_0-rmse:1.17805\n",
      "[258]\tvalidation_0-rmse:1.17622\n",
      "[259]\tvalidation_0-rmse:1.1751\n",
      "[260]\tvalidation_0-rmse:1.17364\n",
      "[261]\tvalidation_0-rmse:1.17179\n",
      "[262]\tvalidation_0-rmse:1.17042\n",
      "[263]\tvalidation_0-rmse:1.16888\n",
      "[264]\tvalidation_0-rmse:1.16766\n",
      "[265]\tvalidation_0-rmse:1.16677\n",
      "[266]\tvalidation_0-rmse:1.16554\n",
      "[267]\tvalidation_0-rmse:1.16419\n",
      "[268]\tvalidation_0-rmse:1.1628\n",
      "[269]\tvalidation_0-rmse:1.16144\n",
      "[270]\tvalidation_0-rmse:1.16039\n",
      "[271]\tvalidation_0-rmse:1.15941\n",
      "[272]\tvalidation_0-rmse:1.15836\n",
      "[273]\tvalidation_0-rmse:1.15705\n",
      "[274]\tvalidation_0-rmse:1.15623\n",
      "[275]\tvalidation_0-rmse:1.15538\n",
      "[276]\tvalidation_0-rmse:1.15453\n",
      "[277]\tvalidation_0-rmse:1.15345\n",
      "[278]\tvalidation_0-rmse:1.15238\n",
      "[279]\tvalidation_0-rmse:1.1516\n",
      "[280]\tvalidation_0-rmse:1.15062\n",
      "[281]\tvalidation_0-rmse:1.14982\n",
      "[282]\tvalidation_0-rmse:1.14907\n",
      "[283]\tvalidation_0-rmse:1.1482\n",
      "[284]\tvalidation_0-rmse:1.14728\n",
      "[285]\tvalidation_0-rmse:1.14646\n",
      "[286]\tvalidation_0-rmse:1.14577\n",
      "[287]\tvalidation_0-rmse:1.14455\n",
      "[288]\tvalidation_0-rmse:1.14381\n",
      "[289]\tvalidation_0-rmse:1.14271\n",
      "[290]\tvalidation_0-rmse:1.14183\n",
      "[291]\tvalidation_0-rmse:1.14094\n",
      "[292]\tvalidation_0-rmse:1.13984\n",
      "[293]\tvalidation_0-rmse:1.13902\n",
      "[294]\tvalidation_0-rmse:1.1382\n",
      "[295]\tvalidation_0-rmse:1.13705\n",
      "[296]\tvalidation_0-rmse:1.13651\n",
      "[297]\tvalidation_0-rmse:1.1358\n",
      "[298]\tvalidation_0-rmse:1.13529\n",
      "[299]\tvalidation_0-rmse:1.13462\n",
      "[300]\tvalidation_0-rmse:1.13408\n",
      "[301]\tvalidation_0-rmse:1.13351\n",
      "[302]\tvalidation_0-rmse:1.13278\n",
      "[303]\tvalidation_0-rmse:1.13235\n",
      "[304]\tvalidation_0-rmse:1.13177\n",
      "[305]\tvalidation_0-rmse:1.13133\n",
      "[306]\tvalidation_0-rmse:1.13053\n",
      "[307]\tvalidation_0-rmse:1.12976\n",
      "[308]\tvalidation_0-rmse:1.12903\n",
      "[309]\tvalidation_0-rmse:1.12835\n",
      "[310]\tvalidation_0-rmse:1.12753\n",
      "[311]\tvalidation_0-rmse:1.12715\n",
      "[312]\tvalidation_0-rmse:1.1266\n",
      "[313]\tvalidation_0-rmse:1.12625\n",
      "[314]\tvalidation_0-rmse:1.12568\n",
      "[315]\tvalidation_0-rmse:1.12527\n",
      "[316]\tvalidation_0-rmse:1.12459\n",
      "[317]\tvalidation_0-rmse:1.12404\n",
      "[318]\tvalidation_0-rmse:1.12333\n",
      "[319]\tvalidation_0-rmse:1.12297\n",
      "[320]\tvalidation_0-rmse:1.12255\n",
      "[321]\tvalidation_0-rmse:1.12197\n",
      "[322]\tvalidation_0-rmse:1.12174\n",
      "[323]\tvalidation_0-rmse:1.12132\n",
      "[324]\tvalidation_0-rmse:1.12099\n",
      "[325]\tvalidation_0-rmse:1.1207\n",
      "[326]\tvalidation_0-rmse:1.12021\n",
      "[327]\tvalidation_0-rmse:1.11989\n",
      "[328]\tvalidation_0-rmse:1.11956\n",
      "[329]\tvalidation_0-rmse:1.11896\n",
      "[330]\tvalidation_0-rmse:1.11847\n",
      "[331]\tvalidation_0-rmse:1.11808\n",
      "[332]\tvalidation_0-rmse:1.11759\n",
      "[333]\tvalidation_0-rmse:1.11723\n",
      "[334]\tvalidation_0-rmse:1.11696\n",
      "[335]\tvalidation_0-rmse:1.11667\n",
      "[336]\tvalidation_0-rmse:1.11654\n",
      "[337]\tvalidation_0-rmse:1.11628\n",
      "[338]\tvalidation_0-rmse:1.11601\n",
      "[339]\tvalidation_0-rmse:1.11576\n",
      "[340]\tvalidation_0-rmse:1.11537\n",
      "[341]\tvalidation_0-rmse:1.11517\n",
      "[342]\tvalidation_0-rmse:1.11491\n",
      "[343]\tvalidation_0-rmse:1.11448\n",
      "[344]\tvalidation_0-rmse:1.11419\n",
      "[345]\tvalidation_0-rmse:1.11391\n",
      "[346]\tvalidation_0-rmse:1.11323\n",
      "[347]\tvalidation_0-rmse:1.11294\n",
      "[348]\tvalidation_0-rmse:1.11267\n",
      "[349]\tvalidation_0-rmse:1.11243\n",
      "[350]\tvalidation_0-rmse:1.11234\n",
      "[351]\tvalidation_0-rmse:1.11219\n",
      "[352]\tvalidation_0-rmse:1.11199\n",
      "[353]\tvalidation_0-rmse:1.11156\n",
      "[354]\tvalidation_0-rmse:1.11132\n",
      "[355]\tvalidation_0-rmse:1.11115\n",
      "[356]\tvalidation_0-rmse:1.11079\n",
      "[357]\tvalidation_0-rmse:1.11056\n",
      "[358]\tvalidation_0-rmse:1.11011\n",
      "[359]\tvalidation_0-rmse:1.10991\n",
      "[360]\tvalidation_0-rmse:1.10972\n",
      "[361]\tvalidation_0-rmse:1.10934\n",
      "[362]\tvalidation_0-rmse:1.10911\n",
      "[363]\tvalidation_0-rmse:1.109\n",
      "[364]\tvalidation_0-rmse:1.10875\n",
      "[365]\tvalidation_0-rmse:1.10847\n",
      "[366]\tvalidation_0-rmse:1.10825\n",
      "[367]\tvalidation_0-rmse:1.10805\n",
      "[368]\tvalidation_0-rmse:1.1074\n",
      "[369]\tvalidation_0-rmse:1.1072\n",
      "[370]\tvalidation_0-rmse:1.10694\n",
      "[371]\tvalidation_0-rmse:1.1067\n",
      "[372]\tvalidation_0-rmse:1.10662\n",
      "[373]\tvalidation_0-rmse:1.10618\n",
      "[374]\tvalidation_0-rmse:1.10603\n",
      "[375]\tvalidation_0-rmse:1.10589\n",
      "[376]\tvalidation_0-rmse:1.1059\n",
      "[377]\tvalidation_0-rmse:1.10553\n",
      "[378]\tvalidation_0-rmse:1.10447\n",
      "[379]\tvalidation_0-rmse:1.10412\n",
      "[380]\tvalidation_0-rmse:1.10402\n",
      "[381]\tvalidation_0-rmse:1.10395\n",
      "[382]\tvalidation_0-rmse:1.1039\n",
      "[383]\tvalidation_0-rmse:1.10367\n",
      "[384]\tvalidation_0-rmse:1.10349\n",
      "[385]\tvalidation_0-rmse:1.10292\n",
      "[386]\tvalidation_0-rmse:1.10275\n",
      "[387]\tvalidation_0-rmse:1.10265\n",
      "[388]\tvalidation_0-rmse:1.10239\n",
      "[389]\tvalidation_0-rmse:1.10226\n",
      "[390]\tvalidation_0-rmse:1.1019\n",
      "[391]\tvalidation_0-rmse:1.10178\n",
      "[392]\tvalidation_0-rmse:1.10171\n",
      "[393]\tvalidation_0-rmse:1.10163\n",
      "[394]\tvalidation_0-rmse:1.10152\n",
      "[395]\tvalidation_0-rmse:1.1014\n",
      "[396]\tvalidation_0-rmse:1.1012\n",
      "[397]\tvalidation_0-rmse:1.10108\n",
      "[398]\tvalidation_0-rmse:1.10104\n",
      "[399]\tvalidation_0-rmse:1.10065\n",
      "[400]\tvalidation_0-rmse:1.10055\n",
      "[401]\tvalidation_0-rmse:1.10033\n",
      "[402]\tvalidation_0-rmse:1.09989\n",
      "[403]\tvalidation_0-rmse:1.09969\n",
      "[404]\tvalidation_0-rmse:1.09938\n",
      "[405]\tvalidation_0-rmse:1.09936\n",
      "[406]\tvalidation_0-rmse:1.09939\n",
      "[407]\tvalidation_0-rmse:1.0994\n",
      "[408]\tvalidation_0-rmse:1.09914\n",
      "[409]\tvalidation_0-rmse:1.09865\n",
      "[410]\tvalidation_0-rmse:1.09835\n",
      "[411]\tvalidation_0-rmse:1.09811\n",
      "[412]\tvalidation_0-rmse:1.09807\n",
      "[413]\tvalidation_0-rmse:1.09794\n",
      "[414]\tvalidation_0-rmse:1.09782\n",
      "[415]\tvalidation_0-rmse:1.09731\n",
      "[416]\tvalidation_0-rmse:1.09741\n",
      "[417]\tvalidation_0-rmse:1.09707\n",
      "[418]\tvalidation_0-rmse:1.0968\n",
      "[419]\tvalidation_0-rmse:1.09655\n",
      "[420]\tvalidation_0-rmse:1.09639\n",
      "[421]\tvalidation_0-rmse:1.09617\n",
      "[422]\tvalidation_0-rmse:1.09532\n",
      "[423]\tvalidation_0-rmse:1.09515\n",
      "[424]\tvalidation_0-rmse:1.09501\n",
      "[425]\tvalidation_0-rmse:1.09482\n",
      "[426]\tvalidation_0-rmse:1.09477\n",
      "[427]\tvalidation_0-rmse:1.09442\n",
      "[428]\tvalidation_0-rmse:1.09424\n",
      "[429]\tvalidation_0-rmse:1.09423\n",
      "[430]\tvalidation_0-rmse:1.09411\n",
      "[431]\tvalidation_0-rmse:1.094\n",
      "[432]\tvalidation_0-rmse:1.09389\n",
      "[433]\tvalidation_0-rmse:1.09387\n",
      "[434]\tvalidation_0-rmse:1.09351\n",
      "[435]\tvalidation_0-rmse:1.09334\n",
      "[436]\tvalidation_0-rmse:1.09333\n",
      "[437]\tvalidation_0-rmse:1.09332\n",
      "[438]\tvalidation_0-rmse:1.09303\n",
      "[439]\tvalidation_0-rmse:1.09293\n",
      "[440]\tvalidation_0-rmse:1.09286\n",
      "[441]\tvalidation_0-rmse:1.09261\n",
      "[442]\tvalidation_0-rmse:1.09226\n",
      "[443]\tvalidation_0-rmse:1.09212\n",
      "[444]\tvalidation_0-rmse:1.09192\n",
      "[445]\tvalidation_0-rmse:1.09159\n",
      "[446]\tvalidation_0-rmse:1.09153\n",
      "[447]\tvalidation_0-rmse:1.09146\n",
      "[448]\tvalidation_0-rmse:1.0914\n",
      "[449]\tvalidation_0-rmse:1.09114\n",
      "[450]\tvalidation_0-rmse:1.09113\n",
      "[451]\tvalidation_0-rmse:1.09094\n",
      "[452]\tvalidation_0-rmse:1.09086\n",
      "[453]\tvalidation_0-rmse:1.09063\n",
      "[454]\tvalidation_0-rmse:1.09053\n",
      "[455]\tvalidation_0-rmse:1.09055\n",
      "[456]\tvalidation_0-rmse:1.09047\n",
      "[457]\tvalidation_0-rmse:1.09029\n",
      "[458]\tvalidation_0-rmse:1.09018\n",
      "[459]\tvalidation_0-rmse:1.09018\n",
      "[460]\tvalidation_0-rmse:1.09014\n",
      "[461]\tvalidation_0-rmse:1.0898\n",
      "[462]\tvalidation_0-rmse:1.08969\n",
      "[463]\tvalidation_0-rmse:1.08962\n",
      "[464]\tvalidation_0-rmse:1.08959\n",
      "[465]\tvalidation_0-rmse:1.08903\n",
      "[466]\tvalidation_0-rmse:1.08908\n",
      "[467]\tvalidation_0-rmse:1.08912\n",
      "[468]\tvalidation_0-rmse:1.08922\n",
      "[469]\tvalidation_0-rmse:1.08927\n",
      "[470]\tvalidation_0-rmse:1.08914\n",
      "[471]\tvalidation_0-rmse:1.08865\n",
      "[472]\tvalidation_0-rmse:1.08864\n",
      "[473]\tvalidation_0-rmse:1.08864\n",
      "[474]\tvalidation_0-rmse:1.08847\n",
      "[475]\tvalidation_0-rmse:1.08852\n",
      "[476]\tvalidation_0-rmse:1.08827\n",
      "[477]\tvalidation_0-rmse:1.08816\n",
      "[478]\tvalidation_0-rmse:1.08815\n",
      "[479]\tvalidation_0-rmse:1.08794\n",
      "[480]\tvalidation_0-rmse:1.08781\n",
      "[481]\tvalidation_0-rmse:1.08773\n",
      "[482]\tvalidation_0-rmse:1.08761\n",
      "[483]\tvalidation_0-rmse:1.08676\n",
      "[484]\tvalidation_0-rmse:1.0861\n",
      "[485]\tvalidation_0-rmse:1.08616\n",
      "[486]\tvalidation_0-rmse:1.08623\n",
      "[487]\tvalidation_0-rmse:1.08597\n",
      "[488]\tvalidation_0-rmse:1.08595\n",
      "[489]\tvalidation_0-rmse:1.08573\n",
      "[490]\tvalidation_0-rmse:1.08559\n",
      "[491]\tvalidation_0-rmse:1.08564\n",
      "[492]\tvalidation_0-rmse:1.08554\n",
      "[493]\tvalidation_0-rmse:1.08549\n",
      "[494]\tvalidation_0-rmse:1.08527\n",
      "[495]\tvalidation_0-rmse:1.08529\n",
      "[496]\tvalidation_0-rmse:1.0852\n",
      "[497]\tvalidation_0-rmse:1.08505\n",
      "[498]\tvalidation_0-rmse:1.08499\n",
      "[499]\tvalidation_0-rmse:1.08482\n"
     ]
    },
    {
     "data": {
      "text/plain": [
       "XGBRegressor(base_score=0.5, colsample_bylevel=1, colsample_bytree=0.4603,\n",
       "       gamma=0.0468, learning_rate=0.01, max_delta_step=0, max_depth=3,\n",
       "       min_child_weight=1.7817, missing=None, n_estimators=500, nthread=-1,\n",
       "       objective='reg:linear', reg_alpha=0.464, reg_lambda=0.8571,\n",
       "       scale_pos_weight=1, seed=1024, silent=1, subsample=0.5213)"
      ]
     },
     "execution_count": 144,
     "metadata": {},
     "output_type": "execute_result"
    },
    {
     "name": "stdout",
     "output_type": "stream",
     "text": [
      "train:  0.53480265664\n"
     ]
    }
   ],
   "source": [
    "%time\n",
    "x_val, x_test, y_val, y_test = train_test_split(train[features_with_no_cate], y_train,test_size=0.1, random_state=42)\n",
    "model_xgb = xgb.XGBRegressor(colsample_bytree=0.4603, gamma=0.0468, \n",
    "                             learning_rate=0.01, max_depth=3, \n",
    "                             min_child_weight=1.7817, n_estimators=500,\n",
    "                             reg_alpha=0.4640, reg_lambda=0.8571,\n",
    "                             subsample=0.5213, silent=1,\n",
    "                             seed =1024, nthread = -1)\n",
    "\n",
    "score = rmsle_cv(model_xgb)\n",
    "print(\"Xgboost score: {:.4f} ({:.4f})\\n\".format(score.mean(), score.std()))\n",
    "model_xgb.fit(x_val, y_val,eval_set=[(x_test, y_test)])\n",
    "xgb_train_pred = model_xgb.predict(train)\n",
    "xgb_pred = model_xgb.predict(test)\n",
    "print(\"train: \",rmsle(y_train, xgb_train_pred))\n",
    "# print(\"test: \", rmsle(y_test,xgb_pred))"
   ]
  },
  {
   "cell_type": "markdown",
   "metadata": {},
   "source": [
    "## LightGBM"
   ]
  },
  {
   "cell_type": "code",
   "execution_count": 155,
   "metadata": {
    "collapsed": false
   },
   "outputs": [
    {
     "name": "stdout",
     "output_type": "stream",
     "text": [
      "Wall time: 0 ns\n",
      "LGBM score: 1.1173 (0.0797)\n",
      "\n",
      "[1]\tvalid_0's l2: 1.55178\n",
      "[2]\tvalid_0's l2: 1.53786\n",
      "[3]\tvalid_0's l2: 1.51762\n",
      "[4]\tvalid_0's l2: 1.50622\n",
      "[5]\tvalid_0's l2: 1.48996\n",
      "[6]\tvalid_0's l2: 1.48129\n",
      "[7]\tvalid_0's l2: 1.4724\n",
      "[8]\tvalid_0's l2: 1.46608\n",
      "[9]\tvalid_0's l2: 1.45999\n",
      "[10]\tvalid_0's l2: 1.4513\n",
      "[11]\tvalid_0's l2: 1.44622\n",
      "[12]\tvalid_0's l2: 1.42977\n",
      "[13]\tvalid_0's l2: 1.42303\n",
      "[14]\tvalid_0's l2: 1.41684\n",
      "[15]\tvalid_0's l2: 1.40458\n",
      "[16]\tvalid_0's l2: 1.39575\n",
      "[17]\tvalid_0's l2: 1.39106\n",
      "[18]\tvalid_0's l2: 1.3856\n",
      "[19]\tvalid_0's l2: 1.37997\n",
      "[20]\tvalid_0's l2: 1.37117\n",
      "[21]\tvalid_0's l2: 1.36182\n",
      "[22]\tvalid_0's l2: 1.34874\n",
      "[23]\tvalid_0's l2: 1.3434\n",
      "[24]\tvalid_0's l2: 1.33827\n",
      "[25]\tvalid_0's l2: 1.33248\n",
      "[26]\tvalid_0's l2: 1.33001\n",
      "[27]\tvalid_0's l2: 1.32037\n",
      "[28]\tvalid_0's l2: 1.31681\n",
      "[29]\tvalid_0's l2: 1.30819\n",
      "[30]\tvalid_0's l2: 1.30178\n",
      "[31]\tvalid_0's l2: 1.29407\n",
      "[32]\tvalid_0's l2: 1.28917\n",
      "[33]\tvalid_0's l2: 1.28638\n",
      "[34]\tvalid_0's l2: 1.28185\n",
      "[35]\tvalid_0's l2: 1.27569\n",
      "[36]\tvalid_0's l2: 1.2701\n",
      "[37]\tvalid_0's l2: 1.26285\n",
      "[38]\tvalid_0's l2: 1.25996\n",
      "[39]\tvalid_0's l2: 1.25454\n",
      "[40]\tvalid_0's l2: 1.24845\n",
      "[41]\tvalid_0's l2: 1.24653\n",
      "[42]\tvalid_0's l2: 1.24\n",
      "[43]\tvalid_0's l2: 1.23622\n",
      "[44]\tvalid_0's l2: 1.23147\n",
      "[45]\tvalid_0's l2: 1.23028\n",
      "[46]\tvalid_0's l2: 1.22582\n",
      "[47]\tvalid_0's l2: 1.22265\n",
      "[48]\tvalid_0's l2: 1.21866\n",
      "[49]\tvalid_0's l2: 1.21523\n",
      "[50]\tvalid_0's l2: 1.2104\n",
      "[51]\tvalid_0's l2: 1.20683\n",
      "[52]\tvalid_0's l2: 1.20403\n",
      "[53]\tvalid_0's l2: 1.19937\n",
      "[54]\tvalid_0's l2: 1.1969\n",
      "[55]\tvalid_0's l2: 1.19232\n",
      "[56]\tvalid_0's l2: 1.19009\n",
      "[57]\tvalid_0's l2: 1.18865\n",
      "[58]\tvalid_0's l2: 1.18548\n",
      "[59]\tvalid_0's l2: 1.18172\n",
      "[60]\tvalid_0's l2: 1.17903\n",
      "[61]\tvalid_0's l2: 1.17255\n",
      "[62]\tvalid_0's l2: 1.16932\n",
      "[63]\tvalid_0's l2: 1.16681\n",
      "[64]\tvalid_0's l2: 1.16138\n",
      "[65]\tvalid_0's l2: 1.15523\n",
      "[66]\tvalid_0's l2: 1.154\n",
      "[67]\tvalid_0's l2: 1.15138\n",
      "[68]\tvalid_0's l2: 1.14824\n",
      "[69]\tvalid_0's l2: 1.14801\n",
      "[70]\tvalid_0's l2: 1.14713\n",
      "[71]\tvalid_0's l2: 1.143\n",
      "[72]\tvalid_0's l2: 1.1421\n",
      "[73]\tvalid_0's l2: 1.13851\n",
      "[74]\tvalid_0's l2: 1.13712\n",
      "[75]\tvalid_0's l2: 1.13709\n",
      "[76]\tvalid_0's l2: 1.13664\n",
      "[77]\tvalid_0's l2: 1.13269\n",
      "[78]\tvalid_0's l2: 1.13141\n",
      "[79]\tvalid_0's l2: 1.13124\n",
      "[80]\tvalid_0's l2: 1.1305\n",
      "[81]\tvalid_0's l2: 1.12691\n",
      "[82]\tvalid_0's l2: 1.12384\n",
      "[83]\tvalid_0's l2: 1.12277\n",
      "[84]\tvalid_0's l2: 1.12162\n",
      "[85]\tvalid_0's l2: 1.11612\n",
      "[86]\tvalid_0's l2: 1.11205\n",
      "[87]\tvalid_0's l2: 1.11005\n",
      "[88]\tvalid_0's l2: 1.1065\n",
      "[89]\tvalid_0's l2: 1.10505\n",
      "[90]\tvalid_0's l2: 1.10248\n",
      "[91]\tvalid_0's l2: 1.10013\n",
      "[92]\tvalid_0's l2: 1.09488\n",
      "[93]\tvalid_0's l2: 1.09261\n",
      "[94]\tvalid_0's l2: 1.08842\n",
      "[95]\tvalid_0's l2: 1.0858\n",
      "[96]\tvalid_0's l2: 1.08313\n",
      "[97]\tvalid_0's l2: 1.08332\n",
      "[98]\tvalid_0's l2: 1.07777\n",
      "[99]\tvalid_0's l2: 1.07572\n",
      "[100]\tvalid_0's l2: 1.07162\n",
      "[101]\tvalid_0's l2: 1.06874\n",
      "[102]\tvalid_0's l2: 1.06958\n",
      "[103]\tvalid_0's l2: 1.06868\n",
      "[104]\tvalid_0's l2: 1.0693\n",
      "[105]\tvalid_0's l2: 1.06818\n",
      "[106]\tvalid_0's l2: 1.06469\n",
      "[107]\tvalid_0's l2: 1.06149\n",
      "[108]\tvalid_0's l2: 1.05941\n",
      "[109]\tvalid_0's l2: 1.05455\n",
      "[110]\tvalid_0's l2: 1.05405\n",
      "[111]\tvalid_0's l2: 1.05419\n",
      "[112]\tvalid_0's l2: 1.0516\n",
      "[113]\tvalid_0's l2: 1.0521\n",
      "[114]\tvalid_0's l2: 1.05232\n",
      "[115]\tvalid_0's l2: 1.05187\n",
      "[116]\tvalid_0's l2: 1.04965\n",
      "[117]\tvalid_0's l2: 1.04796\n",
      "[118]\tvalid_0's l2: 1.04568\n",
      "[119]\tvalid_0's l2: 1.04209\n",
      "[120]\tvalid_0's l2: 1.04217\n",
      "[121]\tvalid_0's l2: 1.04136\n",
      "[122]\tvalid_0's l2: 1.03958\n",
      "[123]\tvalid_0's l2: 1.03704\n",
      "[124]\tvalid_0's l2: 1.03534\n",
      "[125]\tvalid_0's l2: 1.03293\n",
      "[126]\tvalid_0's l2: 1.03227\n",
      "[127]\tvalid_0's l2: 1.03123\n",
      "[128]\tvalid_0's l2: 1.02995\n",
      "[129]\tvalid_0's l2: 1.02696\n",
      "[130]\tvalid_0's l2: 1.02602\n",
      "[131]\tvalid_0's l2: 1.02486\n",
      "[132]\tvalid_0's l2: 1.02264\n",
      "[133]\tvalid_0's l2: 1.02168\n",
      "[134]\tvalid_0's l2: 1.021\n",
      "[135]\tvalid_0's l2: 1.01939\n",
      "[136]\tvalid_0's l2: 1.01444\n",
      "[137]\tvalid_0's l2: 1.01125\n",
      "[138]\tvalid_0's l2: 1.0111\n",
      "[139]\tvalid_0's l2: 1.00781\n",
      "[140]\tvalid_0's l2: 1.00672\n",
      "[141]\tvalid_0's l2: 1.00341\n",
      "[142]\tvalid_0's l2: 0.997726\n",
      "[143]\tvalid_0's l2: 0.994916\n",
      "[144]\tvalid_0's l2: 0.993687\n",
      "[145]\tvalid_0's l2: 0.992774\n",
      "[146]\tvalid_0's l2: 0.99216\n",
      "[147]\tvalid_0's l2: 0.990472\n",
      "[148]\tvalid_0's l2: 0.988344\n",
      "[149]\tvalid_0's l2: 0.987212\n",
      "[150]\tvalid_0's l2: 0.987098\n",
      "[151]\tvalid_0's l2: 0.986012\n",
      "[152]\tvalid_0's l2: 0.98598\n",
      "[153]\tvalid_0's l2: 0.9842\n",
      "[154]\tvalid_0's l2: 0.983166\n",
      "[155]\tvalid_0's l2: 0.981948\n",
      "[156]\tvalid_0's l2: 0.981322\n",
      "[157]\tvalid_0's l2: 0.980256\n",
      "[158]\tvalid_0's l2: 0.97921\n",
      "[159]\tvalid_0's l2: 0.977414\n",
      "[160]\tvalid_0's l2: 0.97693\n",
      "[161]\tvalid_0's l2: 0.976391\n",
      "[162]\tvalid_0's l2: 0.976297\n",
      "[163]\tvalid_0's l2: 0.974499\n",
      "[164]\tvalid_0's l2: 0.974537\n",
      "[165]\tvalid_0's l2: 0.973491\n",
      "[166]\tvalid_0's l2: 0.971829\n",
      "[167]\tvalid_0's l2: 0.970283\n",
      "[168]\tvalid_0's l2: 0.969999\n",
      "[169]\tvalid_0's l2: 0.965718\n",
      "[170]\tvalid_0's l2: 0.964902\n",
      "[171]\tvalid_0's l2: 0.963657\n",
      "[172]\tvalid_0's l2: 0.963558\n",
      "[173]\tvalid_0's l2: 0.962997\n",
      "[174]\tvalid_0's l2: 0.960878\n",
      "[175]\tvalid_0's l2: 0.959794\n",
      "[176]\tvalid_0's l2: 0.956144\n",
      "[177]\tvalid_0's l2: 0.9534\n",
      "[178]\tvalid_0's l2: 0.953769\n",
      "[179]\tvalid_0's l2: 0.95396\n",
      "[180]\tvalid_0's l2: 0.951817\n",
      "[181]\tvalid_0's l2: 0.951068\n",
      "[182]\tvalid_0's l2: 0.948606\n",
      "[183]\tvalid_0's l2: 0.948589\n",
      "[184]\tvalid_0's l2: 0.945611\n",
      "[185]\tvalid_0's l2: 0.944507\n",
      "[186]\tvalid_0's l2: 0.939935\n",
      "[187]\tvalid_0's l2: 0.93832\n",
      "[188]\tvalid_0's l2: 0.936587\n",
      "[189]\tvalid_0's l2: 0.934686\n",
      "[190]\tvalid_0's l2: 0.933619\n",
      "[191]\tvalid_0's l2: 0.933096\n",
      "[192]\tvalid_0's l2: 0.930023\n",
      "[193]\tvalid_0's l2: 0.928976\n",
      "[194]\tvalid_0's l2: 0.928962\n",
      "[195]\tvalid_0's l2: 0.926795\n",
      "[196]\tvalid_0's l2: 0.925343\n",
      "[197]\tvalid_0's l2: 0.925282\n",
      "[198]\tvalid_0's l2: 0.923251\n",
      "[199]\tvalid_0's l2: 0.921851\n",
      "[200]\tvalid_0's l2: 0.919395\n",
      "[201]\tvalid_0's l2: 0.917652\n",
      "[202]\tvalid_0's l2: 0.916468\n",
      "[203]\tvalid_0's l2: 0.916314\n",
      "[204]\tvalid_0's l2: 0.916096\n",
      "[205]\tvalid_0's l2: 0.914842\n",
      "[206]\tvalid_0's l2: 0.91412\n",
      "[207]\tvalid_0's l2: 0.914428\n",
      "[208]\tvalid_0's l2: 0.913953\n",
      "[209]\tvalid_0's l2: 0.913943\n",
      "[210]\tvalid_0's l2: 0.913289\n",
      "[211]\tvalid_0's l2: 0.913254\n",
      "[212]\tvalid_0's l2: 0.91215\n",
      "[213]\tvalid_0's l2: 0.910726\n",
      "[214]\tvalid_0's l2: 0.910285\n",
      "[215]\tvalid_0's l2: 0.909183\n",
      "[216]\tvalid_0's l2: 0.909076\n",
      "[217]\tvalid_0's l2: 0.908733\n",
      "[218]\tvalid_0's l2: 0.908626\n",
      "[219]\tvalid_0's l2: 0.907984\n",
      "[220]\tvalid_0's l2: 0.90673\n",
      "[221]\tvalid_0's l2: 0.90649\n",
      "[222]\tvalid_0's l2: 0.906535\n",
      "[223]\tvalid_0's l2: 0.904832\n",
      "[224]\tvalid_0's l2: 0.904413\n",
      "[225]\tvalid_0's l2: 0.903184\n",
      "[226]\tvalid_0's l2: 0.902675\n",
      "[227]\tvalid_0's l2: 0.90148\n",
      "[228]\tvalid_0's l2: 0.900642\n",
      "[229]\tvalid_0's l2: 0.900262\n",
      "[230]\tvalid_0's l2: 0.899083\n",
      "[231]\tvalid_0's l2: 0.899979\n",
      "[232]\tvalid_0's l2: 0.898493\n",
      "[233]\tvalid_0's l2: 0.898658\n",
      "[234]\tvalid_0's l2: 0.896663\n",
      "[235]\tvalid_0's l2: 0.895606\n",
      "[236]\tvalid_0's l2: 0.895308\n",
      "[237]\tvalid_0's l2: 0.893306\n",
      "[238]\tvalid_0's l2: 0.893046\n",
      "[239]\tvalid_0's l2: 0.891382\n",
      "[240]\tvalid_0's l2: 0.8907\n",
      "[241]\tvalid_0's l2: 0.88855\n",
      "[242]\tvalid_0's l2: 0.887558\n",
      "[243]\tvalid_0's l2: 0.886124\n",
      "[244]\tvalid_0's l2: 0.886326\n",
      "[245]\tvalid_0's l2: 0.884157\n",
      "[246]\tvalid_0's l2: 0.883822\n",
      "[247]\tvalid_0's l2: 0.883557\n",
      "[248]\tvalid_0's l2: 0.883308\n",
      "[249]\tvalid_0's l2: 0.883388\n",
      "[250]\tvalid_0's l2: 0.883455\n",
      "[251]\tvalid_0's l2: 0.883284\n",
      "[252]\tvalid_0's l2: 0.883019\n",
      "[253]\tvalid_0's l2: 0.882186\n",
      "[254]\tvalid_0's l2: 0.880247\n",
      "[255]\tvalid_0's l2: 0.879794\n",
      "[256]\tvalid_0's l2: 0.879013\n",
      "[257]\tvalid_0's l2: 0.87618\n",
      "[258]\tvalid_0's l2: 0.876218\n",
      "[259]\tvalid_0's l2: 0.875236\n",
      "[260]\tvalid_0's l2: 0.875112\n",
      "[261]\tvalid_0's l2: 0.872859\n",
      "[262]\tvalid_0's l2: 0.872588\n",
      "[263]\tvalid_0's l2: 0.87185\n",
      "[264]\tvalid_0's l2: 0.870805\n",
      "[265]\tvalid_0's l2: 0.869934\n",
      "[266]\tvalid_0's l2: 0.869912\n",
      "[267]\tvalid_0's l2: 0.866328\n",
      "[268]\tvalid_0's l2: 0.865785\n",
      "[269]\tvalid_0's l2: 0.865824\n",
      "[270]\tvalid_0's l2: 0.865451\n",
      "[271]\tvalid_0's l2: 0.863758\n",
      "[272]\tvalid_0's l2: 0.864006\n",
      "[273]\tvalid_0's l2: 0.862796\n",
      "[274]\tvalid_0's l2: 0.862971\n",
      "[275]\tvalid_0's l2: 0.86205\n",
      "[276]\tvalid_0's l2: 0.861696\n",
      "[277]\tvalid_0's l2: 0.861371\n",
      "[278]\tvalid_0's l2: 0.857791\n",
      "[279]\tvalid_0's l2: 0.856427\n",
      "[280]\tvalid_0's l2: 0.856717\n",
      "[281]\tvalid_0's l2: 0.855719\n",
      "[282]\tvalid_0's l2: 0.853708\n",
      "[283]\tvalid_0's l2: 0.85293\n",
      "[284]\tvalid_0's l2: 0.852784\n",
      "[285]\tvalid_0's l2: 0.852911\n",
      "[286]\tvalid_0's l2: 0.849744\n",
      "[287]\tvalid_0's l2: 0.848317\n",
      "[288]\tvalid_0's l2: 0.847919\n",
      "[289]\tvalid_0's l2: 0.847533\n",
      "[290]\tvalid_0's l2: 0.846529\n",
      "[291]\tvalid_0's l2: 0.846139\n",
      "[292]\tvalid_0's l2: 0.845767\n",
      "[293]\tvalid_0's l2: 0.845977\n",
      "[294]\tvalid_0's l2: 0.844873\n",
      "[295]\tvalid_0's l2: 0.844417\n",
      "[296]\tvalid_0's l2: 0.844525\n",
      "[297]\tvalid_0's l2: 0.844194\n",
      "[298]\tvalid_0's l2: 0.843229\n",
      "[299]\tvalid_0's l2: 0.841424\n",
      "[300]\tvalid_0's l2: 0.840981\n",
      "[301]\tvalid_0's l2: 0.840369\n",
      "[302]\tvalid_0's l2: 0.840434\n",
      "[303]\tvalid_0's l2: 0.838163\n",
      "[304]\tvalid_0's l2: 0.838175\n",
      "[305]\tvalid_0's l2: 0.837916\n",
      "[306]\tvalid_0's l2: 0.834496\n",
      "[307]\tvalid_0's l2: 0.834579\n",
      "[308]\tvalid_0's l2: 0.833157\n",
      "[309]\tvalid_0's l2: 0.831804\n",
      "[310]\tvalid_0's l2: 0.830482\n",
      "[311]\tvalid_0's l2: 0.830145\n",
      "[312]\tvalid_0's l2: 0.829893\n",
      "[313]\tvalid_0's l2: 0.829514\n",
      "[314]\tvalid_0's l2: 0.828955\n",
      "[315]\tvalid_0's l2: 0.826478\n",
      "[316]\tvalid_0's l2: 0.825819\n",
      "[317]\tvalid_0's l2: 0.825572\n",
      "[318]\tvalid_0's l2: 0.823914\n",
      "[319]\tvalid_0's l2: 0.823655\n",
      "[320]\tvalid_0's l2: 0.822687\n",
      "[321]\tvalid_0's l2: 0.821359\n",
      "[322]\tvalid_0's l2: 0.821153\n",
      "[323]\tvalid_0's l2: 0.82066\n",
      "[324]\tvalid_0's l2: 0.819738\n",
      "[325]\tvalid_0's l2: 0.81921\n",
      "[326]\tvalid_0's l2: 0.819034\n",
      "[327]\tvalid_0's l2: 0.817522\n",
      "[328]\tvalid_0's l2: 0.817291\n",
      "[329]\tvalid_0's l2: 0.816476\n",
      "[330]\tvalid_0's l2: 0.816103\n",
      "[331]\tvalid_0's l2: 0.815235\n",
      "[332]\tvalid_0's l2: 0.814907\n",
      "[333]\tvalid_0's l2: 0.814467\n",
      "[334]\tvalid_0's l2: 0.814988\n",
      "[335]\tvalid_0's l2: 0.815264\n",
      "[336]\tvalid_0's l2: 0.814822\n",
      "[337]\tvalid_0's l2: 0.813882\n",
      "[338]\tvalid_0's l2: 0.814036\n",
      "[339]\tvalid_0's l2: 0.814133\n",
      "[340]\tvalid_0's l2: 0.813637\n",
      "[341]\tvalid_0's l2: 0.813161\n",
      "[342]\tvalid_0's l2: 0.813346\n",
      "[343]\tvalid_0's l2: 0.813388\n",
      "[344]\tvalid_0's l2: 0.813289\n",
      "[345]\tvalid_0's l2: 0.813076\n",
      "[346]\tvalid_0's l2: 0.813215\n",
      "[347]\tvalid_0's l2: 0.812707\n",
      "[348]\tvalid_0's l2: 0.812729\n",
      "[349]\tvalid_0's l2: 0.81256\n",
      "[350]\tvalid_0's l2: 0.811887\n",
      "[351]\tvalid_0's l2: 0.811205\n",
      "[352]\tvalid_0's l2: 0.81118\n",
      "[353]\tvalid_0's l2: 0.811233\n",
      "[354]\tvalid_0's l2: 0.811002\n",
      "[355]\tvalid_0's l2: 0.809076\n",
      "[356]\tvalid_0's l2: 0.808089\n",
      "[357]\tvalid_0's l2: 0.808024\n",
      "[358]\tvalid_0's l2: 0.805469\n",
      "[359]\tvalid_0's l2: 0.803984\n",
      "[360]\tvalid_0's l2: 0.800859\n",
      "[361]\tvalid_0's l2: 0.800297\n",
      "[362]\tvalid_0's l2: 0.799886\n",
      "[363]\tvalid_0's l2: 0.797918\n",
      "[364]\tvalid_0's l2: 0.79783\n",
      "[365]\tvalid_0's l2: 0.795677\n",
      "[366]\tvalid_0's l2: 0.795618\n",
      "[367]\tvalid_0's l2: 0.793403\n",
      "[368]\tvalid_0's l2: 0.793153\n",
      "[369]\tvalid_0's l2: 0.792663\n",
      "[370]\tvalid_0's l2: 0.793297\n",
      "[371]\tvalid_0's l2: 0.792341\n",
      "[372]\tvalid_0's l2: 0.79155\n",
      "[373]\tvalid_0's l2: 0.790496\n",
      "[374]\tvalid_0's l2: 0.790503\n",
      "[375]\tvalid_0's l2: 0.790608\n",
      "[376]\tvalid_0's l2: 0.790592\n",
      "[377]\tvalid_0's l2: 0.790491\n",
      "[378]\tvalid_0's l2: 0.790288\n",
      "[379]\tvalid_0's l2: 0.789845\n",
      "[380]\tvalid_0's l2: 0.789537\n",
      "[381]\tvalid_0's l2: 0.789066\n",
      "[382]\tvalid_0's l2: 0.78906\n",
      "[383]\tvalid_0's l2: 0.788865\n",
      "[384]\tvalid_0's l2: 0.787957\n",
      "[385]\tvalid_0's l2: 0.787494\n",
      "[386]\tvalid_0's l2: 0.786848\n",
      "[387]\tvalid_0's l2: 0.785913\n",
      "[388]\tvalid_0's l2: 0.785591\n",
      "[389]\tvalid_0's l2: 0.782988\n",
      "[390]\tvalid_0's l2: 0.782287\n",
      "[391]\tvalid_0's l2: 0.78169\n",
      "[392]\tvalid_0's l2: 0.781443\n",
      "[393]\tvalid_0's l2: 0.780785\n",
      "[394]\tvalid_0's l2: 0.7788\n",
      "[395]\tvalid_0's l2: 0.777789\n",
      "[396]\tvalid_0's l2: 0.777929\n",
      "[397]\tvalid_0's l2: 0.777856\n",
      "[398]\tvalid_0's l2: 0.777233\n",
      "[399]\tvalid_0's l2: 0.777398\n",
      "[400]\tvalid_0's l2: 0.777391\n",
      "[401]\tvalid_0's l2: 0.777081\n",
      "[402]\tvalid_0's l2: 0.77713\n",
      "[403]\tvalid_0's l2: 0.777139\n",
      "[404]\tvalid_0's l2: 0.776676\n",
      "[405]\tvalid_0's l2: 0.776307\n",
      "[406]\tvalid_0's l2: 0.775759\n",
      "[407]\tvalid_0's l2: 0.775793\n",
      "[408]\tvalid_0's l2: 0.773916\n",
      "[409]\tvalid_0's l2: 0.77338\n",
      "[410]\tvalid_0's l2: 0.772542\n",
      "[411]\tvalid_0's l2: 0.772027\n",
      "[412]\tvalid_0's l2: 0.771381\n",
      "[413]\tvalid_0's l2: 0.771593\n",
      "[414]\tvalid_0's l2: 0.771431\n",
      "[415]\tvalid_0's l2: 0.769562\n",
      "[416]\tvalid_0's l2: 0.769245\n",
      "[417]\tvalid_0's l2: 0.76921\n",
      "[418]\tvalid_0's l2: 0.768753\n",
      "[419]\tvalid_0's l2: 0.768086\n",
      "[420]\tvalid_0's l2: 0.767331\n",
      "[421]\tvalid_0's l2: 0.766613\n",
      "[422]\tvalid_0's l2: 0.766981\n",
      "[423]\tvalid_0's l2: 0.7665\n",
      "[424]\tvalid_0's l2: 0.766131\n",
      "[425]\tvalid_0's l2: 0.766242\n",
      "[426]\tvalid_0's l2: 0.766246\n",
      "[427]\tvalid_0's l2: 0.765866\n",
      "[428]\tvalid_0's l2: 0.765083\n",
      "[429]\tvalid_0's l2: 0.764304\n",
      "[430]\tvalid_0's l2: 0.764382\n",
      "[431]\tvalid_0's l2: 0.764367\n",
      "[432]\tvalid_0's l2: 0.764301\n",
      "[433]\tvalid_0's l2: 0.764621\n",
      "[434]\tvalid_0's l2: 0.76446\n",
      "[435]\tvalid_0's l2: 0.764479\n",
      "[436]\tvalid_0's l2: 0.764614\n",
      "[437]\tvalid_0's l2: 0.76463\n",
      "[438]\tvalid_0's l2: 0.764579\n",
      "[439]\tvalid_0's l2: 0.763966\n",
      "[440]\tvalid_0's l2: 0.764315\n",
      "[441]\tvalid_0's l2: 0.763606\n",
      "[442]\tvalid_0's l2: 0.76364\n",
      "[443]\tvalid_0's l2: 0.763294\n",
      "[444]\tvalid_0's l2: 0.761566\n",
      "[445]\tvalid_0's l2: 0.760538\n",
      "[446]\tvalid_0's l2: 0.758927\n",
      "[447]\tvalid_0's l2: 0.758383\n",
      "[448]\tvalid_0's l2: 0.758242\n",
      "[449]\tvalid_0's l2: 0.757931\n",
      "[450]\tvalid_0's l2: 0.756667\n",
      "[451]\tvalid_0's l2: 0.755679\n",
      "[452]\tvalid_0's l2: 0.756016\n",
      "[453]\tvalid_0's l2: 0.755462\n",
      "[454]\tvalid_0's l2: 0.755235\n",
      "[455]\tvalid_0's l2: 0.754874\n",
      "[456]\tvalid_0's l2: 0.754467\n",
      "[457]\tvalid_0's l2: 0.753849\n",
      "[458]\tvalid_0's l2: 0.754147\n",
      "[459]\tvalid_0's l2: 0.753825\n",
      "[460]\tvalid_0's l2: 0.753808\n",
      "[461]\tvalid_0's l2: 0.752761\n",
      "[462]\tvalid_0's l2: 0.752805\n",
      "[463]\tvalid_0's l2: 0.75255\n",
      "[464]\tvalid_0's l2: 0.752317\n",
      "[465]\tvalid_0's l2: 0.751668\n",
      "[466]\tvalid_0's l2: 0.751577\n",
      "[467]\tvalid_0's l2: 0.751338\n",
      "[468]\tvalid_0's l2: 0.751084\n",
      "[469]\tvalid_0's l2: 0.750979\n",
      "[470]\tvalid_0's l2: 0.750343\n",
      "[471]\tvalid_0's l2: 0.750319\n",
      "[472]\tvalid_0's l2: 0.750244\n",
      "[473]\tvalid_0's l2: 0.749994\n",
      "[474]\tvalid_0's l2: 0.750078\n",
      "[475]\tvalid_0's l2: 0.7496\n",
      "[476]\tvalid_0's l2: 0.749788\n",
      "[477]\tvalid_0's l2: 0.749419\n",
      "[478]\tvalid_0's l2: 0.749507\n",
      "[479]\tvalid_0's l2: 0.749415\n",
      "[480]\tvalid_0's l2: 0.748916\n",
      "[481]\tvalid_0's l2: 0.748598\n",
      "[482]\tvalid_0's l2: 0.748799\n",
      "[483]\tvalid_0's l2: 0.748224\n",
      "[484]\tvalid_0's l2: 0.748313\n",
      "[485]\tvalid_0's l2: 0.747899\n",
      "[486]\tvalid_0's l2: 0.747723\n",
      "[487]\tvalid_0's l2: 0.74722\n",
      "[488]\tvalid_0's l2: 0.746982\n",
      "[489]\tvalid_0's l2: 0.746363\n",
      "[490]\tvalid_0's l2: 0.74637\n",
      "[491]\tvalid_0's l2: 0.746356\n",
      "[492]\tvalid_0's l2: 0.746309\n",
      "[493]\tvalid_0's l2: 0.745989\n",
      "[494]\tvalid_0's l2: 0.746001\n",
      "[495]\tvalid_0's l2: 0.745904\n",
      "[496]\tvalid_0's l2: 0.745941\n",
      "[497]\tvalid_0's l2: 0.745857\n",
      "[498]\tvalid_0's l2: 0.74534\n",
      "[499]\tvalid_0's l2: 0.745257\n",
      "[500]\tvalid_0's l2: 0.745479\n",
      "[501]\tvalid_0's l2: 0.745459\n",
      "[502]\tvalid_0's l2: 0.7457\n",
      "[503]\tvalid_0's l2: 0.745574\n",
      "[504]\tvalid_0's l2: 0.745947\n",
      "[505]\tvalid_0's l2: 0.745892\n",
      "[506]\tvalid_0's l2: 0.745231\n",
      "[507]\tvalid_0's l2: 0.74522\n",
      "[508]\tvalid_0's l2: 0.745409\n",
      "[509]\tvalid_0's l2: 0.74534\n",
      "[510]\tvalid_0's l2: 0.744801\n",
      "[511]\tvalid_0's l2: 0.744555\n",
      "[512]\tvalid_0's l2: 0.744782\n",
      "[513]\tvalid_0's l2: 0.743503\n",
      "[514]\tvalid_0's l2: 0.742225\n",
      "[515]\tvalid_0's l2: 0.741065\n",
      "[516]\tvalid_0's l2: 0.741661\n",
      "[517]\tvalid_0's l2: 0.74039\n",
      "[518]\tvalid_0's l2: 0.73978\n",
      "[519]\tvalid_0's l2: 0.739519\n",
      "[520]\tvalid_0's l2: 0.738858\n",
      "[521]\tvalid_0's l2: 0.738722\n",
      "[522]\tvalid_0's l2: 0.739098\n",
      "[523]\tvalid_0's l2: 0.738439\n",
      "[524]\tvalid_0's l2: 0.737967\n",
      "[525]\tvalid_0's l2: 0.737358\n",
      "[526]\tvalid_0's l2: 0.736751\n",
      "[527]\tvalid_0's l2: 0.736559\n",
      "[528]\tvalid_0's l2: 0.736712\n",
      "[529]\tvalid_0's l2: 0.736683\n",
      "[530]\tvalid_0's l2: 0.735737\n",
      "[531]\tvalid_0's l2: 0.735256\n",
      "[532]\tvalid_0's l2: 0.735174\n",
      "[533]\tvalid_0's l2: 0.734299\n",
      "[534]\tvalid_0's l2: 0.733547\n",
      "[535]\tvalid_0's l2: 0.733113\n",
      "[536]\tvalid_0's l2: 0.732918\n",
      "[537]\tvalid_0's l2: 0.732388\n",
      "[538]\tvalid_0's l2: 0.732251\n",
      "[539]\tvalid_0's l2: 0.732195\n",
      "[540]\tvalid_0's l2: 0.732264\n",
      "[541]\tvalid_0's l2: 0.732145\n",
      "[542]\tvalid_0's l2: 0.731988\n",
      "[543]\tvalid_0's l2: 0.731783\n",
      "[544]\tvalid_0's l2: 0.731706\n",
      "[545]\tvalid_0's l2: 0.730491\n",
      "[546]\tvalid_0's l2: 0.730207\n",
      "[547]\tvalid_0's l2: 0.730643\n",
      "[548]\tvalid_0's l2: 0.73016\n",
      "[549]\tvalid_0's l2: 0.730196\n",
      "[550]\tvalid_0's l2: 0.729524\n"
     ]
    },
    {
     "data": {
      "text/plain": [
       "LGBMRegressor(bagging_fraction=0.8, bagging_freq=5, bagging_seed=9,\n",
       "       boosting_type='gbdt', colsample_bytree=1, feature_fraction=0.2319,\n",
       "       feature_fraction_seed=9, learning_rate=0.05, max_bin=25,\n",
       "       max_depth=-1, min_child_samples=10, min_child_weight=5,\n",
       "       min_data_in_leaf=7, min_split_gain=0, min_sum_hessian_in_leaf=12,\n",
       "       n_estimators=550, nthread=-1, num_leaves=5, objective='regression',\n",
       "       reg_alpha=0, reg_lambda=0, seed=0, silent=True, subsample=1,\n",
       "       subsample_for_bin=50000, subsample_freq=1)"
      ]
     },
     "execution_count": 155,
     "metadata": {},
     "output_type": "execute_result"
    },
    {
     "name": "stdout",
     "output_type": "stream",
     "text": [
      "train:  0.436551454971\n"
     ]
    },
    {
     "data": {
      "text/html": [
       "<div>\n",
       "<style>\n",
       "    .dataframe thead tr:only-child th {\n",
       "        text-align: right;\n",
       "    }\n",
       "\n",
       "    .dataframe thead th {\n",
       "        text-align: left;\n",
       "    }\n",
       "\n",
       "    .dataframe tbody tr th {\n",
       "        vertical-align: top;\n",
       "    }\n",
       "</style>\n",
       "<table border=\"1\" class=\"dataframe\">\n",
       "  <thead>\n",
       "    <tr style=\"text-align: right;\">\n",
       "      <th></th>\n",
       "      <th>0</th>\n",
       "    </tr>\n",
       "  </thead>\n",
       "  <tbody>\n",
       "    <tr>\n",
       "      <th>count</th>\n",
       "      <td>1000.000000</td>\n",
       "    </tr>\n",
       "    <tr>\n",
       "      <th>mean</th>\n",
       "      <td>5.614748</td>\n",
       "    </tr>\n",
       "    <tr>\n",
       "      <th>std</th>\n",
       "      <td>0.608677</td>\n",
       "    </tr>\n",
       "    <tr>\n",
       "      <th>min</th>\n",
       "      <td>4.643751</td>\n",
       "    </tr>\n",
       "    <tr>\n",
       "      <th>25%</th>\n",
       "      <td>5.170262</td>\n",
       "    </tr>\n",
       "    <tr>\n",
       "      <th>50%</th>\n",
       "      <td>5.507668</td>\n",
       "    </tr>\n",
       "    <tr>\n",
       "      <th>75%</th>\n",
       "      <td>5.914453</td>\n",
       "    </tr>\n",
       "    <tr>\n",
       "      <th>max</th>\n",
       "      <td>10.125190</td>\n",
       "    </tr>\n",
       "  </tbody>\n",
       "</table>\n",
       "</div>"
      ],
      "text/plain": [
       "                 0\n",
       "count  1000.000000\n",
       "mean      5.614748\n",
       "std       0.608677\n",
       "min       4.643751\n",
       "25%       5.170262\n",
       "50%       5.507668\n",
       "75%       5.914453\n",
       "max      10.125190"
      ]
     },
     "execution_count": 155,
     "metadata": {},
     "output_type": "execute_result"
    }
   ],
   "source": [
    "%time\n",
    "cate_fea =  [ 'feature_0_is_normal',\n",
    "       'feature_1_is_normal', 'feature_1_feature_0',\n",
    "       'feature_1_feature_0_is_normal', 'feature_2_is_normal',\n",
    "       'feature_3_is_normal', 'feature_4_is_normal', 'feature_5_is_normal',\n",
    "       'feature_6_is_normal', 'feature_8_is_normal', 'feature_9_is_normal',\n",
    "       'feature_10_is_normal', 'feature_10_gender_is_normal',\n",
    "       'feature_11_is_normal', 'feature_10_feature_11', 'feature_12_is_normal',\n",
    "       'feature_13_is_normal', 'feature_14_is_normal',\n",
    "       'feature_14_gender_is_normal', 'feature_20_is_normal',\n",
    "       'feature_21_is_normal', 'feature_22_is_normal', 'feature_23_is_normal',\n",
    "       'feature_24_is_normal', 'feature_25_is_normal', 'feature_26_is_normal',\n",
    "       'feature_27_is_normal', 'feature_28_is_normal', 'feature_29_is_normal',\n",
    "       'feature_30_is_normal', 'feature_31_is_normal', 'feature_32_is_normal',\n",
    "       'feature_20_feature_32', 'feature_33_is_normal',\n",
    "       'feature_20_feature_33', 'feature_34_is_normal',\n",
    "       'feature_20_feature_34', 'feature_35_is_normal',\n",
    "       'feature_20_feature_35', 'feature_36_is_normal',\n",
    "       'feature_20_feature_36', 'gender_0', 'gender_1']\n",
    "def evalerror(pred, df):\n",
    "    label = df.get_label().values.copy()\n",
    "    score = mean_squared_error(label,pred)*0.5\n",
    "    return ('mse',score,False)\n",
    "x_val, x_test, y_val, y_test = train_test_split(train[features_with_no_cate], y_train,test_size=0.1, random_state=42)\n",
    "model_lgb = lgb.LGBMRegressor(objective='regression',num_leaves=5,\n",
    "                              learning_rate=0.05, n_estimators=550,\n",
    "                              max_bin = 25, bagging_fraction = 0.8,\n",
    "                              bagging_freq = 5, feature_fraction = 0.2319,\n",
    "                              feature_fraction_seed=9, bagging_seed=9,\n",
    "                              min_data_in_leaf =7, min_sum_hessian_in_leaf = 12)\n",
    "score = rmsle_cv(model_lgb)\n",
    "print(\"LGBM score: {:.4f} ({:.4f})\\n\" .format(score.mean(), score.std()))\n",
    "model_lgb.fit(train, y_train,eval_set=[(x_test,y_test)],,categorical_feature=cate_fea)\n",
    "lgb_train_pred = model_lgb.predict(train)\n",
    "lgb_pred = model_lgb.predict(test.values)\n",
    "print(\"train: \",rmsle(y_train, lgb_train_pred))\n",
    "sub_pd = pd.DataFrame(lgb_pred)\n",
    "sub_pd.describe()\n",
    "# sub_pd.to_csv('../submission/sub_average_7_2_h.csv',header=False, index=False)\n",
    "# print(\"test: \",rmsle(y_test, lgb_pred))"
   ]
  },
  {
   "cell_type": "markdown",
   "metadata": {},
   "source": [
    "## Stacking"
   ]
  },
  {
   "cell_type": "code",
   "execution_count": 136,
   "metadata": {
    "collapsed": false
   },
   "outputs": [
    {
     "name": "stdout",
     "output_type": "stream",
     "text": [
      "stacking score: 1.1304 (0.0672)\n",
      "\n"
     ]
    },
    {
     "data": {
      "text/plain": [
       "StackingRegressor(meta_regressor=XGBRegressor(base_score=0.5, colsample_bylevel=1, colsample_bytree=0.4603,\n",
       "       gamma=0.0468, learning_rate=0.01, max_delta_step=0, max_depth=3,\n",
       "       min_child_weight=1.7817, missing=None, n_estimators=500, nthread=-1,\n",
       "       objective='reg:linear', reg_alpha=0.464, reg_lambda=0.8571,\n",
       "       scale_pos_weight=1, seed=1024, silent=1, subsample=0.5213),\n",
       "         regressors=[Pipeline(memory=None,\n",
       "     steps=[('robustscaler', RobustScaler(copy=True, quantile_range=(25.0, 75.0), with_centering=True,\n",
       "       with_scaling=True)), ('lasso', Lasso(alpha=0.0005, copy_X=True, fit_intercept=True, max_iter=1000,\n",
       "   normalize=False, positive=False, precompute=False, ran...           presort='auto', random_state=5, subsample=1.0, verbose=0,\n",
       "             warm_start=False)],\n",
       "         verbose=0)"
      ]
     },
     "execution_count": 136,
     "metadata": {},
     "output_type": "execute_result"
    },
    {
     "name": "stdout",
     "output_type": "stream",
     "text": [
      "train:  0.418254426919\n"
     ]
    }
   ],
   "source": [
    "regressors = [lasso, ENet, GBoost]\n",
    "stregr = StackingRegressor(regressors=regressors, meta_regressor=model_xgb)\n",
    "score = rmsle_cv(stregr)\n",
    "print(\"stacking score: {:.4f} ({:.4f})\\n\" .format(score.mean(), score.std()))\n",
    "stregr.fit(train, y_train)\n",
    "stregr_train_pred = stregr.predict(train)\n",
    "stregr_pred = stregr.predict(test)\n",
    "print(\"train: \",rmsle(y_train, stregr_train_pred))\n",
    "# print(\"test: \", rmsle(y_test,stregr_pred))"
   ]
  },
  {
   "cell_type": "markdown",
   "metadata": {},
   "source": [
    "## AverageModel"
   ]
  },
  {
   "cell_type": "code",
   "execution_count": 96,
   "metadata": {
    "collapsed": true
   },
   "outputs": [],
   "source": [
    "class AveragingModels(BaseEstimator, RegressorMixin, TransformerMixin):\n",
    "    def __init__(self, models):\n",
    "        self.models = models\n",
    "        \n",
    "    # we define clones of the original models to fit the data in\n",
    "    def fit(self, X, y):\n",
    "        self.models_ = [clone(x) for x in self.models]\n",
    "        \n",
    "        # Train cloned base models\n",
    "        for model in self.models_:\n",
    "            model.fit(X, y)\n",
    "\n",
    "        return self\n",
    "    \n",
    "    #Now we do the predictions for cloned models and average them\n",
    "    def predict(self, X):\n",
    "        predictions = np.column_stack([\n",
    "            model.predict(X) for model in self.models_\n",
    "        ])\n",
    "        return np.mean(predictions, axis=1)   "
   ]
  },
  {
   "cell_type": "code",
   "execution_count": 135,
   "metadata": {
    "collapsed": false
   },
   "outputs": [
    {
     "name": "stdout",
     "output_type": "stream",
     "text": [
      "Wall time: 0 ns\n",
      " Averaged base models score: 1.1165 (0.0606)\n",
      "\n"
     ]
    },
    {
     "data": {
      "text/plain": [
       "AveragingModels(models=(LGBMRegressor(bagging_fraction=0.8, bagging_freq=5, bagging_seed=9,\n",
       "       boosting_type='gbdt', colsample_bytree=1, feature_fraction=0.2319,\n",
       "       feature_fraction_seed=9, learning_rate=0.05, max_bin=25,\n",
       "       max_depth=-1, min_child_samples=10, min_child_weight=5,\n",
       "       min_data_in_leaf...to', random_state=5, subsample=1.0, verbose=0,\n",
       "             warm_start=False)],\n",
       "         verbose=0)))"
      ]
     },
     "execution_count": 135,
     "metadata": {},
     "output_type": "execute_result"
    },
    {
     "name": "stdout",
     "output_type": "stream",
     "text": [
      "train:  0.281745426925\n"
     ]
    }
   ],
   "source": [
    "%time\n",
    "averaged_models = AveragingModels(models = (model_lgb, rf, stregr))\n",
    "score = rmsle_cv(averaged_models)\n",
    "print(\" Averaged base models score: {:.4f} ({:.4f})\\n\".format(score.mean(), score.std()))\n",
    "averaged_models.fit(train,y_train)\n",
    "ave_train_pred = averaged_models.predict(train)\n",
    "ave_pred = averaged_models.predict(test)\n",
    "print(\"train: \",rmsle(y_train, ave_train_pred))\n",
    "sub_pd = pd.DataFrame(ave_pred)\n",
    "# sub_pd.to_csv('../submission/sub_average_7_2_c.csv',header=False, index=False)\n",
    "# print(\"test: \", rmsle(y_test,ave_pred))"
   ]
  },
  {
   "cell_type": "code",
   "execution_count": 60,
   "metadata": {
    "collapsed": false
   },
   "outputs": [
    {
     "ename": "ValueError",
     "evalue": "Number of features of the model must match the input. Model n_features is 95 and input n_features is 30 ",
     "output_type": "error",
     "traceback": [
      "\u001b[1;31m---------------------------------------------------------------------------\u001b[0m",
      "\u001b[1;31mValueError\u001b[0m                                Traceback (most recent call last)",
      "\u001b[1;32m<ipython-input-60-30aae62d826c>\u001b[0m in \u001b[0;36m<module>\u001b[1;34m()\u001b[0m\n\u001b[1;32m----> 1\u001b[1;33m \u001b[0msub\u001b[0m \u001b[1;33m=\u001b[0m \u001b[0maveraged_models\u001b[0m\u001b[1;33m.\u001b[0m\u001b[0mpredict\u001b[0m\u001b[1;33m(\u001b[0m\u001b[0mtest_sub\u001b[0m\u001b[1;33m)\u001b[0m\u001b[1;33m\u001b[0m\u001b[0m\n\u001b[0m\u001b[0;32m      2\u001b[0m \u001b[0msub_pd\u001b[0m \u001b[1;33m=\u001b[0m \u001b[0mpd\u001b[0m\u001b[1;33m.\u001b[0m\u001b[0mDataFrame\u001b[0m\u001b[1;33m(\u001b[0m\u001b[0msub\u001b[0m\u001b[1;33m)\u001b[0m\u001b[1;33m\u001b[0m\u001b[0m\n\u001b[0;32m      3\u001b[0m \u001b[0msub_pd\u001b[0m\u001b[1;33m.\u001b[0m\u001b[0mto_csv\u001b[0m\u001b[1;33m(\u001b[0m\u001b[1;34m'../submission/sub_average_7_1_c.csv'\u001b[0m\u001b[1;33m,\u001b[0m\u001b[0mheader\u001b[0m\u001b[1;33m=\u001b[0m\u001b[1;32mFalse\u001b[0m\u001b[1;33m,\u001b[0m \u001b[0mindex\u001b[0m\u001b[1;33m=\u001b[0m\u001b[1;32mFalse\u001b[0m\u001b[1;33m)\u001b[0m\u001b[1;33m\u001b[0m\u001b[0m\n",
      "\u001b[1;32m<ipython-input-58-c1283e2f8909>\u001b[0m in \u001b[0;36mpredict\u001b[1;34m(self, X)\u001b[0m\n\u001b[0;32m     16\u001b[0m     \u001b[1;32mdef\u001b[0m \u001b[0mpredict\u001b[0m\u001b[1;33m(\u001b[0m\u001b[0mself\u001b[0m\u001b[1;33m,\u001b[0m \u001b[0mX\u001b[0m\u001b[1;33m)\u001b[0m\u001b[1;33m:\u001b[0m\u001b[1;33m\u001b[0m\u001b[0m\n\u001b[0;32m     17\u001b[0m         predictions = np.column_stack([\n\u001b[1;32m---> 18\u001b[1;33m             \u001b[0mmodel\u001b[0m\u001b[1;33m.\u001b[0m\u001b[0mpredict\u001b[0m\u001b[1;33m(\u001b[0m\u001b[0mX\u001b[0m\u001b[1;33m)\u001b[0m \u001b[1;32mfor\u001b[0m \u001b[0mmodel\u001b[0m \u001b[1;32min\u001b[0m \u001b[0mself\u001b[0m\u001b[1;33m.\u001b[0m\u001b[0mmodels_\u001b[0m\u001b[1;33m\u001b[0m\u001b[0m\n\u001b[0m\u001b[0;32m     19\u001b[0m         ])\n\u001b[0;32m     20\u001b[0m         \u001b[1;32mreturn\u001b[0m \u001b[0mnp\u001b[0m\u001b[1;33m.\u001b[0m\u001b[0mmean\u001b[0m\u001b[1;33m(\u001b[0m\u001b[0mpredictions\u001b[0m\u001b[1;33m,\u001b[0m \u001b[0maxis\u001b[0m\u001b[1;33m=\u001b[0m\u001b[1;36m1\u001b[0m\u001b[1;33m)\u001b[0m\u001b[1;33m\u001b[0m\u001b[0m\n",
      "\u001b[1;32m<ipython-input-58-c1283e2f8909>\u001b[0m in \u001b[0;36m<listcomp>\u001b[1;34m(.0)\u001b[0m\n\u001b[0;32m     16\u001b[0m     \u001b[1;32mdef\u001b[0m \u001b[0mpredict\u001b[0m\u001b[1;33m(\u001b[0m\u001b[0mself\u001b[0m\u001b[1;33m,\u001b[0m \u001b[0mX\u001b[0m\u001b[1;33m)\u001b[0m\u001b[1;33m:\u001b[0m\u001b[1;33m\u001b[0m\u001b[0m\n\u001b[0;32m     17\u001b[0m         predictions = np.column_stack([\n\u001b[1;32m---> 18\u001b[1;33m             \u001b[0mmodel\u001b[0m\u001b[1;33m.\u001b[0m\u001b[0mpredict\u001b[0m\u001b[1;33m(\u001b[0m\u001b[0mX\u001b[0m\u001b[1;33m)\u001b[0m \u001b[1;32mfor\u001b[0m \u001b[0mmodel\u001b[0m \u001b[1;32min\u001b[0m \u001b[0mself\u001b[0m\u001b[1;33m.\u001b[0m\u001b[0mmodels_\u001b[0m\u001b[1;33m\u001b[0m\u001b[0m\n\u001b[0m\u001b[0;32m     19\u001b[0m         ])\n\u001b[0;32m     20\u001b[0m         \u001b[1;32mreturn\u001b[0m \u001b[0mnp\u001b[0m\u001b[1;33m.\u001b[0m\u001b[0mmean\u001b[0m\u001b[1;33m(\u001b[0m\u001b[0mpredictions\u001b[0m\u001b[1;33m,\u001b[0m \u001b[0maxis\u001b[0m\u001b[1;33m=\u001b[0m\u001b[1;36m1\u001b[0m\u001b[1;33m)\u001b[0m\u001b[1;33m\u001b[0m\u001b[0m\n",
      "\u001b[1;32mD:\\ProgramData\\Anaconda3\\lib\\site-packages\\sklearn\\ensemble\\forest.py\u001b[0m in \u001b[0;36mpredict\u001b[1;34m(self, X)\u001b[0m\n\u001b[0;32m    676\u001b[0m         \u001b[0mcheck_is_fitted\u001b[0m\u001b[1;33m(\u001b[0m\u001b[0mself\u001b[0m\u001b[1;33m,\u001b[0m \u001b[1;34m'estimators_'\u001b[0m\u001b[1;33m)\u001b[0m\u001b[1;33m\u001b[0m\u001b[0m\n\u001b[0;32m    677\u001b[0m         \u001b[1;31m# Check data\u001b[0m\u001b[1;33m\u001b[0m\u001b[1;33m\u001b[0m\u001b[0m\n\u001b[1;32m--> 678\u001b[1;33m         \u001b[0mX\u001b[0m \u001b[1;33m=\u001b[0m \u001b[0mself\u001b[0m\u001b[1;33m.\u001b[0m\u001b[0m_validate_X_predict\u001b[0m\u001b[1;33m(\u001b[0m\u001b[0mX\u001b[0m\u001b[1;33m)\u001b[0m\u001b[1;33m\u001b[0m\u001b[0m\n\u001b[0m\u001b[0;32m    679\u001b[0m \u001b[1;33m\u001b[0m\u001b[0m\n\u001b[0;32m    680\u001b[0m         \u001b[1;31m# Assign chunk of trees to jobs\u001b[0m\u001b[1;33m\u001b[0m\u001b[1;33m\u001b[0m\u001b[0m\n",
      "\u001b[1;32mD:\\ProgramData\\Anaconda3\\lib\\site-packages\\sklearn\\ensemble\\forest.py\u001b[0m in \u001b[0;36m_validate_X_predict\u001b[1;34m(self, X)\u001b[0m\n\u001b[0;32m    354\u001b[0m                                  \"call `fit` before exploiting the model.\")\n\u001b[0;32m    355\u001b[0m \u001b[1;33m\u001b[0m\u001b[0m\n\u001b[1;32m--> 356\u001b[1;33m         \u001b[1;32mreturn\u001b[0m \u001b[0mself\u001b[0m\u001b[1;33m.\u001b[0m\u001b[0mestimators_\u001b[0m\u001b[1;33m[\u001b[0m\u001b[1;36m0\u001b[0m\u001b[1;33m]\u001b[0m\u001b[1;33m.\u001b[0m\u001b[0m_validate_X_predict\u001b[0m\u001b[1;33m(\u001b[0m\u001b[0mX\u001b[0m\u001b[1;33m,\u001b[0m \u001b[0mcheck_input\u001b[0m\u001b[1;33m=\u001b[0m\u001b[1;32mTrue\u001b[0m\u001b[1;33m)\u001b[0m\u001b[1;33m\u001b[0m\u001b[0m\n\u001b[0m\u001b[0;32m    357\u001b[0m \u001b[1;33m\u001b[0m\u001b[0m\n\u001b[0;32m    358\u001b[0m     \u001b[1;33m@\u001b[0m\u001b[0mproperty\u001b[0m\u001b[1;33m\u001b[0m\u001b[0m\n",
      "\u001b[1;32mD:\\ProgramData\\Anaconda3\\lib\\site-packages\\sklearn\\tree\\tree.py\u001b[0m in \u001b[0;36m_validate_X_predict\u001b[1;34m(self, X, check_input)\u001b[0m\n\u001b[0;32m    382\u001b[0m                              \u001b[1;34m\"match the input. Model n_features is %s and \"\u001b[0m\u001b[1;33m\u001b[0m\u001b[0m\n\u001b[0;32m    383\u001b[0m                              \u001b[1;34m\"input n_features is %s \"\u001b[0m\u001b[1;33m\u001b[0m\u001b[0m\n\u001b[1;32m--> 384\u001b[1;33m                              % (self.n_features_, n_features))\n\u001b[0m\u001b[0;32m    385\u001b[0m \u001b[1;33m\u001b[0m\u001b[0m\n\u001b[0;32m    386\u001b[0m         \u001b[1;32mreturn\u001b[0m \u001b[0mX\u001b[0m\u001b[1;33m\u001b[0m\u001b[0m\n",
      "\u001b[1;31mValueError\u001b[0m: Number of features of the model must match the input. Model n_features is 95 and input n_features is 30 "
     ]
    }
   ],
   "source": [
    "sub = averaged_models.predict(test_sub)\n",
    "sub_pd = pd.DataFrame(sub)\n",
    "sub_pd.to_csv('../submission/sub_average_7_1_c.csv',header=False, index=False)"
   ]
  },
  {
   "cell_type": "code",
   "execution_count": null,
   "metadata": {
    "collapsed": false
   },
   "outputs": [],
   "source": [
    "sub_pd.describe()"
   ]
  },
  {
   "cell_type": "code",
   "execution_count": null,
   "metadata": {
    "collapsed": false
   },
   "outputs": [],
   "source": [
    "print('RMSLE score on train data:')\n",
    "print(rmsle(y_train,xgb_train_pred*0.70 +\n",
    "               lgb_train_pred*0.15 + ave_train_pred*0.15 ))\n",
    "print('RMSLE score on test data:')\n",
    "print(rmsle(y_test,ave_pred*0.65 +\n",
    "               lgb_pred*0.10 + xgb_pred*0.25 ))"
   ]
  }
 ],
 "metadata": {
  "kernelspec": {
   "display_name": "Python 3",
   "language": "python",
   "name": "python3"
  },
  "language_info": {
   "codemirror_mode": {
    "name": "ipython",
    "version": 3
   },
   "file_extension": ".py",
   "mimetype": "text/x-python",
   "name": "python",
   "nbconvert_exporter": "python",
   "pygments_lexer": "ipython3",
   "version": "3.6.0"
  },
  "toc": {
   "nav_menu": {},
   "number_sections": true,
   "sideBar": true,
   "skip_h1_title": false,
   "toc_cell": true,
   "toc_position": {},
   "toc_section_display": "block",
   "toc_window_display": false
  }
 },
 "nbformat": 4,
 "nbformat_minor": 2
}
