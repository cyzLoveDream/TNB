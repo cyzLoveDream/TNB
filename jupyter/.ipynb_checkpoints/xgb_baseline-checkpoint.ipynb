{
 "cells": [
  {
   "cell_type": "markdown",
   "metadata": {
    "toc": true
   },
   "source": [
    "<h1>Table of Contents<span class=\"tocSkip\"></span></h1>\n",
    "<div class=\"toc\" style=\"margin-top: 1em;\"><ul class=\"toc-item\"><li><span><a href=\"#导入相关的包\" data-toc-modified-id=\"导入相关的包-1\"><span class=\"toc-item-num\">1&nbsp;&nbsp;</span>导入相关的包</a></span></li><li><span><a href=\"#导入数据\" data-toc-modified-id=\"导入数据-2\"><span class=\"toc-item-num\">2&nbsp;&nbsp;</span>导入数据</a></span></li><li><span><a href=\"#初步处理\" data-toc-modified-id=\"初步处理-3\"><span class=\"toc-item-num\">3&nbsp;&nbsp;</span>初步处理</a></span></li><li><span><a href=\"#模型参数\" data-toc-modified-id=\"模型参数-4\"><span class=\"toc-item-num\">4&nbsp;&nbsp;</span>模型参数</a></span></li><li><span><a href=\"#交叉验证训练\" data-toc-modified-id=\"交叉验证训练-5\"><span class=\"toc-item-num\">5&nbsp;&nbsp;</span>交叉验证训练</a></span></li><li><span><a href=\"#获取提交结果\" data-toc-modified-id=\"获取提交结果-6\"><span class=\"toc-item-num\">6&nbsp;&nbsp;</span>获取提交结果</a></span></li></ul></div>"
   ]
  },
  {
   "cell_type": "markdown",
   "metadata": {},
   "source": [
    "# 导入相关的包"
   ]
  },
  {
   "cell_type": "code",
   "execution_count": 2,
   "metadata": {
    "collapsed": false
   },
   "outputs": [],
   "source": [
    "import time\n",
    "import numpy as np\n",
    "import pandas as pd\n",
    "from dateutil.parser import parse\n",
    "from sklearn.cross_validation import KFold\n",
    "from sklearn.metrics import mean_squared_error\n",
    "import xgboost as xgb\n",
    "%matplotlib inline"
   ]
  },
  {
   "cell_type": "markdown",
   "metadata": {},
   "source": [
    "# 导入数据"
   ]
  },
  {
   "cell_type": "code",
   "execution_count": 4,
   "metadata": {
    "collapsed": false
   },
   "outputs": [],
   "source": [
    "trains = pd.read_csv('../raw_data/d_train.csv',encoding=\"gbk\")\n",
    "tests = pd.read_csv(\"../raw_data/d_test_A.csv\",encoding=\"gbk\")\n",
    "fea_train = pd.read_csv(\"../raw_data/fea_train.csv\")\n",
    "fea_test = pd.read_csv(\"../raw_data/fea_test.csv\")\n",
    "trains.drop(trains[trains[\"年龄\"] < 20].index,inplace=True)\n",
    "trains.drop(trains[trains[\"年龄\"] > 85].index,inplace=True)\n",
    "trains.drop(trains[trains[\"血糖\"] > 15].index,inplace=True)\n",
    "trains = pd.merge(trains, fea_train, how=\"left\",on=\"id\")\n",
    "tests = pd.merge(tests, fea_test, how=\"left\",on=\"id\")"
   ]
  },
  {
   "cell_type": "markdown",
   "metadata": {},
   "source": [
    "# 初步处理"
   ]
  },
  {
   "cell_type": "code",
   "execution_count": 10,
   "metadata": {
    "collapsed": true
   },
   "outputs": [],
   "source": [
    "def make_feat(train,test):\n",
    "    train_id = train.id.values.copy()\n",
    "    test_id = test.id.values.copy()\n",
    "    data = pd.concat([train,test])\n",
    "    data['性别'] = data['性别'].map({'男': 1,'女': 0})\n",
    "    # data[\"性别\"] = data['性别'].astype(int)\n",
    "    data['体检日期'] = (pd.to_datetime(data['体检日期']) - parse('2017-10-09')).dt.days\n",
    "    # data.drop(\"体检日期\",axis = 1,inplace= True)\n",
    "    # data.fillna(value = -1, inplace = True)\n",
    "    train_feat = data[data.id.isin(train_id)]\n",
    "    test_feat = data[data.id.isin(test_id)]\n",
    "    return train_feat,test_feat\n",
    "# 自定义验证MSE\n",
    "def evalerror(pred,df):\n",
    "    label = df.get_label()\n",
    "    score = mean_squared_error(label,pred) * 0.5\n",
    "    return ('mse',score)"
   ]
  },
  {
   "cell_type": "markdown",
   "metadata": {},
   "source": [
    "# 模型参数"
   ]
  },
  {
   "cell_type": "code",
   "execution_count": 8,
   "metadata": {
    "collapsed": true
   },
   "outputs": [],
   "source": [
    "params = {\n",
    "    \"objective\":\"reg:linear\",\n",
    "    \"eta\":0.015,\n",
    "    \"min_child_weight\":7,\n",
    "    \"subsample\":0.8,\n",
    "    \"colsample_bytree\":0.8,\n",
    "    \"lambda\":0.1,\n",
    "    \"seed\":42,\n",
    "    \"silent\":1,\n",
    "    \"verbose\":0,\n",
    "    \"max_depth\":6,\n",
    "    \"alpha\":0,\n",
    "    \"gamma\":0.3\n",
    "}"
   ]
  },
  {
   "cell_type": "markdown",
   "metadata": {},
   "source": [
    "# 交叉验证训练"
   ]
  },
  {
   "cell_type": "code",
   "execution_count": 11,
   "metadata": {
    "collapsed": false
   },
   "outputs": [
    {
     "name": "stdout",
     "output_type": "stream",
     "text": [
      "第0次训练...\n",
      "[0]\tval-mse:12.9675\n",
      "Will train until val-mse hasn't improved in 50 rounds.\n",
      "[100]\tval-mse:1.14491\n",
      "[200]\tval-mse:0.563343\n",
      "[300]\tval-mse:0.532045\n",
      "[400]\tval-mse:0.527955\n",
      "[500]\tval-mse:0.526679\n",
      "Stopping. Best iteration:\n",
      "[469]\tval-mse:0.525522\n",
      "\n",
      "第1次训练...\n",
      "[0]\tval-mse:13.8394\n",
      "Will train until val-mse hasn't improved in 50 rounds.\n",
      "[100]\tval-mse:1.41955\n",
      "[200]\tval-mse:0.777474\n",
      "[300]\tval-mse:0.734567\n",
      "[400]\tval-mse:0.729968\n",
      "[500]\tval-mse:0.727167\n",
      "Stopping. Best iteration:\n",
      "[499]\tval-mse:0.726645\n",
      "\n",
      "第2次训练...\n",
      "[0]\tval-mse:13.4655\n",
      "Will train until val-mse hasn't improved in 50 rounds.\n",
      "[100]\tval-mse:1.32368\n",
      "[200]\tval-mse:0.68773\n",
      "[300]\tval-mse:0.640367\n",
      "[400]\tval-mse:0.633986\n",
      "[500]\tval-mse:0.632091\n",
      "[600]\tval-mse:0.63163\n",
      "Stopping. Best iteration:\n",
      "[637]\tval-mse:0.629294\n",
      "\n",
      "第3次训练...\n",
      "[0]\tval-mse:13.3822\n",
      "Will train until val-mse hasn't improved in 50 rounds.\n",
      "[100]\tval-mse:1.37573\n",
      "[200]\tval-mse:0.774106\n",
      "[300]\tval-mse:0.741249\n",
      "[400]\tval-mse:0.73636\n",
      "Stopping. Best iteration:\n",
      "[374]\tval-mse:0.736081\n",
      "\n",
      "第4次训练...\n",
      "[0]\tval-mse:13.4445\n",
      "Will train until val-mse hasn't improved in 50 rounds.\n",
      "[100]\tval-mse:1.32391\n",
      "[200]\tval-mse:0.680438\n",
      "[300]\tval-mse:0.637213\n",
      "Stopping. Best iteration:\n",
      "[343]\tval-mse:0.633163\n",
      "\n",
      "第5次训练...\n",
      "[0]\tval-mse:12.7277\n",
      "Will train until val-mse hasn't improved in 50 rounds.\n",
      "[100]\tval-mse:1.09458\n",
      "[200]\tval-mse:0.55946\n",
      "[300]\tval-mse:0.535756\n",
      "[400]\tval-mse:0.535371\n",
      "Stopping. Best iteration:\n",
      "[376]\tval-mse:0.53407\n",
      "\n",
      "第6次训练...\n",
      "[0]\tval-mse:13.6982\n",
      "Will train until val-mse hasn't improved in 50 rounds.\n",
      "[100]\tval-mse:1.46107\n",
      "[200]\tval-mse:0.780705\n",
      "[300]\tval-mse:0.72782\n",
      "[400]\tval-mse:0.720273\n",
      "[500]\tval-mse:0.718079\n",
      "Stopping. Best iteration:\n",
      "[529]\tval-mse:0.716902\n",
      "\n",
      "第7次训练...\n",
      "[0]\tval-mse:13.455\n",
      "Will train until val-mse hasn't improved in 50 rounds.\n",
      "[100]\tval-mse:1.26611\n",
      "[200]\tval-mse:0.631126\n",
      "[300]\tval-mse:0.590758\n",
      "[400]\tval-mse:0.589556\n",
      "Stopping. Best iteration:\n",
      "[360]\tval-mse:0.588744\n",
      "\n",
      "第8次训练...\n",
      "[0]\tval-mse:13.1247\n",
      "Will train until val-mse hasn't improved in 50 rounds.\n",
      "[100]\tval-mse:1.22979\n",
      "[200]\tval-mse:0.654735\n",
      "[300]\tval-mse:0.628117\n",
      "[400]\tval-mse:0.627665\n",
      "Stopping. Best iteration:\n",
      "[380]\tval-mse:0.62626\n",
      "\n",
      "第9次训练...\n",
      "[0]\tval-mse:12.5048\n",
      "Will train until val-mse hasn't improved in 50 rounds.\n",
      "[100]\tval-mse:0.89049\n",
      "[200]\tval-mse:0.417055\n",
      "Stopping. Best iteration:\n",
      "[234]\tval-mse:0.413774\n",
      "\n"
     ]
    }
   ],
   "source": [
    "train, test = make_feat(trains, tests)\n",
    "predictors = [f for f in list(train.columns) if f not in [\"血糖\",\"blood_sugar\",\"id\",\"blood_sugar_log\"]]\n",
    "scores = []\n",
    "t0 = time.time()\n",
    "train_preds = np.zeros(train.shape[0])\n",
    "test_preds = np.zeros((test.shape[0],10))\n",
    "feat_imp = pd.DataFrame()\n",
    "kf = KFold(len(train),n_folds=10,shuffle=True,random_state=1024)\n",
    "xgb_test = xgb.DMatrix(test[predictors])\n",
    "for i,(train_index,test_index) in enumerate(kf):\n",
    "    print('第{}次训练...'.format(i))\n",
    "    train_feat1 = train.iloc[train_index]\n",
    "    train_feat2 = train.iloc[test_index]\n",
    "    xgb_train1 = xgb.DMatrix(train_feat1[predictors],label=train_feat1[\"血糖\"])\n",
    "    xgb_train2 = xgb.DMatrix(train_feat2[predictors],label=train_feat2[\"血糖\"])\n",
    "    watchlist = [(xgb_train2,'val')]\n",
    "\n",
    "    xgb_model = xgb.train(params, xgb_train1,num_boost_round=3000,\n",
    "                          early_stopping_rounds=50,\n",
    "                          evals=watchlist,\n",
    "                          feval=evalerror,verbose_eval=100)\n",
    "\n",
    "    train_preds[test_index] += xgb_model.predict(xgb_train2,ntree_limit = xgb_model.best_ntree_limit)\n",
    "    test_preds[:,i] = xgb_model.predict(xgb_test,ntree_limit = xgb_model.best_ntree_limit)"
   ]
  },
  {
   "cell_type": "markdown",
   "metadata": {},
   "source": [
    "# 获取提交结果"
   ]
  },
  {
   "cell_type": "code",
   "execution_count": 12,
   "metadata": {
    "collapsed": false
   },
   "outputs": [
    {
     "name": "stdout",
     "output_type": "stream",
     "text": [
      "线下得分：    0.6130645724666798\n",
      "CV训练用时114.94473528862秒\n",
      "              pred\n",
      "count  1000.000000\n",
      "mean      5.669386\n",
      "std       0.560775\n",
      "min       4.808103\n",
      "25%       5.260629\n",
      "50%       5.546157\n",
      "75%       5.946548\n",
      "max       9.558611\n"
     ]
    }
   ],
   "source": [
    "print('线下得分：    {}'.format(mean_squared_error(train['血糖'],train_preds) * 0.5))\n",
    "print('CV训练用时{}秒'.format(time.time() - t0))\n",
    "submission = pd.DataFrame({'pred': test_preds.mean(axis=1)})\n",
    "print(submission.describe())\n",
    "# submission.to_csv(r'./submission/sub_xgb_9_2_h.csv',header=False,index=False)"
   ]
  }
 ],
 "metadata": {
  "kernelspec": {
   "display_name": "Python 3",
   "language": "python",
   "name": "python3"
  },
  "language_info": {
   "codemirror_mode": {
    "name": "ipython",
    "version": 3
   },
   "file_extension": ".py",
   "mimetype": "text/x-python",
   "name": "python",
   "nbconvert_exporter": "python",
   "pygments_lexer": "ipython3",
   "version": "3.6.0"
  },
  "toc": {
   "nav_menu": {},
   "number_sections": true,
   "sideBar": true,
   "skip_h1_title": false,
   "toc_cell": true,
   "toc_position": {},
   "toc_section_display": "block",
   "toc_window_display": false
  }
 },
 "nbformat": 4,
 "nbformat_minor": 2
}
