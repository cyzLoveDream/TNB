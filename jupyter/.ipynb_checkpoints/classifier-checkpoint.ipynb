{
 "cells": [
  {
   "cell_type": "markdown",
   "metadata": {},
   "source": [
    "# 导入相关的包"
   ]
  },
  {
   "cell_type": "code",
   "execution_count": 1,
   "metadata": {
    "collapsed": false
   },
   "outputs": [
    {
     "name": "stderr",
     "output_type": "stream",
     "text": [
      "D:\\ProgramAPP\\python\\anaconda\\lib\\site-packages\\sklearn\\cross_validation.py:41: DeprecationWarning: This module was deprecated in version 0.18 in favor of the model_selection module into which all the refactored classes and functions are moved. Also note that the interface of the new CV iterators are different from that of this module. This module will be removed in 0.20.\n",
      "  \"This module will be removed in 0.20.\", DeprecationWarning)\n"
     ]
    }
   ],
   "source": [
    "import pandas as pd\n",
    "import numpy as np\n",
    "import xgboost as xgb\n",
    "import time\n",
    "import warnings\n",
    "from sklearn.model_selection import train_test_split\n",
    "from sklearn.metrics import precision_score, recall_score, f1_score  \n",
    "warnings.filterwarnings(\"ignore\")"
   ]
  },
  {
   "cell_type": "markdown",
   "metadata": {},
   "source": [
    "# 导入相关数据"
   ]
  },
  {
   "cell_type": "code",
   "execution_count": 2,
   "metadata": {
    "collapsed": false
   },
   "outputs": [
    {
     "name": "stdout",
     "output_type": "stream",
     "text": [
      "Wall time: 540 ms\n"
     ]
    }
   ],
   "source": [
    "%%time\n",
    "trains = pd.read_csv('../raw_data/d_train.csv',encoding=\"gbk\")\n",
    "tests = pd.read_csv(\"../raw_data/d_test_A.csv\",encoding=\"gbk\")\n",
    "trains.drop(trains[trains[\"年龄\"] >= 84].index,inplace=True)\n",
    "fea_train = pd.read_csv(\"../raw_data/fea_train.csv\")\n",
    "fea_test = pd.read_csv(\"../raw_data/fea_test.csv\")\n",
    "fea_train1 = pd.read_csv(\"../raw_data/fea_train_1.csv\")\n",
    "fea_test1 = pd.read_csv(\"../raw_data/fea_test_1.csv\")\n",
    "trains = pd.merge(trains, fea_train, how=\"left\",on=\"id\")\n",
    "trains = pd.merge(trains, fea_train1, how=\"left\",on=\"id\")\n",
    "tests = pd.merge(tests, fea_test, how=\"left\",on=\"id\")\n",
    "tests = pd.merge(tests, fea_test1, how=\"left\",on=\"id\")\n",
    "\n",
    "# trains[\"血糖\"] = trains[\"血糖\"].apply(lambda x: 1 if x > 10 else 0)\n",
    "# trains[\"血糖\"] = trains[\"血糖\"].astype(np.int32)"
   ]
  },
  {
   "cell_type": "code",
   "execution_count": 3,
   "metadata": {
    "collapsed": false
   },
   "outputs": [
    {
     "data": {
      "text/plain": [
       "(5622, 101)"
      ]
     },
     "execution_count": 3,
     "metadata": {},
     "output_type": "execute_result"
    }
   ],
   "source": [
    "trains.shape"
   ]
  },
  {
   "cell_type": "markdown",
   "metadata": {},
   "source": [
    "# 形成训练数据"
   ]
  },
  {
   "cell_type": "code",
   "execution_count": 4,
   "metadata": {
    "collapsed": false
   },
   "outputs": [
    {
     "name": "stdout",
     "output_type": "stream",
     "text": [
      "Wall time: 0 ns\n"
     ]
    }
   ],
   "source": [
    "%%time\n",
    "def make_feat(train,test):\n",
    "    train_id = train.id.values.copy()\n",
    "    test_id = test.id.values.copy()\n",
    "    data = pd.concat([train,test])\n",
    "    data['性别'] = data['性别'].map({'男': 1,'女': 0, '??': 1})\n",
    "    # data[\"性别\"] = data['性别'].astype(int)\n",
    "    # data['date'] = (pd.to_datetime(data['date']) - parse('2017-10-09')).dt.days\n",
    "    # data['体检日期'] = (pd.to_datetime(data['体检日期']) - parse('2017-10-09')).dt.days\n",
    "    data.drop(\"体检日期\",axis = 1,inplace= True)\n",
    "    # data.fillna(value = -1, inplace = True)\n",
    "    train_feat = data[data.id.isin(train_id)]\n",
    "    test_feat = data[data.id.isin(test_id)]\n",
    "    return train_feat,test_feat\n",
    "# trains[\"血糖\"] = trains[\"血糖\"].apply(lambda x: 1 if x > 10 else 0)\n",
    "# trains[\"血糖\"] = trains[\"血糖\"].astype(np.int32)"
   ]
  },
  {
   "cell_type": "code",
   "execution_count": 6,
   "metadata": {
    "collapsed": false
   },
   "outputs": [],
   "source": [
    "trains, eval_down = train_test_split(trains,test_size=0.1,random_state=42)\n",
    "trains_eval,eval_downs = make_feat(trains, eval_down)"
   ]
  },
  {
   "cell_type": "code",
   "execution_count": 8,
   "metadata": {
    "collapsed": false
   },
   "outputs": [
    {
     "data": {
      "text/plain": [
       "array([1, 1, 0, ..., 0, 1, 0], dtype=int64)"
      ]
     },
     "execution_count": 8,
     "metadata": {},
     "output_type": "execute_result"
    }
   ],
   "source": [
    "trains_eval.性别.values\n",
    "# eval_downs.head()"
   ]
  },
  {
   "cell_type": "markdown",
   "metadata": {},
   "source": [
    "# 训练模型"
   ]
  },
  {
   "cell_type": "code",
   "execution_count": 9,
   "metadata": {
    "collapsed": true
   },
   "outputs": [],
   "source": [
    "col = list(trains_eval.columns)\n",
    "test_pred = pd.DataFrame()\n",
    "train_pred = pd.DataFrame()"
   ]
  },
  {
   "cell_type": "code",
   "execution_count": 12,
   "metadata": {
    "collapsed": false
   },
   "outputs": [
    {
     "name": "stdout",
     "output_type": "stream",
     "text": [
      "train'shape (6398, 101)\n",
      "eval:  423\n"
     ]
    },
    {
     "ename": "NameError",
     "evalue": "name 'y_test' is not defined",
     "output_type": "error",
     "traceback": [
      "\u001b[1;31m---------------------------------------------------------------------------\u001b[0m",
      "\u001b[1;31mNameError\u001b[0m                                 Traceback (most recent call last)",
      "\u001b[1;32m<ipython-input-12-dcc50cff13e4>\u001b[0m in \u001b[0;36m<module>\u001b[1;34m()\u001b[0m\n\u001b[0;32m     44\u001b[0m \u001b[0meval_pred\u001b[0m \u001b[1;33m=\u001b[0m \u001b[0mX_test\u001b[0m\u001b[1;33m[\u001b[0m\u001b[1;34m\"pred\"\u001b[0m\u001b[1;33m]\u001b[0m\u001b[1;33m.\u001b[0m\u001b[0mvalues\u001b[0m\u001b[1;33m\u001b[0m\u001b[0m\n\u001b[0;32m     45\u001b[0m \u001b[0mprint\u001b[0m\u001b[1;33m(\u001b[0m\u001b[1;34m\"eval: \"\u001b[0m\u001b[1;33m,\u001b[0m\u001b[0msum\u001b[0m\u001b[1;33m(\u001b[0m\u001b[0meval_pred\u001b[0m\u001b[1;33m)\u001b[0m\u001b[1;33m)\u001b[0m\u001b[1;33m\u001b[0m\u001b[0m\n\u001b[1;32m---> 46\u001b[1;33m \u001b[0mp\u001b[0m \u001b[1;33m=\u001b[0m \u001b[0mprecision_score\u001b[0m\u001b[1;33m(\u001b[0m\u001b[0my_test\u001b[0m\u001b[1;33m,\u001b[0m \u001b[0meval_pred\u001b[0m\u001b[1;33m,\u001b[0m\u001b[0maverage\u001b[0m\u001b[1;33m=\u001b[0m\u001b[1;34m'binary'\u001b[0m\u001b[1;33m)\u001b[0m\u001b[1;33m\u001b[0m\u001b[0m\n\u001b[0m\u001b[0;32m     47\u001b[0m \u001b[0mr\u001b[0m \u001b[1;33m=\u001b[0m \u001b[0mrecall_score\u001b[0m\u001b[1;33m(\u001b[0m\u001b[0my_test\u001b[0m\u001b[1;33m,\u001b[0m \u001b[0meval_pred\u001b[0m\u001b[1;33m,\u001b[0m\u001b[0maverage\u001b[0m\u001b[1;33m=\u001b[0m\u001b[1;34m\"binary\"\u001b[0m\u001b[1;33m)\u001b[0m\u001b[1;33m\u001b[0m\u001b[0m\n\u001b[0;32m     48\u001b[0m \u001b[0mf1\u001b[0m \u001b[1;33m=\u001b[0m \u001b[0mf1_score\u001b[0m\u001b[1;33m(\u001b[0m\u001b[0my_test\u001b[0m\u001b[1;33m,\u001b[0m \u001b[0meval_pred\u001b[0m\u001b[1;33m,\u001b[0m\u001b[0maverage\u001b[0m\u001b[1;33m=\u001b[0m\u001b[1;34m'binary'\u001b[0m\u001b[1;33m)\u001b[0m\u001b[1;33m\u001b[0m\u001b[0m\n",
      "\u001b[1;31mNameError\u001b[0m: name 'y_test' is not defined"
     ]
    }
   ],
   "source": [
    "result = {}\n",
    "\n",
    "predictors = [f for f in list(trains.columns) if f not in [\"血糖\",'血糖_c',\"blood_sugar\",\"id\",\"blood_sugar_log\",\"体检日期\"]]\n",
    "X_train, X_test= train_test_split(trains_eval,test_size=0.1,random_state=42)\n",
    "# X_test做验证集\n",
    "X_train[\"血糖_c\"] = X_train[\"血糖\"].apply(lambda x: 1 if x < 7 else 0)\n",
    "X_test[\"血糖_c\"] = X_test[\"血糖\"].apply(lambda x: 1 if x < 7 else 0)\n",
    "b_lt_7 = X_train[X_train[\"血糖_c\"] == 0]\n",
    "b_lt_7_s = pd.concat([b_lt_7] * 5, axis=0)\n",
    "X_train_s = pd.concat([X_train, b_lt_7_s],axis=0)\n",
    "train,_ = make_feat(X_train_s, tests)\n",
    "print(\"train'shape\", train.shape)\n",
    "params={'booster':'gbtree',\n",
    "'objective': 'binary:logistic',\n",
    "'scale_pos_weight':float(len(X_train[\"血糖_c\"]) - sum(X_train[\"血糖_c\"])) / sum(X_train[\"血糖_c\"]),\n",
    "'eval_metric': 'auc',\n",
    "\"subsample\":0.6,\n",
    "\"colsample_bytree\":0.8,\n",
    "\"lambda\":5,\n",
    "\"seed\":1024,\n",
    "\"silent\":1,\n",
    "\"verbose\":0,\n",
    "\"max_depth\":7,\n",
    "\"alpha\":0.01,\n",
    "\"gamma\":0.6,\n",
    "\"eta\":0.015\n",
    "}\n",
    "xgb_train = xgb.DMatrix(X_train[predictors], label=X_train[\"血糖_c\"])\n",
    "xgb_eval = xgb.DMatrix(X_test[predictors], label=X_test[\"血糖_c\"])\n",
    "xgb_test = xgb.DMatrix(eval_downs[predictors])\n",
    "watchlist  = [(xgb_train,'train'),(xgb_eval,\"eval\")]\n",
    "#通过cv找最佳的nround\n",
    "cv_log = xgb.cv(params,xgb_train,num_boost_round=25000,nfold=5,metrics='auc',early_stopping_rounds=50,seed=1024)\n",
    "bst_auc= cv_log['test-auc-mean'].max()\n",
    "cv_log['nb'] = cv_log.index\n",
    "cv_log.index = cv_log['test-auc-mean']\n",
    "bst_nb = cv_log.nb.to_dict()[bst_auc]\n",
    "#train\n",
    "watchlist  = [(xgb_train,'train'),(xgb_eval,\"eval\")]\n",
    "model = xgb.train(params,xgb_train,num_boost_round=bst_nb+50,verbose_eval=False)\n",
    "eval_pred = model.predict(xgb_eval)\n",
    "X_test[\"pred\"] = eval_pred\n",
    "X_test[\"pred\"] = X_test[\"pred\"].apply(lambda x: 1 if x > 0.5 else 0)\n",
    "eval_pred = X_test[\"pred\"].values\n",
    "print(\"eval: \",sum(eval_pred))\n",
    "p = precision_score(y_test, eval_pred,average='binary')\n",
    "r = recall_score(y_test, eval_pred,average=\"binary\")\n",
    "f1 = f1_score(y_test, eval_pred,average='binary')\n",
    "print(\"the recall is {0},precision is {1}, f1 is {2}\".format(r, p, f1))\n",
    "test_1 = model.predict(xgb_test)\n",
    "# name = \"pred_\" + str(i) + \"-\" + str(i+1)\n",
    "# tests['pred_lt_7'] = test\n",
    "# t_id = tests[[\"id\",'pred_lt_7']]\n",
    "# result[0] = list(t_id[t_id['pred_lt_7'] > 0.5][\"id\"].index + 1)\n",
    "train_1 = model.predict(xgb.DMatrix(trains_eval[predictors]))\n",
    "test_pred[\"pred_lt_7\"] = test_1\n",
    "train_pred[\"pred_lt_7\"] = train_1"
   ]
  },
  {
   "cell_type": "code",
   "execution_count": 319,
   "metadata": {
    "collapsed": false
   },
   "outputs": [
    {
     "data": {
      "text/html": [
       "<div>\n",
       "<style>\n",
       "    .dataframe thead tr:only-child th {\n",
       "        text-align: right;\n",
       "    }\n",
       "\n",
       "    .dataframe thead th {\n",
       "        text-align: left;\n",
       "    }\n",
       "\n",
       "    .dataframe tbody tr th {\n",
       "        vertical-align: top;\n",
       "    }\n",
       "</style>\n",
       "<table border=\"1\" class=\"dataframe\">\n",
       "  <thead>\n",
       "    <tr style=\"text-align: right;\">\n",
       "      <th></th>\n",
       "      <th>pred_lt_7</th>\n",
       "    </tr>\n",
       "  </thead>\n",
       "  <tbody>\n",
       "    <tr>\n",
       "      <th>0</th>\n",
       "      <td>0.998415</td>\n",
       "    </tr>\n",
       "    <tr>\n",
       "      <th>1</th>\n",
       "      <td>0.928397</td>\n",
       "    </tr>\n",
       "    <tr>\n",
       "      <th>2</th>\n",
       "      <td>0.998579</td>\n",
       "    </tr>\n",
       "    <tr>\n",
       "      <th>3</th>\n",
       "      <td>0.999331</td>\n",
       "    </tr>\n",
       "    <tr>\n",
       "      <th>4</th>\n",
       "      <td>0.995908</td>\n",
       "    </tr>\n",
       "  </tbody>\n",
       "</table>\n",
       "</div>"
      ],
      "text/plain": [
       "   pred_lt_7\n",
       "0   0.998415\n",
       "1   0.928397\n",
       "2   0.998579\n",
       "3   0.999331\n",
       "4   0.995908"
      ]
     },
     "execution_count": 319,
     "metadata": {},
     "output_type": "execute_result"
    },
    {
     "data": {
      "text/html": [
       "<div>\n",
       "<style>\n",
       "    .dataframe thead tr:only-child th {\n",
       "        text-align: right;\n",
       "    }\n",
       "\n",
       "    .dataframe thead th {\n",
       "        text-align: left;\n",
       "    }\n",
       "\n",
       "    .dataframe tbody tr th {\n",
       "        vertical-align: top;\n",
       "    }\n",
       "</style>\n",
       "<table border=\"1\" class=\"dataframe\">\n",
       "  <thead>\n",
       "    <tr style=\"text-align: right;\">\n",
       "      <th></th>\n",
       "      <th>pred_lt_7</th>\n",
       "    </tr>\n",
       "  </thead>\n",
       "  <tbody>\n",
       "    <tr>\n",
       "      <th>0</th>\n",
       "      <td>0.875525</td>\n",
       "    </tr>\n",
       "    <tr>\n",
       "      <th>1</th>\n",
       "      <td>0.981260</td>\n",
       "    </tr>\n",
       "    <tr>\n",
       "      <th>2</th>\n",
       "      <td>0.987554</td>\n",
       "    </tr>\n",
       "    <tr>\n",
       "      <th>3</th>\n",
       "      <td>0.996041</td>\n",
       "    </tr>\n",
       "    <tr>\n",
       "      <th>4</th>\n",
       "      <td>0.991778</td>\n",
       "    </tr>\n",
       "  </tbody>\n",
       "</table>\n",
       "</div>"
      ],
      "text/plain": [
       "   pred_lt_7\n",
       "0   0.875525\n",
       "1   0.981260\n",
       "2   0.987554\n",
       "3   0.996041\n",
       "4   0.991778"
      ]
     },
     "execution_count": 319,
     "metadata": {},
     "output_type": "execute_result"
    }
   ],
   "source": [
    "test_pred.head()\n",
    "train_pred.head()"
   ]
  },
  {
   "cell_type": "code",
   "execution_count": 320,
   "metadata": {
    "collapsed": false
   },
   "outputs": [
    {
     "data": {
      "text/plain": [
       "93"
      ]
     },
     "execution_count": 320,
     "metadata": {},
     "output_type": "execute_result"
    }
   ],
   "source": [
    "len(col)"
   ]
  },
  {
   "cell_type": "code",
   "execution_count": 321,
   "metadata": {
    "collapsed": false
   },
   "outputs": [
    {
     "name": "stdout",
     "output_type": "stream",
     "text": [
      "trains's shape: (5059, 93)\n",
      "train'shape (7124, 94)\n",
      "eval's shape: (713, 91)\n",
      "eval:  245\n",
      "the recall is 1.0,precision is 0.9428571428571428, f1 is 0.9705882352941176, blood_sugar gt: 7\n",
      "trains's shape: (5059, 93)\n",
      "train'shape (6334, 94)\n",
      "eval's shape: (634, 91)\n"
     ]
    },
    {
     "ename": "KeyboardInterrupt",
     "evalue": "",
     "output_type": "error",
     "traceback": [
      "\u001b[1;31m---------------------------------------------------------------------------\u001b[0m",
      "\u001b[1;31mKeyboardInterrupt\u001b[0m                         Traceback (most recent call last)",
      "\u001b[1;32m<timed exec>\u001b[0m in \u001b[0;36m<module>\u001b[1;34m()\u001b[0m\n",
      "\u001b[1;32mD:\\ProgramData\\Anaconda3\\lib\\site-packages\\xgboost\\training.py\u001b[0m in \u001b[0;36mtrain\u001b[1;34m(params, dtrain, num_boost_round, evals, obj, feval, maximize, early_stopping_rounds, evals_result, verbose_eval, learning_rates, xgb_model, callbacks)\u001b[0m\n\u001b[0;32m    203\u001b[0m                            \u001b[0mevals\u001b[0m\u001b[1;33m=\u001b[0m\u001b[0mevals\u001b[0m\u001b[1;33m,\u001b[0m\u001b[1;33m\u001b[0m\u001b[0m\n\u001b[0;32m    204\u001b[0m                            \u001b[0mobj\u001b[0m\u001b[1;33m=\u001b[0m\u001b[0mobj\u001b[0m\u001b[1;33m,\u001b[0m \u001b[0mfeval\u001b[0m\u001b[1;33m=\u001b[0m\u001b[0mfeval\u001b[0m\u001b[1;33m,\u001b[0m\u001b[1;33m\u001b[0m\u001b[0m\n\u001b[1;32m--> 205\u001b[1;33m                            xgb_model=xgb_model, callbacks=callbacks)\n\u001b[0m\u001b[0;32m    206\u001b[0m \u001b[1;33m\u001b[0m\u001b[0m\n\u001b[0;32m    207\u001b[0m \u001b[1;33m\u001b[0m\u001b[0m\n",
      "\u001b[1;32mD:\\ProgramData\\Anaconda3\\lib\\site-packages\\xgboost\\training.py\u001b[0m in \u001b[0;36m_train_internal\u001b[1;34m(params, dtrain, num_boost_round, evals, obj, feval, xgb_model, callbacks)\u001b[0m\n\u001b[0;32m     74\u001b[0m         \u001b[1;31m# Skip the first update if it is a recovery step.\u001b[0m\u001b[1;33m\u001b[0m\u001b[1;33m\u001b[0m\u001b[0m\n\u001b[0;32m     75\u001b[0m         \u001b[1;32mif\u001b[0m \u001b[0mversion\u001b[0m \u001b[1;33m%\u001b[0m \u001b[1;36m2\u001b[0m \u001b[1;33m==\u001b[0m \u001b[1;36m0\u001b[0m\u001b[1;33m:\u001b[0m\u001b[1;33m\u001b[0m\u001b[0m\n\u001b[1;32m---> 76\u001b[1;33m             \u001b[0mbst\u001b[0m\u001b[1;33m.\u001b[0m\u001b[0mupdate\u001b[0m\u001b[1;33m(\u001b[0m\u001b[0mdtrain\u001b[0m\u001b[1;33m,\u001b[0m \u001b[0mi\u001b[0m\u001b[1;33m,\u001b[0m \u001b[0mobj\u001b[0m\u001b[1;33m)\u001b[0m\u001b[1;33m\u001b[0m\u001b[0m\n\u001b[0m\u001b[0;32m     77\u001b[0m             \u001b[0mbst\u001b[0m\u001b[1;33m.\u001b[0m\u001b[0msave_rabit_checkpoint\u001b[0m\u001b[1;33m(\u001b[0m\u001b[1;33m)\u001b[0m\u001b[1;33m\u001b[0m\u001b[0m\n\u001b[0;32m     78\u001b[0m             \u001b[0mversion\u001b[0m \u001b[1;33m+=\u001b[0m \u001b[1;36m1\u001b[0m\u001b[1;33m\u001b[0m\u001b[0m\n",
      "\u001b[1;32mD:\\ProgramData\\Anaconda3\\lib\\site-packages\\xgboost\\core.py\u001b[0m in \u001b[0;36mupdate\u001b[1;34m(self, dtrain, iteration, fobj)\u001b[0m\n\u001b[0;32m    804\u001b[0m \u001b[1;33m\u001b[0m\u001b[0m\n\u001b[0;32m    805\u001b[0m         \u001b[1;32mif\u001b[0m \u001b[0mfobj\u001b[0m \u001b[1;32mis\u001b[0m \u001b[1;32mNone\u001b[0m\u001b[1;33m:\u001b[0m\u001b[1;33m\u001b[0m\u001b[0m\n\u001b[1;32m--> 806\u001b[1;33m             \u001b[0m_check_call\u001b[0m\u001b[1;33m(\u001b[0m\u001b[0m_LIB\u001b[0m\u001b[1;33m.\u001b[0m\u001b[0mXGBoosterUpdateOneIter\u001b[0m\u001b[1;33m(\u001b[0m\u001b[0mself\u001b[0m\u001b[1;33m.\u001b[0m\u001b[0mhandle\u001b[0m\u001b[1;33m,\u001b[0m \u001b[0miteration\u001b[0m\u001b[1;33m,\u001b[0m \u001b[0mdtrain\u001b[0m\u001b[1;33m.\u001b[0m\u001b[0mhandle\u001b[0m\u001b[1;33m)\u001b[0m\u001b[1;33m)\u001b[0m\u001b[1;33m\u001b[0m\u001b[0m\n\u001b[0m\u001b[0;32m    807\u001b[0m         \u001b[1;32melse\u001b[0m\u001b[1;33m:\u001b[0m\u001b[1;33m\u001b[0m\u001b[0m\n\u001b[0;32m    808\u001b[0m             \u001b[0mpred\u001b[0m \u001b[1;33m=\u001b[0m \u001b[0mself\u001b[0m\u001b[1;33m.\u001b[0m\u001b[0mpredict\u001b[0m\u001b[1;33m(\u001b[0m\u001b[0mdtrain\u001b[0m\u001b[1;33m)\u001b[0m\u001b[1;33m\u001b[0m\u001b[0m\n",
      "\u001b[1;31mKeyboardInterrupt\u001b[0m: "
     ]
    }
   ],
   "source": [
    "%%time\n",
    "for i in range(7,13,1):\n",
    "    trains = trains[col]\n",
    "    print(\"trains's shape:\", trains.shape)\n",
    "    trains[\"血糖_c\"] = trains[\"血糖\"].apply(lambda x: 1 if x > i else 0)\n",
    "    b_lt_7 = trains[trains[\"血糖_c\"] == 1]\n",
    "    b_lt_7_s = pd.concat([b_lt_7] * 5, axis=0)\n",
    "    trains_s = pd.concat([trains, b_lt_7_s],axis=0)\n",
    "    train, test = make_feat(trains_s, tests)\n",
    "    print(\"train'shape\", train.shape)\n",
    "    params={'booster':'gbtree',\n",
    "    'objective': 'binary:logistic',\n",
    "    'scale_pos_weight':float(len(train[\"血糖_c\"]) - sum(train[\"血糖_c\"])) / sum(train[\"血糖_c\"]),\n",
    "    'eval_metric': 'auc',\n",
    "    \"subsample\":0.6,\n",
    "    \"colsample_bytree\":0.8,\n",
    "    \"lambda\":5,\n",
    "    \"seed\":1024,\n",
    "    \"silent\":1,\n",
    "    \"verbose\":0,\n",
    "    \"max_depth\":7,\n",
    "    \"alpha\":0.01,\n",
    "    \"gamma\":0.6,\n",
    "    \"eta\":0.015\n",
    "    }\n",
    "    predictors = [f for f in list(train.columns) if f not in [\"血糖\",'血糖_c',\"blood_sugar\",\"id\",\"blood_sugar_log\",\"体检日期\"]]\n",
    "    X_train, X_test, y_train,y_test = train_test_split(train[predictors], train[\"血糖_c\"],test_size=0.1,random_state=42)\n",
    "    print(\"eval's shape:\",X_test.shape)\n",
    "    xgb_train = xgb.DMatrix(X_train[predictors], label=y_train)\n",
    "    xgb_eval = xgb.DMatrix(X_test[predictors], label=y_test)\n",
    "    xgb_test = xgb.DMatrix(eval_downs[predictors])\n",
    "    watchlist  = [(xgb_train,'train'),(xgb_eval,\"eval\")]\n",
    "    #通过cv找最佳的nround\n",
    "    cv_log = xgb.cv(params,xgb_train,num_boost_round=25000,nfold=5,metrics='auc',early_stopping_rounds=50,seed=1024)\n",
    "    bst_auc= cv_log['test-auc-mean'].max()\n",
    "    cv_log['nb'] = cv_log.index\n",
    "    cv_log.index = cv_log['test-auc-mean']\n",
    "    bst_nb = cv_log.nb.to_dict()[bst_auc]\n",
    "    #train\n",
    "    watchlist  = [(xgb_train,'train'),(xgb_eval,\"eval\")]\n",
    "    model = xgb.train(params,xgb_train,num_boost_round=bst_nb+50,verbose_eval=False)\n",
    "    eval_pred = model.predict(xgb_eval)\n",
    "    X_test[\"pred\"] = eval_pred\n",
    "    X_test[\"pred\"] = X_test[\"pred\"].apply(lambda x: 1 if x > 0.5 else 0)\n",
    "    eval_pred = X_test[\"pred\"].values\n",
    "    print(\"eval: \",sum(eval_pred))\n",
    "    p = precision_score(y_test, eval_pred,average='binary')\n",
    "    r = recall_score(y_test, eval_pred,average=\"binary\")\n",
    "    f1 = f1_score(y_test, eval_pred,average='binary')\n",
    "    print(\"the recall is {0},precision is {1}, f1 is {2}, blood_sugar gt: {3}\".format(r, p, f1, i))\n",
    "    test_1 = model.predict(xgb_test)\n",
    "    name = \"pred_gt_\" + str(i)\n",
    "#     tests[name] = test\n",
    "#     t_id = tests[[\"id\",name]]\n",
    "#     result[i] = list(t_id[t_id[name] > 0.5][\"id\"].index + 1)\n",
    "    train_1 = model.predict(xgb.DMatrix(trains_eval[predictors]))\n",
    "    test_pred[name] = test_1\n",
    "    train_pred[name] = train_1"
   ]
  },
  {
   "cell_type": "code",
   "execution_count": 322,
   "metadata": {
    "collapsed": false
   },
   "outputs": [],
   "source": [
    "k = list(result.keys())\n",
    "pred_result = {}\n",
    "for i in range(len(k) - 1):\n",
    "    pred_result[str(k[i]) + '-' + str(k[i+1])] = [x for x in result.get(k[i]) if x not in result.get(k[i+1])]"
   ]
  },
  {
   "cell_type": "code",
   "execution_count": 323,
   "metadata": {
    "collapsed": false
   },
   "outputs": [
    {
     "name": "stdout",
     "output_type": "stream",
     "text": [
      "{}\n"
     ]
    }
   ],
   "source": [
    "print(pred_result)"
   ]
  },
  {
   "cell_type": "code",
   "execution_count": 324,
   "metadata": {
    "collapsed": false
   },
   "outputs": [
    {
     "data": {
      "text/html": [
       "<div>\n",
       "<style>\n",
       "    .dataframe thead tr:only-child th {\n",
       "        text-align: right;\n",
       "    }\n",
       "\n",
       "    .dataframe thead th {\n",
       "        text-align: left;\n",
       "    }\n",
       "\n",
       "    .dataframe tbody tr th {\n",
       "        vertical-align: top;\n",
       "    }\n",
       "</style>\n",
       "<table border=\"1\" class=\"dataframe\">\n",
       "  <thead>\n",
       "    <tr style=\"text-align: right;\">\n",
       "      <th></th>\n",
       "      <th>pred_lt_7</th>\n",
       "      <th>pred_gt_7</th>\n",
       "    </tr>\n",
       "  </thead>\n",
       "  <tbody>\n",
       "    <tr>\n",
       "      <th>0</th>\n",
       "      <td>0.998415</td>\n",
       "      <td>0.001190</td>\n",
       "    </tr>\n",
       "    <tr>\n",
       "      <th>1</th>\n",
       "      <td>0.928397</td>\n",
       "      <td>0.029272</td>\n",
       "    </tr>\n",
       "    <tr>\n",
       "      <th>2</th>\n",
       "      <td>0.998579</td>\n",
       "      <td>0.000612</td>\n",
       "    </tr>\n",
       "    <tr>\n",
       "      <th>3</th>\n",
       "      <td>0.999331</td>\n",
       "      <td>0.000304</td>\n",
       "    </tr>\n",
       "    <tr>\n",
       "      <th>4</th>\n",
       "      <td>0.995908</td>\n",
       "      <td>0.002076</td>\n",
       "    </tr>\n",
       "  </tbody>\n",
       "</table>\n",
       "</div>"
      ],
      "text/plain": [
       "   pred_lt_7  pred_gt_7\n",
       "0   0.998415   0.001190\n",
       "1   0.928397   0.029272\n",
       "2   0.998579   0.000612\n",
       "3   0.999331   0.000304\n",
       "4   0.995908   0.002076"
      ]
     },
     "execution_count": 324,
     "metadata": {},
     "output_type": "execute_result"
    },
    {
     "data": {
      "text/html": [
       "<div>\n",
       "<style>\n",
       "    .dataframe thead tr:only-child th {\n",
       "        text-align: right;\n",
       "    }\n",
       "\n",
       "    .dataframe thead th {\n",
       "        text-align: left;\n",
       "    }\n",
       "\n",
       "    .dataframe tbody tr th {\n",
       "        vertical-align: top;\n",
       "    }\n",
       "</style>\n",
       "<table border=\"1\" class=\"dataframe\">\n",
       "  <thead>\n",
       "    <tr style=\"text-align: right;\">\n",
       "      <th></th>\n",
       "      <th>pred_lt_7</th>\n",
       "      <th>pred_gt_7</th>\n",
       "    </tr>\n",
       "  </thead>\n",
       "  <tbody>\n",
       "    <tr>\n",
       "      <th>0</th>\n",
       "      <td>0.875525</td>\n",
       "      <td>0.018342</td>\n",
       "    </tr>\n",
       "    <tr>\n",
       "      <th>1</th>\n",
       "      <td>0.981260</td>\n",
       "      <td>0.009770</td>\n",
       "    </tr>\n",
       "    <tr>\n",
       "      <th>2</th>\n",
       "      <td>0.987554</td>\n",
       "      <td>0.006390</td>\n",
       "    </tr>\n",
       "    <tr>\n",
       "      <th>3</th>\n",
       "      <td>0.996041</td>\n",
       "      <td>0.001330</td>\n",
       "    </tr>\n",
       "    <tr>\n",
       "      <th>4</th>\n",
       "      <td>0.991778</td>\n",
       "      <td>0.003022</td>\n",
       "    </tr>\n",
       "  </tbody>\n",
       "</table>\n",
       "</div>"
      ],
      "text/plain": [
       "   pred_lt_7  pred_gt_7\n",
       "0   0.875525   0.018342\n",
       "1   0.981260   0.009770\n",
       "2   0.987554   0.006390\n",
       "3   0.996041   0.001330\n",
       "4   0.991778   0.003022"
      ]
     },
     "execution_count": 324,
     "metadata": {},
     "output_type": "execute_result"
    }
   ],
   "source": [
    "test_pred.head()\n",
    "train_pred.head()"
   ]
  },
  {
   "cell_type": "code",
   "execution_count": 325,
   "metadata": {
    "collapsed": false
   },
   "outputs": [
    {
     "data": {
      "text/plain": [
       "4644"
      ]
     },
     "execution_count": 325,
     "metadata": {},
     "output_type": "execute_result"
    }
   ],
   "source": [
    "trains[\"血糖_c\"] = trains[\"血糖\"].apply(lambda x: 1 if x < 7 else 0)\n",
    "sum(trains[\"血糖_c\"])"
   ]
  },
  {
   "cell_type": "code",
   "execution_count": 326,
   "metadata": {
    "collapsed": false
   },
   "outputs": [
    {
     "data": {
      "text/plain": [
       "62"
      ]
     },
     "execution_count": 326,
     "metadata": {},
     "output_type": "execute_result"
    }
   ],
   "source": [
    "trains[\"血糖_c\"] = trains[\"血糖\"].apply(lambda x: 1 if x > 12 else 0)\n",
    "sum(trains[\"血糖_c\"])"
   ]
  },
  {
   "cell_type": "code",
   "execution_count": 327,
   "metadata": {
    "collapsed": false
   },
   "outputs": [
    {
     "name": "stdout",
     "output_type": "stream",
     "text": [
      "train'shape (5989, 94)\n",
      "eval's shape: (599, 91)\n"
     ]
    },
    {
     "ename": "KeyboardInterrupt",
     "evalue": "",
     "output_type": "error",
     "traceback": [
      "\u001b[1;31m---------------------------------------------------------------------------\u001b[0m",
      "\u001b[1;31mKeyboardInterrupt\u001b[0m                         Traceback (most recent call last)",
      "\u001b[1;32m<ipython-input-327-34126fc8d7fd>\u001b[0m in \u001b[0;36m<module>\u001b[1;34m()\u001b[0m\n\u001b[0;32m     29\u001b[0m \u001b[0mwatchlist\u001b[0m  \u001b[1;33m=\u001b[0m \u001b[1;33m[\u001b[0m\u001b[1;33m(\u001b[0m\u001b[0mxgb_train\u001b[0m\u001b[1;33m,\u001b[0m\u001b[1;34m'train'\u001b[0m\u001b[1;33m)\u001b[0m\u001b[1;33m,\u001b[0m\u001b[1;33m(\u001b[0m\u001b[0mxgb_eval\u001b[0m\u001b[1;33m,\u001b[0m\u001b[1;34m\"eval\"\u001b[0m\u001b[1;33m)\u001b[0m\u001b[1;33m]\u001b[0m\u001b[1;33m\u001b[0m\u001b[0m\n\u001b[0;32m     30\u001b[0m \u001b[1;31m#通过cv找最佳的nround\u001b[0m\u001b[1;33m\u001b[0m\u001b[1;33m\u001b[0m\u001b[0m\n\u001b[1;32m---> 31\u001b[1;33m \u001b[0mcv_log\u001b[0m \u001b[1;33m=\u001b[0m \u001b[0mxgb\u001b[0m\u001b[1;33m.\u001b[0m\u001b[0mcv\u001b[0m\u001b[1;33m(\u001b[0m\u001b[0mparams\u001b[0m\u001b[1;33m,\u001b[0m\u001b[0mxgb_train\u001b[0m\u001b[1;33m,\u001b[0m\u001b[0mnum_boost_round\u001b[0m\u001b[1;33m=\u001b[0m\u001b[1;36m25000\u001b[0m\u001b[1;33m,\u001b[0m\u001b[0mnfold\u001b[0m\u001b[1;33m=\u001b[0m\u001b[1;36m5\u001b[0m\u001b[1;33m,\u001b[0m\u001b[0mmetrics\u001b[0m\u001b[1;33m=\u001b[0m\u001b[1;34m'auc'\u001b[0m\u001b[1;33m,\u001b[0m\u001b[0mearly_stopping_rounds\u001b[0m\u001b[1;33m=\u001b[0m\u001b[1;36m50\u001b[0m\u001b[1;33m,\u001b[0m\u001b[0mseed\u001b[0m\u001b[1;33m=\u001b[0m\u001b[1;36m1024\u001b[0m\u001b[1;33m)\u001b[0m\u001b[1;33m\u001b[0m\u001b[0m\n\u001b[0m\u001b[0;32m     32\u001b[0m \u001b[0mbst_auc\u001b[0m\u001b[1;33m=\u001b[0m \u001b[0mcv_log\u001b[0m\u001b[1;33m[\u001b[0m\u001b[1;34m'test-auc-mean'\u001b[0m\u001b[1;33m]\u001b[0m\u001b[1;33m.\u001b[0m\u001b[0mmax\u001b[0m\u001b[1;33m(\u001b[0m\u001b[1;33m)\u001b[0m\u001b[1;33m\u001b[0m\u001b[0m\n\u001b[0;32m     33\u001b[0m \u001b[0mcv_log\u001b[0m\u001b[1;33m[\u001b[0m\u001b[1;34m'nb'\u001b[0m\u001b[1;33m]\u001b[0m \u001b[1;33m=\u001b[0m \u001b[0mcv_log\u001b[0m\u001b[1;33m.\u001b[0m\u001b[0mindex\u001b[0m\u001b[1;33m\u001b[0m\u001b[0m\n",
      "\u001b[1;32mD:\\ProgramData\\Anaconda3\\lib\\site-packages\\xgboost\\training.py\u001b[0m in \u001b[0;36mcv\u001b[1;34m(params, dtrain, num_boost_round, nfold, stratified, folds, metrics, obj, feval, maximize, early_stopping_rounds, fpreproc, as_pandas, verbose_eval, show_stdv, seed, callbacks)\u001b[0m\n\u001b[0;32m    398\u001b[0m                            evaluation_result_list=None))\n\u001b[0;32m    399\u001b[0m         \u001b[1;32mfor\u001b[0m \u001b[0mfold\u001b[0m \u001b[1;32min\u001b[0m \u001b[0mcvfolds\u001b[0m\u001b[1;33m:\u001b[0m\u001b[1;33m\u001b[0m\u001b[0m\n\u001b[1;32m--> 400\u001b[1;33m             \u001b[0mfold\u001b[0m\u001b[1;33m.\u001b[0m\u001b[0mupdate\u001b[0m\u001b[1;33m(\u001b[0m\u001b[0mi\u001b[0m\u001b[1;33m,\u001b[0m \u001b[0mobj\u001b[0m\u001b[1;33m)\u001b[0m\u001b[1;33m\u001b[0m\u001b[0m\n\u001b[0m\u001b[0;32m    401\u001b[0m         \u001b[0mres\u001b[0m \u001b[1;33m=\u001b[0m \u001b[0maggcv\u001b[0m\u001b[1;33m(\u001b[0m\u001b[1;33m[\u001b[0m\u001b[0mf\u001b[0m\u001b[1;33m.\u001b[0m\u001b[0meval\u001b[0m\u001b[1;33m(\u001b[0m\u001b[0mi\u001b[0m\u001b[1;33m,\u001b[0m \u001b[0mfeval\u001b[0m\u001b[1;33m)\u001b[0m \u001b[1;32mfor\u001b[0m \u001b[0mf\u001b[0m \u001b[1;32min\u001b[0m \u001b[0mcvfolds\u001b[0m\u001b[1;33m]\u001b[0m\u001b[1;33m)\u001b[0m\u001b[1;33m\u001b[0m\u001b[0m\n\u001b[0;32m    402\u001b[0m \u001b[1;33m\u001b[0m\u001b[0m\n",
      "\u001b[1;32mD:\\ProgramData\\Anaconda3\\lib\\site-packages\\xgboost\\training.py\u001b[0m in \u001b[0;36mupdate\u001b[1;34m(self, iteration, fobj)\u001b[0m\n\u001b[0;32m    217\u001b[0m     \u001b[1;32mdef\u001b[0m \u001b[0mupdate\u001b[0m\u001b[1;33m(\u001b[0m\u001b[0mself\u001b[0m\u001b[1;33m,\u001b[0m \u001b[0miteration\u001b[0m\u001b[1;33m,\u001b[0m \u001b[0mfobj\u001b[0m\u001b[1;33m)\u001b[0m\u001b[1;33m:\u001b[0m\u001b[1;33m\u001b[0m\u001b[0m\n\u001b[0;32m    218\u001b[0m         \u001b[1;34m\"\"\"\"Update the boosters for one iteration\"\"\"\u001b[0m\u001b[1;33m\u001b[0m\u001b[0m\n\u001b[1;32m--> 219\u001b[1;33m         \u001b[0mself\u001b[0m\u001b[1;33m.\u001b[0m\u001b[0mbst\u001b[0m\u001b[1;33m.\u001b[0m\u001b[0mupdate\u001b[0m\u001b[1;33m(\u001b[0m\u001b[0mself\u001b[0m\u001b[1;33m.\u001b[0m\u001b[0mdtrain\u001b[0m\u001b[1;33m,\u001b[0m \u001b[0miteration\u001b[0m\u001b[1;33m,\u001b[0m \u001b[0mfobj\u001b[0m\u001b[1;33m)\u001b[0m\u001b[1;33m\u001b[0m\u001b[0m\n\u001b[0m\u001b[0;32m    220\u001b[0m \u001b[1;33m\u001b[0m\u001b[0m\n\u001b[0;32m    221\u001b[0m     \u001b[1;32mdef\u001b[0m \u001b[0meval\u001b[0m\u001b[1;33m(\u001b[0m\u001b[0mself\u001b[0m\u001b[1;33m,\u001b[0m \u001b[0miteration\u001b[0m\u001b[1;33m,\u001b[0m \u001b[0mfeval\u001b[0m\u001b[1;33m)\u001b[0m\u001b[1;33m:\u001b[0m\u001b[1;33m\u001b[0m\u001b[0m\n",
      "\u001b[1;32mD:\\ProgramData\\Anaconda3\\lib\\site-packages\\xgboost\\core.py\u001b[0m in \u001b[0;36mupdate\u001b[1;34m(self, dtrain, iteration, fobj)\u001b[0m\n\u001b[0;32m    804\u001b[0m \u001b[1;33m\u001b[0m\u001b[0m\n\u001b[0;32m    805\u001b[0m         \u001b[1;32mif\u001b[0m \u001b[0mfobj\u001b[0m \u001b[1;32mis\u001b[0m \u001b[1;32mNone\u001b[0m\u001b[1;33m:\u001b[0m\u001b[1;33m\u001b[0m\u001b[0m\n\u001b[1;32m--> 806\u001b[1;33m             \u001b[0m_check_call\u001b[0m\u001b[1;33m(\u001b[0m\u001b[0m_LIB\u001b[0m\u001b[1;33m.\u001b[0m\u001b[0mXGBoosterUpdateOneIter\u001b[0m\u001b[1;33m(\u001b[0m\u001b[0mself\u001b[0m\u001b[1;33m.\u001b[0m\u001b[0mhandle\u001b[0m\u001b[1;33m,\u001b[0m \u001b[0miteration\u001b[0m\u001b[1;33m,\u001b[0m \u001b[0mdtrain\u001b[0m\u001b[1;33m.\u001b[0m\u001b[0mhandle\u001b[0m\u001b[1;33m)\u001b[0m\u001b[1;33m)\u001b[0m\u001b[1;33m\u001b[0m\u001b[0m\n\u001b[0m\u001b[0;32m    807\u001b[0m         \u001b[1;32melse\u001b[0m\u001b[1;33m:\u001b[0m\u001b[1;33m\u001b[0m\u001b[0m\n\u001b[0;32m    808\u001b[0m             \u001b[0mpred\u001b[0m \u001b[1;33m=\u001b[0m \u001b[0mself\u001b[0m\u001b[1;33m.\u001b[0m\u001b[0mpredict\u001b[0m\u001b[1;33m(\u001b[0m\u001b[0mdtrain\u001b[0m\u001b[1;33m)\u001b[0m\u001b[1;33m\u001b[0m\u001b[0m\n",
      "\u001b[1;31mKeyboardInterrupt\u001b[0m: "
     ]
    }
   ],
   "source": [
    "trains = trains[col]\n",
    "trains[\"血糖_c\"] = trains[\"血糖\"].apply(lambda x: 1 if x > 12 else 0)\n",
    "b_lt_7 = trains[trains[\"血糖_c\"] == 1]\n",
    "b_lt_7_s = pd.concat([b_lt_7] * 15, axis=0)\n",
    "trains_s = pd.concat([trains, b_lt_7_s],axis=0)\n",
    "train, test = make_feat(trains_s, tests)\n",
    "print(\"train'shape\", train.shape)\n",
    "params={'booster':'gbtree',\n",
    "'objective': 'binary:logistic',\n",
    "'scale_pos_weight':float(len(train[\"血糖_c\"]) - sum(train[\"血糖_c\"])) / sum(train[\"血糖_c\"]),\n",
    "'eval_metric': 'auc',\n",
    "\"subsample\":0.6,\n",
    "\"colsample_bytree\":0.8,\n",
    "\"lambda\":5,\n",
    "\"seed\":1024,\n",
    "\"silent\":1,\n",
    "\"verbose\":0,\n",
    "\"max_depth\":7,\n",
    "\"alpha\":0.01,\n",
    "\"gamma\":0.6,\n",
    "\"eta\":0.015\n",
    "}\n",
    "predictors = [f for f in list(train.columns) if f not in [\"血糖\",'血糖_c',\"blood_sugar\",\"id\",\"blood_sugar_log\",\"体检日期\"]]\n",
    "X_train, X_test, y_train,y_test = train_test_split(train[predictors], train[\"血糖_c\"],test_size=0.1,random_state=42)\n",
    "print(\"eval's shape:\",X_test.shape)\n",
    "xgb_train = xgb.DMatrix(X_train[predictors], label=y_train)\n",
    "xgb_eval = xgb.DMatrix(X_test[predictors], label=y_test)\n",
    "xgb_test = xgb.DMatrix(eval_down[predictors])\n",
    "watchlist  = [(xgb_train,'train'),(xgb_eval,\"eval\")]\n",
    "#通过cv找最佳的nround\n",
    "cv_log = xgb.cv(params,xgb_train,num_boost_round=25000,nfold=5,metrics='auc',early_stopping_rounds=50,seed=1024)\n",
    "bst_auc= cv_log['test-auc-mean'].max()\n",
    "cv_log['nb'] = cv_log.index\n",
    "cv_log.index = cv_log['test-auc-mean']\n",
    "bst_nb = cv_log.nb.to_dict()[bst_auc]\n",
    "#train\n",
    "watchlist  = [(xgb_train,'train'),(xgb_eval,\"eval\")]\n",
    "model = xgb.train(params,xgb_train,num_boost_round=bst_nb+50,verbose_eval=False)\n",
    "eval_pred = model.predict(xgb_eval)\n",
    "X_test[\"pred\"] = eval_pred\n",
    "X_test[\"pred\"] = X_test[\"pred\"].apply(lambda x: 1 if x > 0.5 else 0)\n",
    "eval_pred = X_test[\"pred\"].values\n",
    "print(\"eval: \",sum(eval_pred))\n",
    "p = precision_score(y_test, eval_pred,average='binary')\n",
    "r = recall_score(y_test, eval_pred,average=\"binary\")\n",
    "f1 = f1_score(y_test, eval_pred,average='binary')\n",
    "print(\"the recall is {0},precision is {1}, f1 is {2}\".format(r, p, f1))\n",
    "test_1 = model.predict(xgb_test)\n",
    "# name = \"pred_\" + str(i) + \"-\" + str(i+1)\n",
    "# tests['pred_gt_12'] = test\n",
    "# t_id = tests[[\"id\",'pred_gt_12']]\n",
    "# result[i] = list(t_id[t_id['pred_gt_12'] > 0.5][\"id\"].index + 1)\n",
    "train_1 = model.predict(xgb.DMatrix(trains_eval[predictors]))\n",
    "test_pred[\"pred_gt_12\"] = test_1\n",
    "train_pred[\"pred_gt_12\"] = train_1"
   ]
  },
  {
   "cell_type": "code",
   "execution_count": null,
   "metadata": {
    "collapsed": true
   },
   "outputs": [],
   "source": []
  },
  {
   "cell_type": "code",
   "execution_count": null,
   "metadata": {
    "collapsed": false
   },
   "outputs": [],
   "source": [
    "test_pred.head()\n",
    "train_pred.head()"
   ]
  },
  {
   "cell_type": "code",
   "execution_count": null,
   "metadata": {
    "collapsed": false
   },
   "outputs": [],
   "source": [
    "test_pred.ix[313]"
   ]
  },
  {
   "cell_type": "markdown",
   "metadata": {},
   "source": [
    "# 训练多分类模型"
   ]
  },
  {
   "cell_type": "markdown",
   "metadata": {},
   "source": [
    "## 导入数据"
   ]
  },
  {
   "cell_type": "code",
   "execution_count": null,
   "metadata": {
    "collapsed": false
   },
   "outputs": [],
   "source": [
    "%%time\n",
    "mul_trains = pd.read_csv('../raw_data/d_train.csv',encoding=\"gbk\")\n",
    "mul_tests = pd.read_csv(\"../raw_data/d_test_A.csv\",encoding=\"gbk\")\n",
    "mul_trains.drop(mul_trains[mul_trains[\"年龄\"] >= 84].index,inplace=True)\n",
    "mul_fea_train = pd.read_csv(\"../raw_data/fea_train.csv\")\n",
    "mul_fea_test = pd.read_csv(\"../raw_data/fea_test.csv\")\n",
    "mul_fea_train1 = pd.read_csv(\"../raw_data/fea_train_1.csv\")\n",
    "mul_fea_test1 = pd.read_csv(\"../raw_data/fea_test_1.csv\")\n",
    "mul_trains = pd.merge(mul_trains, mul_fea_train, how=\"left\",on=\"id\")\n",
    "mul_trains = pd.merge(mul_trains, mul_fea_train1, how=\"left\",on=\"id\")\n",
    "mul_tests = pd.merge(mul_tests, mul_fea_test, how=\"left\",on=\"id\")\n",
    "mul_tests = pd.merge(mul_tests, mul_fea_test1, how=\"left\",on=\"id\")"
   ]
  },
  {
   "cell_type": "code",
   "execution_count": null,
   "metadata": {
    "collapsed": false
   },
   "outputs": [],
   "source": [
    "%%time\n",
    "def make_feat(train,test):\n",
    "    train_id = train.id.values.copy()\n",
    "    test_id = test.id.values.copy()\n",
    "    data = pd.concat([train,test])\n",
    "    data['性别'] = data['性别'].map({'男': 1,'女': 0})\n",
    "    # data[\"性别\"] = data['性别'].astype(int)\n",
    "    # data['date'] = (pd.to_datetime(data['date']) - parse('2017-10-09')).dt.days\n",
    "    # data['体检日期'] = (pd.to_datetime(data['体检日期']) - parse('2017-10-09')).dt.days\n",
    "    data.drop(\"体检日期\",axis = 1,inplace= True)\n",
    "    # data.fillna(value = -1, inplace = True)\n",
    "    train_feat = data[data.id.isin(train_id)]\n",
    "    test_feat = data[data.id.isin(test_id)]\n",
    "    return train_feat,test_feat\n",
    "mul_trains_eval,_ = make_feat(mul_trains, mul_tests)"
   ]
  },
  {
   "cell_type": "code",
   "execution_count": null,
   "metadata": {
    "collapsed": true
   },
   "outputs": [],
   "source": [
    "mul_col = list(mul_trains_eval.columns)\n"
   ]
  },
  {
   "cell_type": "markdown",
   "metadata": {},
   "source": [
    "## 准备数据"
   ]
  },
  {
   "cell_type": "code",
   "execution_count": null,
   "metadata": {
    "collapsed": false
   },
   "outputs": [],
   "source": [
    "mul_trains[\"血糖_c\"] = mul_trains[\"血糖\"].apply(lambda x: 0 if x < 7 else (1 if x < 8 else (2 if x < 9 else (3 if x < 10 else (4 if x < 11 else (5 if x < 12 else 6))))))\n",
    "mul_trains, mul_eval_down = train_test_split(mul_trains,test_size=0.1,random_state=42)\n",
    "lt_7 = mul_trains[mul_trains['血糖_c'] == 0]\n",
    "# gt_7 = mul_trains[mul_trains[\"血糖_c\"] != 0]\n",
    "gt_7_8 = mul_trains[mul_trains[\"血糖_c\"] == 1]\n",
    "gt_7_8 = pd.concat([gt_7_8] * 2, axis = 0)\n",
    "gt_8_9 = mul_trains[mul_trains[\"血糖_c\"] == 2]\n",
    "gt_8_9 = pd.concat([gt_8_9] * 3, axis = 0)\n",
    "gt_9_10 = mul_trains[mul_trains[\"血糖_c\"] == 3]\n",
    "gt_9_10 = pd.concat([gt_9_10] * 5, axis = 0)\n",
    "gt_10_11 = mul_trains[mul_trains[\"血糖_c\"] == 4]\n",
    "gt_10_11 = pd.concat([gt_10_11] * 8, axis = 0)\n",
    "gt_11_12 = mul_trains[mul_trains[\"血糖_c\"] == 5]\n",
    "gt_11_12 = pd.concat([gt_11_12] * 8, axis = 0)\n",
    "gt_12 = mul_trains[mul_trains[\"血糖_c\"] == 6]\n",
    "gt_12 = pd.concat([gt_12] * 4, axis = 0)\n",
    "gt_7 = pd.concat([gt_7_8,gt_8_9,gt_9_10,gt_10_11,gt_11_12,gt_12],axis=0)\n",
    "mul_trains.groupby(\"血糖_c\").size()"
   ]
  },
  {
   "cell_type": "code",
   "execution_count": null,
   "metadata": {
    "collapsed": true
   },
   "outputs": [],
   "source": []
  },
  {
   "cell_type": "code",
   "execution_count": null,
   "metadata": {
    "collapsed": false
   },
   "outputs": [],
   "source": [
    "mul_eval_down.head()"
   ]
  },
  {
   "cell_type": "markdown",
   "metadata": {},
   "source": [
    "## 训练模型"
   ]
  },
  {
   "cell_type": "code",
   "execution_count": null,
   "metadata": {
    "collapsed": false
   },
   "outputs": [],
   "source": [
    "%%time\n",
    "mul_pred = pd.DataFrame(np.zeros((1000,7)),columns=[\"pred_lt_7\",\"pred_7_8\",\"pred_8_9\",\"pred_9_10\",\"pred_10_11\",\"pred_11_12\",\"pred_gt_12\"])\n",
    "mul_train_pred = pd.DataFrame(np.zeros((mul_trains_eval.shape[0],7)),columns=[\"pred_lt_7\",\"pred_7_8\",\"pred_8_9\",\"pred_9_10\",\"pred_10_11\",\"pred_11_12\",\"pred_gt_12\"])\n",
    "i = 0\n",
    "while i < 5:\n",
    "    print(\"begin train: \",i)\n",
    "    lt_7_sample = lt_7.sample(frac=0.05,random_state= i * 5)\n",
    "    mul_trainss = pd.concat([lt_7_sample, gt_7],axis=0)\n",
    "    train, test = make_feat(mul_trainss, mul_tests)\n",
    "#     print(\"train'shape\", train.shape)\n",
    "    params={'booster':'gbtree',\n",
    "    'objective': 'multi:softprob',\n",
    "    \"subsample\":0.6,\n",
    "    \"colsample_bytree\":0.8,\n",
    "    \"lambda\":5,\n",
    "    \"seed\":1024,\n",
    "    \"silent\":1,\n",
    "    \"verbose\":0,\n",
    "    \"max_depth\":7,\n",
    "    \"alpha\":0.01,\n",
    "    \"gamma\":0.6,\n",
    "    \"num_class\":7,\n",
    "    \"eta\":0.01\n",
    "    }\n",
    "    predictors = [f for f in list(train.columns) if f not in [\"血糖\",'血糖_c',\"blood_sugar\",\"id\",\"blood_sugar_log\",\"体检日期\"]]\n",
    "    X_train, X_test, y_train,y_test = train_test_split(train[predictors], train[\"血糖_c\"],test_size=0.1,random_state=42)\n",
    "    print(\"eval's shape:\",X_test.shape)\n",
    "    xgb_train = xgb.DMatrix(X_train[predictors], label=y_train)\n",
    "    xgb_eval = xgb.DMatrix(X_test[predictors], label=y_test)\n",
    "    xgb_test = xgb.DMatrix(mul_eval_down[predictors])\n",
    "    watchlist  = [(xgb_train,'train'),(xgb_eval,\"eval\")]\n",
    "    #通过cv找最佳的nround\n",
    "    cv_log = xgb.cv(params,xgb_train,num_boost_round=25000,nfold=5,early_stopping_rounds=50,seed=1024)\n",
    "    bst_auc= cv_log['test-merror-mean'].min()\n",
    "    cv_log['nb'] = cv_log.index\n",
    "    cv_log.index = cv_log['test-merror-mean']\n",
    "    bst_nb = cv_log.nb.to_dict()[bst_auc]\n",
    "    #train\n",
    "    watchlist  = [(xgb_train,'train'),(xgb_eval,\"eval\")]\n",
    "    mul_model = xgb.train(params,xgb_train,num_boost_round=bst_nb+50,verbose_eval=False)\n",
    "    mul_test_pred = mul_model.predict(xgb_test).reshape((1000,7))\n",
    "    mul_trains_pred = mul_model.predict(xgb.DMatrix(mul_trains_eval[predictors])).reshape((mul_trains_eval.shape[0],7))\n",
    "    mul_trains_pred = pd.DataFrame(mul_trains_pred,columns=mul_train_pred.columns)\n",
    "    mul_test_pred = pd.DataFrame(mul_test_pred,columns=mul_pred.columns)\n",
    "    mul_pred = mul_test_pred + mul_pred\n",
    "    mul_train_pred += mul_trains_pred\n",
    "    i += 1\n",
    "#     print(mul_pred.head(1))\n",
    "mul_pred = mul_pred / 5\n",
    "mul_train_pred = mul_train_pred / 5"
   ]
  },
  {
   "cell_type": "code",
   "execution_count": null,
   "metadata": {
    "collapsed": false
   },
   "outputs": [],
   "source": [
    "mul_pred[\"id\"] = mul_tests[\"id\"]\n",
    "mul_train_pred[\"id\"] = mul_trains[\"id\"]\n",
    "test_pred[\"id\"] = tests[\"id\"]\n",
    "train_pred[\"id\"] = trains[\"id\"]"
   ]
  },
  {
   "cell_type": "code",
   "execution_count": null,
   "metadata": {
    "collapsed": false
   },
   "outputs": [],
   "source": [
    "mul_pred.head()\n",
    "mul_train_pred.head()"
   ]
  },
  {
   "cell_type": "code",
   "execution_count": null,
   "metadata": {
    "collapsed": false
   },
   "outputs": [],
   "source": [
    "test_pred[\"pred_7_8\"] = abs(test_pred[\"pred_gt_8\"] - test_pred[\"pred_gt_7\"])\n",
    "test_pred[\"pred_8_9\"] = abs(test_pred[\"pred_gt_9\"] - test_pred[\"pred_gt_8\"])\n",
    "test_pred[\"pred_9_10\"] = abs(test_pred[\"pred_gt_10\"] - test_pred[\"pred_gt_9\"])\n",
    "test_pred[\"pred_10_11\"] = abs(test_pred[\"pred_gt_11\"] - test_pred[\"pred_gt_10\"])\n",
    "test_pred[\"pred_11_12\"] = abs(test_pred[\"pred_gt_12\"] - test_pred[\"pred_gt_11\"])\n",
    "train_pred[\"pred_7_8\"] = abs(train_pred[\"pred_gt_8\"] - train_pred[\"pred_gt_7\"])\n",
    "train_pred[\"pred_8_9\"] = abs(train_pred[\"pred_gt_9\"] - train_pred[\"pred_gt_8\"])\n",
    "train_pred[\"pred_9_10\"] = abs(train_pred[\"pred_gt_10\"] - train_pred[\"pred_gt_9\"])\n",
    "train_pred[\"pred_10_11\"] = abs(train_pred[\"pred_gt_11\"] - train_pred[\"pred_gt_10\"])\n",
    "train_pred[\"pred_11_12\"] = abs(train_pred[\"pred_gt_12\"] - train_pred[\"pred_gt_11\"])\n",
    "test_pred.head()\n",
    "train_pred.head()\n",
    "test_pred1 = test_pred[list(mul_pred.columns)]\n",
    "train_pred1 = train_pred[list(mul_train_pred.columns)]"
   ]
  },
  {
   "cell_type": "code",
   "execution_count": null,
   "metadata": {
    "collapsed": false
   },
   "outputs": [],
   "source": [
    "test_pred1.head()\n",
    "train_pred1.head()\n",
    "mul_pred.head()\n",
    "mul_train_pred.head()\n",
    "test_mul_pred = (test_pred1 + mul_pred) / 2\n",
    "train_mul_pred = (train_pred1 + mul_train_pred) / 2\n",
    "train_mul_pred[\"血糖\"] = trains[\"血糖\"]\n",
    "test_mul_pred[\"血糖\"] = eval_down[\"血糖\"]"
   ]
  },
  {
   "cell_type": "code",
   "execution_count": null,
   "metadata": {
    "collapsed": false
   },
   "outputs": [],
   "source": [
    "test_mul_pred.head()\n",
    "train_mul_pred.head()"
   ]
  },
  {
   "cell_type": "code",
   "execution_count": null,
   "metadata": {
    "collapsed": false
   },
   "outputs": [],
   "source": [
    "train_mul_pred.to_csv(\"../train_class.csv\",index=False)\n",
    "test_mul_pred.to_csv(\"../test_class.csv\",index=False)"
   ]
  }
 ],
 "metadata": {
  "kernelspec": {
   "display_name": "Python 3",
   "language": "python",
   "name": "python3"
  },
  "language_info": {
   "codemirror_mode": {
    "name": "ipython",
    "version": 3
   },
   "file_extension": ".py",
   "mimetype": "text/x-python",
   "name": "python",
   "nbconvert_exporter": "python",
   "pygments_lexer": "ipython3",
   "version": "3.6.0"
  },
  "toc": {
   "nav_menu": {},
   "number_sections": true,
   "sideBar": true,
   "skip_h1_title": false,
   "toc_cell": false,
   "toc_position": {},
   "toc_section_display": "block",
   "toc_window_display": false
  }
 },
 "nbformat": 4,
 "nbformat_minor": 0
}
