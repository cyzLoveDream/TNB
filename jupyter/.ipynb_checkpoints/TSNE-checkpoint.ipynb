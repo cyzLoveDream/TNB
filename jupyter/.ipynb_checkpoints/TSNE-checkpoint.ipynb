{
 "cells": [
  {
   "cell_type": "markdown",
   "metadata": {
    "toc": true
   },
   "source": [
    "<h1>Table of Contents<span class=\"tocSkip\"></span></h1>\n",
    "<div class=\"toc\" style=\"margin-top: 1em;\"><ul class=\"toc-item\"><li><span><a href=\"#导入相关的包\" data-toc-modified-id=\"导入相关的包-1\"><span class=\"toc-item-num\">1&nbsp;&nbsp;</span>导入相关的包</a></span></li><li><span><a href=\"#导入相关数据\" data-toc-modified-id=\"导入相关数据-2\"><span class=\"toc-item-num\">2&nbsp;&nbsp;</span>导入相关数据</a></span></li></ul></div>"
   ]
  },
  {
   "cell_type": "markdown",
   "metadata": {},
   "source": [
    "# 导入相关的包"
   ]
  },
  {
   "cell_type": "code",
   "execution_count": 1,
   "metadata": {
    "collapsed": false
   },
   "outputs": [],
   "source": [
    "import pandas as pd\n",
    "import numpy as np\n",
    "import warnings\n",
    "from sklearn import manifold\n",
    "from matplotlib import offsetbox\n",
    "import matplotlib.pyplot as plt\n",
    "%matplotlib inline"
   ]
  },
  {
   "cell_type": "markdown",
   "metadata": {},
   "source": [
    "# 导入相关数据"
   ]
  },
  {
   "cell_type": "code",
   "execution_count": 2,
   "metadata": {
    "collapsed": false
   },
   "outputs": [],
   "source": [
    "trains = pd.read_csv(\"../clean_data/base_train.csv\")\n",
    "vals = pd.read_csv('../clean_data/model_fill_train.csv')\n",
    "tests = pd.read_csv('../clean_data/test.csv')\n",
    "fea_train = pd.read_csv(\"../raw_data/fea_train.csv\")\n",
    "fea_test = pd.read_csv(\"../raw_data/fea_test.csv\")\n",
    "fea_train1 = pd.read_csv(\"../raw_data/fea_train_1.csv\")\n",
    "fea_test1 = pd.read_csv(\"../raw_data/fea_test_1.csv\")\n",
    "fea_train2 = pd.read_csv(\"../raw_data/fea_train_2.csv\")\n",
    "fea_test2 = pd.read_csv(\"../raw_data/fea_test_2.csv\")\n",
    "trains = pd.concat([trains, vals], axis=0, ignore_index=True)\n"
   ]
  },
  {
   "cell_type": "code",
   "execution_count": 3,
   "metadata": {
    "collapsed": false
   },
   "outputs": [],
   "source": [
    "features = [x for x in list(trains.columns) if x not in [\"id\",\"date\",'blood_sugar','blood_sugar_log']]\n",
    "x = np.array(trains[features])\n",
    "y = np.array(trains[\"blood_sugar\"])\n",
    "n_samples, n_features = x.shape\n",
    "n_neighbors = 30"
   ]
  },
  {
   "cell_type": "code",
   "execution_count": 14,
   "metadata": {
    "collapsed": false
   },
   "outputs": [],
   "source": [
    "def plot_embedding(X, title=None):\n",
    "    x_min, x_max = np.min(X, 0), np.max(X, 0)\n",
    "    X = (X - x_min) / (x_max - x_min)     \n",
    "    plt.figure()\n",
    "    ax = plt.subplot(111)\n",
    "    for i in range(X.shape[0]):\n",
    "        plt.text(X[i, 0], X[i, 1], str(np.array(trains[\"blood_sugar\"])[i]),\n",
    "                 fontdict={'weight': 'bold', 'size': 9})\n",
    "    if hasattr(offsetbox, 'AnnotationBbox'):\n",
    "        ## only print thumbnails with matplotlib > 1.0\n",
    "        shown_images = np.array([[1., 1.]])  # just something big\n",
    "        for i in range(n_samples):\n",
    "            dist = np.sum((X[i] - shown_images) ** 2, 1)\n",
    "            if np.min(dist) < 4e-3:\n",
    "                ## don't show points that are too close\n",
    "                continue\n",
    "            shown_images = np.r_[shown_images, [X[i]]]\n",
    "            imagebox = offsetbox.AnnotationBbox(\n",
    "                offsetbox.OffsetImage(digits.images[i], cmap=plt.cm.gray_r),\n",
    "                X[i])\n",
    "            ax.add_artist(imagebox)\n",
    "    plt.xticks([]), plt.yticks([])\n",
    "    if title is not None:\n",
    "        plt.title(title)"
   ]
  },
  {
   "cell_type": "code",
   "execution_count": 6,
   "metadata": {
    "collapsed": false
   },
   "outputs": [
    {
     "ename": "ValueError",
     "evalue": "'n_components' should be inferior to 4 for the barnes_hut algorithm as it relies on quad-tree or oct-tree.",
     "output_type": "error",
     "traceback": [
      "\u001b[1;31m---------------------------------------------------------------------------\u001b[0m",
      "\u001b[1;31mValueError\u001b[0m                                Traceback (most recent call last)",
      "\u001b[1;32m<timed exec>\u001b[0m in \u001b[0;36m<module>\u001b[1;34m()\u001b[0m\n",
      "\u001b[1;32mD:\\ProgramAPP\\python\\anaconda\\lib\\site-packages\\sklearn\\manifold\\t_sne.py\u001b[0m in \u001b[0;36mfit_transform\u001b[1;34m(self, X, y)\u001b[0m\n\u001b[0;32m    856\u001b[0m             \u001b[0mEmbedding\u001b[0m \u001b[0mof\u001b[0m \u001b[0mthe\u001b[0m \u001b[0mtraining\u001b[0m \u001b[0mdata\u001b[0m \u001b[1;32min\u001b[0m \u001b[0mlow\u001b[0m\u001b[1;33m-\u001b[0m\u001b[0mdimensional\u001b[0m \u001b[0mspace\u001b[0m\u001b[1;33m.\u001b[0m\u001b[1;33m\u001b[0m\u001b[0m\n\u001b[0;32m    857\u001b[0m         \"\"\"\n\u001b[1;32m--> 858\u001b[1;33m         \u001b[0membedding\u001b[0m \u001b[1;33m=\u001b[0m \u001b[0mself\u001b[0m\u001b[1;33m.\u001b[0m\u001b[0m_fit\u001b[0m\u001b[1;33m(\u001b[0m\u001b[0mX\u001b[0m\u001b[1;33m)\u001b[0m\u001b[1;33m\u001b[0m\u001b[0m\n\u001b[0m\u001b[0;32m    859\u001b[0m         \u001b[0mself\u001b[0m\u001b[1;33m.\u001b[0m\u001b[0membedding_\u001b[0m \u001b[1;33m=\u001b[0m \u001b[0membedding\u001b[0m\u001b[1;33m\u001b[0m\u001b[0m\n\u001b[0;32m    860\u001b[0m         \u001b[1;32mreturn\u001b[0m \u001b[0mself\u001b[0m\u001b[1;33m.\u001b[0m\u001b[0membedding_\u001b[0m\u001b[1;33m\u001b[0m\u001b[0m\n",
      "\u001b[1;32mD:\\ProgramAPP\\python\\anaconda\\lib\\site-packages\\sklearn\\manifold\\t_sne.py\u001b[0m in \u001b[0;36m_fit\u001b[1;34m(self, X, skip_num_points)\u001b[0m\n\u001b[0;32m    660\u001b[0m                             dtype=[np.float32, np.float64])\n\u001b[0;32m    661\u001b[0m         \u001b[1;32mif\u001b[0m \u001b[0mself\u001b[0m\u001b[1;33m.\u001b[0m\u001b[0mmethod\u001b[0m \u001b[1;33m==\u001b[0m \u001b[1;34m'barnes_hut'\u001b[0m \u001b[1;32mand\u001b[0m \u001b[0mself\u001b[0m\u001b[1;33m.\u001b[0m\u001b[0mn_components\u001b[0m \u001b[1;33m>\u001b[0m \u001b[1;36m3\u001b[0m\u001b[1;33m:\u001b[0m\u001b[1;33m\u001b[0m\u001b[0m\n\u001b[1;32m--> 662\u001b[1;33m             raise ValueError(\"'n_components' should be inferior to 4 for the \"\n\u001b[0m\u001b[0;32m    663\u001b[0m                              \u001b[1;34m\"barnes_hut algorithm as it relies on \"\u001b[0m\u001b[1;33m\u001b[0m\u001b[0m\n\u001b[0;32m    664\u001b[0m                              \"quad-tree or oct-tree.\")\n",
      "\u001b[1;31mValueError\u001b[0m: 'n_components' should be inferior to 4 for the barnes_hut algorithm as it relies on quad-tree or oct-tree."
     ]
    }
   ],
   "source": [
    "%%time\n",
    "tsne = manifold.TSNE(n_components=3, init='pca', random_state=0)\n",
    "# tsne.fit(X= x, y=y)\n",
    "train_tsne = tsne.fit_transform(x)\n",
    "test_tsne = tsne.fit_transform(np.array(tests[features]))"
   ]
  },
  {
   "cell_type": "code",
   "execution_count": 35,
   "metadata": {
    "collapsed": true
   },
   "outputs": [],
   "source": [
    "t = tsne.fit_transform(x, y)"
   ]
  },
  {
   "cell_type": "code",
   "execution_count": 36,
   "metadata": {
    "collapsed": false
   },
   "outputs": [
    {
     "data": {
      "text/plain": [
       "array([[   5.96210575,  -78.77480316,  -11.52616692],\n",
       "       [ 128.53886414,   22.43551254,    2.14327002],\n",
       "       [ 104.22690582,    2.49462342,  -28.38892937],\n",
       "       ..., \n",
       "       [-131.43951416,   -5.92260504,   14.55525112],\n",
       "       [ -24.42755699,   28.47005272,   -4.05554724],\n",
       "       [ -85.99012756,   77.68096161,   -9.70293903]], dtype=float32)"
      ]
     },
     "execution_count": 36,
     "metadata": {},
     "output_type": "execute_result"
    }
   ],
   "source": [
    "t"
   ]
  },
  {
   "cell_type": "code",
   "execution_count": 31,
   "metadata": {
    "collapsed": false
   },
   "outputs": [
    {
     "data": {
      "text/plain": [
       "array([[   5.96210575,  -78.77480316,  -11.52616692],\n",
       "       [ 128.53886414,   22.43551254,    2.14327002],\n",
       "       [ 104.22690582,    2.49462342,  -28.38892937],\n",
       "       ..., \n",
       "       [-131.43951416,   -5.92260504,   14.55525112],\n",
       "       [ -24.42755699,   28.47005272,   -4.05554724],\n",
       "       [ -85.99012756,   77.68096161,   -9.70293903]], dtype=float32)"
      ]
     },
     "execution_count": 31,
     "metadata": {},
     "output_type": "execute_result"
    },
    {
     "data": {
      "text/plain": [
       "array([[ -54.95947266,    0.89979374,   31.61561394],\n",
       "       [  57.72548294,  -25.72467804,   65.83312988],\n",
       "       [  15.45962811,  143.61976624,    2.34468555],\n",
       "       ..., \n",
       "       [-124.19496918,    5.77694845,  -45.56590271],\n",
       "       [ -72.3890686 ,   14.34344673,  -28.39225388],\n",
       "       [ -34.32613373,  -16.17161751,    4.69023085]], dtype=float32)"
      ]
     },
     "execution_count": 31,
     "metadata": {},
     "output_type": "execute_result"
    }
   ],
   "source": [
    "train_tsne\n",
    "test_tsne"
   ]
  },
  {
   "cell_type": "code",
   "execution_count": 37,
   "metadata": {
    "collapsed": false
   },
   "outputs": [],
   "source": [
    "pd_train_tsne = pd.DataFrame(train_tsne,columns=[\"tsne_1\",\"tsne_2\",\"tsne_3\"])\n",
    "pd_train_tsne[\"id\"] = trains[\"id\"]\n",
    "pd_test_tsne = pd.DataFrame(test_tsne,columns=[\"tsne_1\",\"tsne_2\",\"tsne_3\"])\n",
    "pd_test_tsne[\"id\"] = tests[\"id\"]"
   ]
  },
  {
   "cell_type": "code",
   "execution_count": 38,
   "metadata": {
    "collapsed": false
   },
   "outputs": [
    {
     "data": {
      "text/html": [
       "<div>\n",
       "<style>\n",
       "    .dataframe thead tr:only-child th {\n",
       "        text-align: right;\n",
       "    }\n",
       "\n",
       "    .dataframe thead th {\n",
       "        text-align: left;\n",
       "    }\n",
       "\n",
       "    .dataframe tbody tr th {\n",
       "        vertical-align: top;\n",
       "    }\n",
       "</style>\n",
       "<table border=\"1\" class=\"dataframe\">\n",
       "  <thead>\n",
       "    <tr style=\"text-align: right;\">\n",
       "      <th></th>\n",
       "      <th>tsne_1</th>\n",
       "      <th>tsne_2</th>\n",
       "      <th>tsne_3</th>\n",
       "      <th>id</th>\n",
       "    </tr>\n",
       "  </thead>\n",
       "  <tbody>\n",
       "    <tr>\n",
       "      <th>0</th>\n",
       "      <td>5.962106</td>\n",
       "      <td>-78.774803</td>\n",
       "      <td>-11.526167</td>\n",
       "      <td>1</td>\n",
       "    </tr>\n",
       "    <tr>\n",
       "      <th>1</th>\n",
       "      <td>128.538864</td>\n",
       "      <td>22.435513</td>\n",
       "      <td>2.143270</td>\n",
       "      <td>2</td>\n",
       "    </tr>\n",
       "    <tr>\n",
       "      <th>2</th>\n",
       "      <td>104.226906</td>\n",
       "      <td>2.494623</td>\n",
       "      <td>-28.388929</td>\n",
       "      <td>3</td>\n",
       "    </tr>\n",
       "    <tr>\n",
       "      <th>3</th>\n",
       "      <td>14.666829</td>\n",
       "      <td>15.587373</td>\n",
       "      <td>-53.958164</td>\n",
       "      <td>4</td>\n",
       "    </tr>\n",
       "    <tr>\n",
       "      <th>4</th>\n",
       "      <td>30.918358</td>\n",
       "      <td>13.577907</td>\n",
       "      <td>-31.899845</td>\n",
       "      <td>6</td>\n",
       "    </tr>\n",
       "  </tbody>\n",
       "</table>\n",
       "</div>"
      ],
      "text/plain": [
       "       tsne_1     tsne_2     tsne_3  id\n",
       "0    5.962106 -78.774803 -11.526167   1\n",
       "1  128.538864  22.435513   2.143270   2\n",
       "2  104.226906   2.494623 -28.388929   3\n",
       "3   14.666829  15.587373 -53.958164   4\n",
       "4   30.918358  13.577907 -31.899845   6"
      ]
     },
     "execution_count": 38,
     "metadata": {},
     "output_type": "execute_result"
    }
   ],
   "source": [
    "pd_train_tsne.head()\n",
    "pd_train_tsne.to_csv(\"../raw_data/fea_train_2.csv\",index=False)"
   ]
  },
  {
   "cell_type": "code",
   "execution_count": 39,
   "metadata": {
    "collapsed": false
   },
   "outputs": [
    {
     "data": {
      "text/html": [
       "<div>\n",
       "<style>\n",
       "    .dataframe thead tr:only-child th {\n",
       "        text-align: right;\n",
       "    }\n",
       "\n",
       "    .dataframe thead th {\n",
       "        text-align: left;\n",
       "    }\n",
       "\n",
       "    .dataframe tbody tr th {\n",
       "        vertical-align: top;\n",
       "    }\n",
       "</style>\n",
       "<table border=\"1\" class=\"dataframe\">\n",
       "  <thead>\n",
       "    <tr style=\"text-align: right;\">\n",
       "      <th></th>\n",
       "      <th>tsne_1</th>\n",
       "      <th>tsne_2</th>\n",
       "      <th>tsne_3</th>\n",
       "      <th>id</th>\n",
       "    </tr>\n",
       "  </thead>\n",
       "  <tbody>\n",
       "    <tr>\n",
       "      <th>0</th>\n",
       "      <td>-54.959473</td>\n",
       "      <td>0.899794</td>\n",
       "      <td>31.615614</td>\n",
       "      <td>5733</td>\n",
       "    </tr>\n",
       "    <tr>\n",
       "      <th>1</th>\n",
       "      <td>57.725483</td>\n",
       "      <td>-25.724678</td>\n",
       "      <td>65.833130</td>\n",
       "      <td>5734</td>\n",
       "    </tr>\n",
       "    <tr>\n",
       "      <th>2</th>\n",
       "      <td>15.459628</td>\n",
       "      <td>143.619766</td>\n",
       "      <td>2.344686</td>\n",
       "      <td>5735</td>\n",
       "    </tr>\n",
       "    <tr>\n",
       "      <th>3</th>\n",
       "      <td>-36.209980</td>\n",
       "      <td>-1.271404</td>\n",
       "      <td>12.749615</td>\n",
       "      <td>5736</td>\n",
       "    </tr>\n",
       "    <tr>\n",
       "      <th>4</th>\n",
       "      <td>33.726761</td>\n",
       "      <td>89.874695</td>\n",
       "      <td>-28.118027</td>\n",
       "      <td>5739</td>\n",
       "    </tr>\n",
       "  </tbody>\n",
       "</table>\n",
       "</div>"
      ],
      "text/plain": [
       "      tsne_1      tsne_2     tsne_3    id\n",
       "0 -54.959473    0.899794  31.615614  5733\n",
       "1  57.725483  -25.724678  65.833130  5734\n",
       "2  15.459628  143.619766   2.344686  5735\n",
       "3 -36.209980   -1.271404  12.749615  5736\n",
       "4  33.726761   89.874695 -28.118027  5739"
      ]
     },
     "execution_count": 39,
     "metadata": {},
     "output_type": "execute_result"
    }
   ],
   "source": [
    "pd_test_tsne.head()\n",
    "pd_test_tsne.to_csv(\"../raw_data/fea_test_2.csv\",index=False)"
   ]
  }
 ],
 "metadata": {
  "kernelspec": {
   "display_name": "Python 3",
   "language": "python",
   "name": "python3"
  },
  "language_info": {
   "codemirror_mode": {
    "name": "ipython",
    "version": 3
   },
   "file_extension": ".py",
   "mimetype": "text/x-python",
   "name": "python",
   "nbconvert_exporter": "python",
   "pygments_lexer": "ipython3",
   "version": "3.6.0"
  },
  "toc": {
   "nav_menu": {},
   "number_sections": true,
   "sideBar": true,
   "skip_h1_title": false,
   "toc_cell": true,
   "toc_position": {},
   "toc_section_display": "block",
   "toc_window_display": false
  }
 },
 "nbformat": 4,
 "nbformat_minor": 2
}
