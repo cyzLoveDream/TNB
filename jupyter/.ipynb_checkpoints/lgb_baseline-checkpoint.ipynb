{
 "cells": [
  {
   "cell_type": "markdown",
   "metadata": {
    "toc": true
   },
   "source": [
    "<h1>Table of Contents<span class=\"tocSkip\"></span></h1>\n",
    "<div class=\"toc\" style=\"margin-top: 1em;\"><ul class=\"toc-item\"><li><span><a href=\"#导入相关的包\" data-toc-modified-id=\"导入相关的包-1\"><span class=\"toc-item-num\">1&nbsp;&nbsp;</span>导入相关的包</a></span></li><li><span><a href=\"#读入相关数据\" data-toc-modified-id=\"读入相关数据-2\"><span class=\"toc-item-num\">2&nbsp;&nbsp;</span>读入相关数据</a></span></li><li><span><a href=\"#初步处理\" data-toc-modified-id=\"初步处理-3\"><span class=\"toc-item-num\">3&nbsp;&nbsp;</span>初步处理</a></span></li><li><span><a href=\"#模型参数\" data-toc-modified-id=\"模型参数-4\"><span class=\"toc-item-num\">4&nbsp;&nbsp;</span>模型参数</a></span></li><li><span><a href=\"#交叉验证训练\" data-toc-modified-id=\"交叉验证训练-5\"><span class=\"toc-item-num\">5&nbsp;&nbsp;</span>交叉验证训练</a></span></li><li><span><a href=\"#形成提交结果\" data-toc-modified-id=\"形成提交结果-6\"><span class=\"toc-item-num\">6&nbsp;&nbsp;</span>形成提交结果</a></span></li></ul></div>"
   ]
  },
  {
   "cell_type": "markdown",
   "metadata": {},
   "source": [
    "# 导入相关的包"
   ]
  },
  {
   "cell_type": "code",
   "execution_count": 1,
   "metadata": {
    "collapsed": false
   },
   "outputs": [
    {
     "name": "stderr",
     "output_type": "stream",
     "text": [
      "D:\\ProgramData\\Anaconda3\\lib\\site-packages\\sklearn\\cross_validation.py:41: DeprecationWarning: This module was deprecated in version 0.18 in favor of the model_selection module into which all the refactored classes and functions are moved. Also note that the interface of the new CV iterators are different from that of this module. This module will be removed in 0.20.\n",
      "  \"This module will be removed in 0.20.\", DeprecationWarning)\n"
     ]
    }
   ],
   "source": [
    "import time\n",
    "import datetime\n",
    "import numpy as np\n",
    "import pandas as pd\n",
    "import lightgbm as lgb\n",
    "from dateutil.parser import parse\n",
    "from sklearn.cross_validation import KFold\n",
    "from sklearn.metrics import mean_squared_error\n",
    "%matplotlib inline"
   ]
  },
  {
   "cell_type": "markdown",
   "metadata": {},
   "source": [
    "# 读入相关数据"
   ]
  },
  {
   "cell_type": "code",
   "execution_count": 3,
   "metadata": {
    "collapsed": false
   },
   "outputs": [],
   "source": [
    "trains = pd.read_csv('../raw_data/d_train.csv',encoding=\"gbk\")\n",
    "tests = pd.read_csv(\"../raw_data/d_test_A.csv\",encoding=\"gbk\")\n",
    "fea_train = pd.read_csv(\"../raw_data/fea_train.csv\")\n",
    "fea_test = pd.read_csv(\"../raw_data/fea_test.csv\")\n",
    "trains.drop(trains[trains[\"年龄\"] < 20].index,inplace=True)\n",
    "trains.drop(trains[trains[\"年龄\"] > 85].index,inplace=True)\n",
    "trains.drop(trains[trains[\"血糖\"] > 15].index,inplace=True)\n",
    "trains = pd.merge(trains, fea_train, how=\"left\",on=\"id\")\n",
    "tests = pd.merge(tests, fea_test, how=\"left\",on=\"id\")"
   ]
  },
  {
   "cell_type": "markdown",
   "metadata": {},
   "source": [
    "# 初步处理"
   ]
  },
  {
   "cell_type": "code",
   "execution_count": 4,
   "metadata": {
    "collapsed": true
   },
   "outputs": [],
   "source": [
    "def make_feat(train,test):\n",
    "    train_id = train.id.values.copy()\n",
    "    test_id = test.id.values.copy()\n",
    "    data = pd.concat([train,test])\n",
    "    data['性别'] = data['性别'].map({'男': 1,'女': 0})\n",
    "    data['体检日期'] = (pd.to_datetime(data['体检日期']) - parse('2017-10-09')).dt.days\n",
    "    # data.drop(\"体检日期\",axis = 1,inplace= True)\n",
    "    # data.fillna(data.median(axis=0))\n",
    "    train_feat = data[data.id.isin(train_id)]\n",
    "    test_feat = data[data.id.isin(test_id)]\n",
    "    return train_feat,test_feat\n",
    "def evalerror(pred,df):\n",
    "    label = df.get_label().values.copy()\n",
    "    score = mean_squared_error(label,pred) * 0.5\n",
    "    return ('mse',score,False)"
   ]
  },
  {
   "cell_type": "markdown",
   "metadata": {},
   "source": [
    "# 模型参数"
   ]
  },
  {
   "cell_type": "code",
   "execution_count": 5,
   "metadata": {
    "collapsed": true
   },
   "outputs": [],
   "source": [
    "params = {\n",
    "    'learning_rate': 0.015,\n",
    "    'boosting_type': 'gbdt',\n",
    "    'objective': 'regression',\n",
    "    'metric': 'mse',\n",
    "    'sub_feature': 0.7,\n",
    "    'num_leaves': 32,\n",
    "    'min_data_in_leaf': 25,\n",
    "    'bagging_fraction':0.8,\n",
    "    \"feature_fraction\":0.7,\n",
    "    'min_sum_hessian_in_leaf': 1,\n",
    "    'verbose': -1,\n",
    "    \"max_depth\":6,\n",
    "    \"max_bin\":150,\n",
    "    \"lambda_l2\":0.3\n",
    "    }"
   ]
  },
  {
   "cell_type": "markdown",
   "metadata": {},
   "source": [
    "# 交叉验证训练"
   ]
  },
  {
   "cell_type": "code",
   "execution_count": null,
   "metadata": {
    "collapsed": false
   },
   "outputs": [
    {
     "name": "stdout",
     "output_type": "stream",
     "text": [
      "第0次训练...\n",
      "Train until valid scores didn't improve in 50 rounds.\n",
      "[100]\tvalid_0's l2: 1.12587\tvalid_0's mse: 0.562937\n",
      "[200]\tvalid_0's l2: 1.08168\tvalid_0's mse: 0.540841\n",
      "[300]\tvalid_0's l2: 1.07363\tvalid_0's mse: 0.536813\n",
      "Early stopping, best iteration is:\n",
      "[275]\tvalid_0's l2: 1.07244\tvalid_0's mse: 0.536221\n",
      "第1次训练...\n",
      "Train until valid scores didn't improve in 50 rounds.\n",
      "[100]\tvalid_0's l2: 1.58713\tvalid_0's mse: 0.793566\n",
      "[200]\tvalid_0's l2: 1.52794\tvalid_0's mse: 0.763969\n",
      "[300]\tvalid_0's l2: 1.49794\tvalid_0's mse: 0.748969\n",
      "[400]\tvalid_0's l2: 1.4813\tvalid_0's mse: 0.740651\n",
      "[500]\tvalid_0's l2: 1.47456\tvalid_0's mse: 0.737279\n",
      "Early stopping, best iteration is:\n",
      "[494]\tvalid_0's l2: 1.47407\tvalid_0's mse: 0.737033\n",
      "第2次训练...\n",
      "Train until valid scores didn't improve in 50 rounds.\n",
      "[100]\tvalid_0's l2: 1.37083\tvalid_0's mse: 0.685414\n",
      "[200]\tvalid_0's l2: 1.30031\tvalid_0's mse: 0.650157\n",
      "[300]\tvalid_0's l2: 1.26857\tvalid_0's mse: 0.634284\n",
      "[400]\tvalid_0's l2: 1.25506\tvalid_0's mse: 0.627531\n",
      "Early stopping, best iteration is:\n",
      "[408]\tvalid_0's l2: 1.25478\tvalid_0's mse: 0.627389\n",
      "第3次训练...\n",
      "Train until valid scores didn't improve in 50 rounds.\n",
      "[100]\tvalid_0's l2: 1.48847\tvalid_0's mse: 0.744235\n",
      "[200]\tvalid_0's l2: 1.45063\tvalid_0's mse: 0.725316\n"
     ]
    }
   ],
   "source": [
    "%%time\n",
    "train, test = make_feat(trains, tests)\n",
    "predictors = [f for f in list(train.columns) if f not in [\"血糖\",\"blood_sugar\",\"id\",\"blood_sugar_log\"]]\n",
    "scores = []\n",
    "t0 = time.time()\n",
    "train_preds = np.zeros(train.shape[0])\n",
    "test_preds = np.zeros((test.shape[0],10))\n",
    "feat_imp = pd.DataFrame()\n",
    "kf = KFold(len(train),n_folds=10,shuffle=True,random_state=1024)\n",
    "for i,(train_index,test_index) in enumerate(kf):\n",
    "    print('第{}次训练...'.format(i))\n",
    "    train_feat1 = train.iloc[train_index]\n",
    "    train_feat2 = train.iloc[test_index]\n",
    "    lgb_train1 = lgb.Dataset(train_feat1[predictors],train_feat1['血糖'])\n",
    "    lgb_train2 = lgb.Dataset(train_feat2[predictors],train_feat2['血糖'])\n",
    "    gbm = lgb.train(params,\n",
    "                    lgb_train1,\n",
    "                    num_boost_round=3000,\n",
    "                    valid_sets=lgb_train2,\n",
    "                    verbose_eval=100,\n",
    "                    feval=evalerror,\n",
    "                    early_stopping_rounds=50)\n",
    "    feat_i = pd.DataFrame(pd.Series(gbm.feature_importance(),index=predictors).sort_values(ascending=False))\n",
    "    feat_imp = pd.concat([feat_imp, feat_i],axis=1)\n",
    "    train_preds[test_index] += gbm.predict(train_feat2[predictors],num_iteration=gbm.best_iteration)\n",
    "    test_preds[:,i] = gbm.predict(test[predictors],num_iteration=gbm.best_iteration)"
   ]
  },
  {
   "cell_type": "markdown",
   "metadata": {},
   "source": [
    "# 形成提交结果"
   ]
  },
  {
   "cell_type": "code",
   "execution_count": 9,
   "metadata": {
    "collapsed": false
   },
   "outputs": [
    {
     "name": "stdout",
     "output_type": "stream",
     "text": [
      "线下得分：    0.6145393093157447\n",
      "CV训练用时49.51361036300659秒\n",
      "              pred\n",
      "count  1000.000000\n",
      "mean      5.677924\n",
      "std       0.533952\n",
      "min       4.852984\n",
      "25%       5.269824\n",
      "50%       5.561731\n",
      "75%       5.938684\n",
      "max       8.459070\n"
     ]
    }
   ],
   "source": [
    "print('线下得分：    {}'.format(mean_squared_error(train['血糖'],train_preds) * 0.5))\n",
    "submission = pd.DataFrame({'pred': test_preds.mean(axis=1)})\n",
    "print(submission.describe())\n",
    "# submission.to_csv(r'./submission/sub_lgb_9_1_c.csv',header=False,index=False)"
   ]
  }
 ],
 "metadata": {
  "kernelspec": {
   "display_name": "Python 3",
   "language": "python",
   "name": "python3"
  },
  "language_info": {
   "codemirror_mode": {
    "name": "ipython",
    "version": 3
   },
   "file_extension": ".py",
   "mimetype": "text/x-python",
   "name": "python",
   "nbconvert_exporter": "python",
   "pygments_lexer": "ipython3",
   "version": "3.6.0"
  },
  "toc": {
   "nav_menu": {},
   "number_sections": true,
   "sideBar": true,
   "skip_h1_title": false,
   "toc_cell": true,
   "toc_position": {},
   "toc_section_display": "block",
   "toc_window_display": false
  }
 },
 "nbformat": 4,
 "nbformat_minor": 2
}
